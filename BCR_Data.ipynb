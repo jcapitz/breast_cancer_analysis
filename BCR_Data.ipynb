{
 "cells": [
  {
   "cell_type": "markdown",
   "metadata": {},
   "source": [
    "#Analysis of Cancer Gene Expression Data\n",
    "\n",
    "#####Python main module imports for data analysis"
   ]
  },
  {
   "cell_type": "code",
   "execution_count": 1,
   "metadata": {
    "collapsed": false
   },
   "outputs": [
    {
     "name": "stdout",
     "output_type": "stream",
     "text": [
      "Couldn't import dot_parser, loading of dot files will not be possible.\n"
     ]
    }
   ],
   "source": [
    "# Data Imports\n",
    "import numpy as np\n",
    "import pandas as pd\n",
    "from pandas import Series,DataFrame\n",
    "\n",
    "# Math\n",
    "import math\n",
    "\n",
    "# Plot imports\n",
    "import matplotlib.pyplot as plt\n",
    "import seaborn as sns\n",
    "sns.set_style('whitegrid')\n",
    "%matplotlib inline\n",
    "\n",
    "# Preprocessing Imports\n",
    "from sklearn.preprocessing import normalize\n",
    "\n",
    "# Machine Learning Imports\n",
    "from sklearn.linear_model import LogisticRegression\n",
    "from sklearn.linear_model import SGDClassifier\n",
    "from sklearn.preprocessing import StandardScaler\n",
    "\n",
    "\n",
    "from sklearn.linear_model import RandomizedLogisticRegression\n",
    "from sklearn.cross_validation import train_test_split\n",
    "\n",
    "# For evaluating our ML results\n",
    "from sklearn import metrics\n",
    "from sklearn.metrics import roc_auc_score, confusion_matrix\n",
    "\n",
    "# For Spectral Clustering algorithms\n",
    "from sklearn import cluster\n",
    "from sklearn.neighbors import kneighbors_graph\n",
    "\n",
    "# network imports\n",
    "import networkx as nx\n",
    "import igraph as ig"
   ]
  },
  {
   "cell_type": "markdown",
   "metadata": {},
   "source": [
    "###Data Cleaning\n",
    "\n",
    "#####Choose the data set:"
   ]
  },
  {
   "cell_type": "code",
   "execution_count": 2,
   "metadata": {
    "collapsed": false
   },
   "outputs": [
    {
     "name": "stdout",
     "output_type": "stream",
     "text": [
      "enter 'b' for breast cancer, 'l' for lynphoma cancer, or 'p' for prostate cancer: l\n"
     ]
    }
   ],
   "source": [
    "# read data file\n",
    "chooseData = raw_input(\"enter 'b' for breast cancer, 'l' for lynphoma cancer, or 'p' for prostate cancer: \")\n",
    "\n",
    "if chooseData == 'b':\n",
    "    datafile = '~/Documents/THESIS/data/ICOS_DATA/breast_preprocessed.txt'\n",
    "elif chooseData == 'l':\n",
    "    datafile = '~/Documents/THESIS/data/ICOS_DATA/dlbcl_preprocessed.txt'\n",
    "else:\n",
    "    datafile = '~/Documents/THESIS/data/ICOS_DATA/prostate_preprocessed.txt'\n",
    "\n",
    "data = pd.read_table(datafile, delim_whitespace = True, \n",
    "                     dtype={'a': np.float64}, header = None)"
   ]
  },
  {
   "cell_type": "code",
   "execution_count": 3,
   "metadata": {
    "collapsed": false
   },
   "outputs": [
    {
     "name": "stdout",
     "output_type": "stream",
     "text": [
      "(2648, 78)\n"
     ]
    },
    {
     "data": {
      "text/html": [
       "<div>\n",
       "<table border=\"1\" class=\"dataframe\">\n",
       "  <thead>\n",
       "    <tr style=\"text-align: right;\">\n",
       "      <th></th>\n",
       "      <th>0</th>\n",
       "      <th>1</th>\n",
       "      <th>2</th>\n",
       "      <th>3</th>\n",
       "      <th>4</th>\n",
       "      <th>5</th>\n",
       "      <th>6</th>\n",
       "      <th>7</th>\n",
       "      <th>8</th>\n",
       "      <th>9</th>\n",
       "      <th>...</th>\n",
       "      <th>68</th>\n",
       "      <th>69</th>\n",
       "      <th>70</th>\n",
       "      <th>71</th>\n",
       "      <th>72</th>\n",
       "      <th>73</th>\n",
       "      <th>74</th>\n",
       "      <th>75</th>\n",
       "      <th>76</th>\n",
       "      <th>77</th>\n",
       "    </tr>\n",
       "  </thead>\n",
       "  <tbody>\n",
       "    <tr>\n",
       "      <th>2643</th>\n",
       "      <td>Z84721_cds2_at</td>\n",
       "      <td>905.578221</td>\n",
       "      <td>3936.153114</td>\n",
       "      <td>1319.648120</td>\n",
       "      <td>2064.441780</td>\n",
       "      <td>954.599133</td>\n",
       "      <td>766.040336</td>\n",
       "      <td>1223.632838</td>\n",
       "      <td>895.526348</td>\n",
       "      <td>1165.567643</td>\n",
       "      <td>...</td>\n",
       "      <td>1291.666915</td>\n",
       "      <td>869.773220</td>\n",
       "      <td>1208.808797</td>\n",
       "      <td>1122.836763</td>\n",
       "      <td>2773.636510</td>\n",
       "      <td>969.386619</td>\n",
       "      <td>1147.144259</td>\n",
       "      <td>3155.294621</td>\n",
       "      <td>964.280525</td>\n",
       "      <td>1164.746332</td>\n",
       "    </tr>\n",
       "    <tr>\n",
       "      <th>2644</th>\n",
       "      <td>Z96810_at</td>\n",
       "      <td>580.771046</td>\n",
       "      <td>472.418714</td>\n",
       "      <td>583.712057</td>\n",
       "      <td>449.752520</td>\n",
       "      <td>507.218794</td>\n",
       "      <td>528.342437</td>\n",
       "      <td>653.004285</td>\n",
       "      <td>502.241450</td>\n",
       "      <td>484.675303</td>\n",
       "      <td>...</td>\n",
       "      <td>575.437309</td>\n",
       "      <td>560.242917</td>\n",
       "      <td>485.169986</td>\n",
       "      <td>1571.594285</td>\n",
       "      <td>635.924068</td>\n",
       "      <td>652.320983</td>\n",
       "      <td>538.414956</td>\n",
       "      <td>468.296912</td>\n",
       "      <td>659.021178</td>\n",
       "      <td>475.584991</td>\n",
       "    </tr>\n",
       "    <tr>\n",
       "      <th>2645</th>\n",
       "      <td>Z97054_xpt2_at</td>\n",
       "      <td>955.626595</td>\n",
       "      <td>1272.108045</td>\n",
       "      <td>791.795105</td>\n",
       "      <td>1373.169909</td>\n",
       "      <td>1757.786262</td>\n",
       "      <td>1008.492248</td>\n",
       "      <td>764.477007</td>\n",
       "      <td>1215.768535</td>\n",
       "      <td>1253.984350</td>\n",
       "      <td>...</td>\n",
       "      <td>1591.234477</td>\n",
       "      <td>851.850369</td>\n",
       "      <td>918.785194</td>\n",
       "      <td>1997.945700</td>\n",
       "      <td>1317.514201</td>\n",
       "      <td>952.216022</td>\n",
       "      <td>1063.618712</td>\n",
       "      <td>1307.294600</td>\n",
       "      <td>853.967632</td>\n",
       "      <td>720.107842</td>\n",
       "    </tr>\n",
       "    <tr>\n",
       "      <th>2646</th>\n",
       "      <td>Z97074_at</td>\n",
       "      <td>707.119503</td>\n",
       "      <td>783.978554</td>\n",
       "      <td>748.638380</td>\n",
       "      <td>967.288647</td>\n",
       "      <td>904.119880</td>\n",
       "      <td>590.276417</td>\n",
       "      <td>727.140558</td>\n",
       "      <td>1167.820219</td>\n",
       "      <td>883.221908</td>\n",
       "      <td>...</td>\n",
       "      <td>699.628686</td>\n",
       "      <td>665.740927</td>\n",
       "      <td>1075.546688</td>\n",
       "      <td>1199.826348</td>\n",
       "      <td>1024.971307</td>\n",
       "      <td>1394.317578</td>\n",
       "      <td>716.939115</td>\n",
       "      <td>771.630292</td>\n",
       "      <td>734.264437</td>\n",
       "      <td>741.942475</td>\n",
       "    </tr>\n",
       "    <tr>\n",
       "      <th>2647</th>\n",
       "      <td>ydlbcl</td>\n",
       "      <td>1.000000</td>\n",
       "      <td>1.000000</td>\n",
       "      <td>1.000000</td>\n",
       "      <td>1.000000</td>\n",
       "      <td>1.000000</td>\n",
       "      <td>1.000000</td>\n",
       "      <td>1.000000</td>\n",
       "      <td>1.000000</td>\n",
       "      <td>1.000000</td>\n",
       "      <td>...</td>\n",
       "      <td>0.000000</td>\n",
       "      <td>0.000000</td>\n",
       "      <td>0.000000</td>\n",
       "      <td>0.000000</td>\n",
       "      <td>0.000000</td>\n",
       "      <td>0.000000</td>\n",
       "      <td>0.000000</td>\n",
       "      <td>0.000000</td>\n",
       "      <td>0.000000</td>\n",
       "      <td>0.000000</td>\n",
       "    </tr>\n",
       "  </tbody>\n",
       "</table>\n",
       "<p>5 rows × 78 columns</p>\n",
       "</div>"
      ],
      "text/plain": [
       "                  0           1            2            3            4   \\\n",
       "2643  Z84721_cds2_at  905.578221  3936.153114  1319.648120  2064.441780   \n",
       "2644       Z96810_at  580.771046   472.418714   583.712057   449.752520   \n",
       "2645  Z97054_xpt2_at  955.626595  1272.108045   791.795105  1373.169909   \n",
       "2646       Z97074_at  707.119503   783.978554   748.638380   967.288647   \n",
       "2647          ydlbcl    1.000000     1.000000     1.000000     1.000000   \n",
       "\n",
       "               5            6            7            8            9   \\\n",
       "2643   954.599133   766.040336  1223.632838   895.526348  1165.567643   \n",
       "2644   507.218794   528.342437   653.004285   502.241450   484.675303   \n",
       "2645  1757.786262  1008.492248   764.477007  1215.768535  1253.984350   \n",
       "2646   904.119880   590.276417   727.140558  1167.820219   883.221908   \n",
       "2647     1.000000     1.000000     1.000000     1.000000     1.000000   \n",
       "\n",
       "         ...                68          69           70           71  \\\n",
       "2643     ...       1291.666915  869.773220  1208.808797  1122.836763   \n",
       "2644     ...        575.437309  560.242917   485.169986  1571.594285   \n",
       "2645     ...       1591.234477  851.850369   918.785194  1997.945700   \n",
       "2646     ...        699.628686  665.740927  1075.546688  1199.826348   \n",
       "2647     ...          0.000000    0.000000     0.000000     0.000000   \n",
       "\n",
       "               72           73           74           75          76  \\\n",
       "2643  2773.636510   969.386619  1147.144259  3155.294621  964.280525   \n",
       "2644   635.924068   652.320983   538.414956   468.296912  659.021178   \n",
       "2645  1317.514201   952.216022  1063.618712  1307.294600  853.967632   \n",
       "2646  1024.971307  1394.317578   716.939115   771.630292  734.264437   \n",
       "2647     0.000000     0.000000     0.000000     0.000000    0.000000   \n",
       "\n",
       "               77  \n",
       "2643  1164.746332  \n",
       "2644   475.584991  \n",
       "2645   720.107842  \n",
       "2646   741.942475  \n",
       "2647     0.000000  \n",
       "\n",
       "[5 rows x 78 columns]"
      ]
     },
     "execution_count": 3,
     "metadata": {},
     "output_type": "execute_result"
    }
   ],
   "source": [
    "# data dimension\n",
    "print data.shape\n",
    "# last 5 rows of the data\n",
    "data.tail()"
   ]
  },
  {
   "cell_type": "code",
   "execution_count": 4,
   "metadata": {
    "collapsed": false
   },
   "outputs": [],
   "source": [
    "# extract colum names (all but last one are gene names).\n",
    "colNames = data[0]\n",
    "colNames = list(colNames)"
   ]
  },
  {
   "cell_type": "code",
   "execution_count": 5,
   "metadata": {
    "collapsed": false
   },
   "outputs": [
    {
     "data": {
      "text/plain": [
       "0    ACADVL\n",
       "1    ACADVL\n",
       "2    ACADVL\n",
       "3    ACADVL\n",
       "4    ACADVL\n",
       "Name: Gene Name, dtype: object"
      ]
     },
     "execution_count": 5,
     "metadata": {},
     "output_type": "execute_result"
    }
   ],
   "source": [
    "# housekeepnig genes\n",
    "hkfile = 'HK_exons.csv'\n",
    "\n",
    "hkdata = pd.read_csv(hkfile)\n",
    "\n",
    "hkdata.head()\n",
    "\n",
    "hknames = hkdata['Gene Name']\n",
    "\n",
    "hknames.head()\n"
   ]
  },
  {
   "cell_type": "code",
   "execution_count": 6,
   "metadata": {
    "collapsed": false
   },
   "outputs": [
    {
     "data": {
      "text/plain": [
       "65692"
      ]
     },
     "execution_count": 6,
     "metadata": {},
     "output_type": "execute_result"
    }
   ],
   "source": [
    "len(hkdata)"
   ]
  },
  {
   "cell_type": "code",
   "execution_count": 7,
   "metadata": {
    "collapsed": false
   },
   "outputs": [
    {
     "data": {
      "text/plain": [
       "0"
      ]
     },
     "execution_count": 7,
     "metadata": {},
     "output_type": "execute_result"
    }
   ],
   "source": [
    "sum(hknames.isin(colNames))"
   ]
  },
  {
   "cell_type": "code",
   "execution_count": 8,
   "metadata": {
    "collapsed": false
   },
   "outputs": [
    {
     "data": {
      "text/html": [
       "<div>\n",
       "<table border=\"1\" class=\"dataframe\">\n",
       "  <thead>\n",
       "    <tr style=\"text-align: right;\">\n",
       "      <th></th>\n",
       "      <th>0</th>\n",
       "      <th>1</th>\n",
       "      <th>2</th>\n",
       "      <th>3</th>\n",
       "      <th>4</th>\n",
       "      <th>5</th>\n",
       "      <th>6</th>\n",
       "      <th>7</th>\n",
       "      <th>8</th>\n",
       "      <th>9</th>\n",
       "      <th>...</th>\n",
       "      <th>2638</th>\n",
       "      <th>2639</th>\n",
       "      <th>2640</th>\n",
       "      <th>2641</th>\n",
       "      <th>2642</th>\n",
       "      <th>2643</th>\n",
       "      <th>2644</th>\n",
       "      <th>2645</th>\n",
       "      <th>2646</th>\n",
       "      <th>2647</th>\n",
       "    </tr>\n",
       "  </thead>\n",
       "  <tbody>\n",
       "    <tr>\n",
       "      <th>1</th>\n",
       "      <td>766.6414</td>\n",
       "      <td>555.7206</td>\n",
       "      <td>691.2145</td>\n",
       "      <td>541.3077</td>\n",
       "      <td>1071.147</td>\n",
       "      <td>792.3856</td>\n",
       "      <td>619.7811</td>\n",
       "      <td>1025.738</td>\n",
       "      <td>2779.694</td>\n",
       "      <td>1700.877</td>\n",
       "      <td>...</td>\n",
       "      <td>530.9355</td>\n",
       "      <td>792.3869</td>\n",
       "      <td>943.0226</td>\n",
       "      <td>2015.213</td>\n",
       "      <td>1543.698</td>\n",
       "      <td>905.5782</td>\n",
       "      <td>580.771</td>\n",
       "      <td>955.6266</td>\n",
       "      <td>707.1195</td>\n",
       "      <td>1</td>\n",
       "    </tr>\n",
       "    <tr>\n",
       "      <th>2</th>\n",
       "      <td>773.8651</td>\n",
       "      <td>422.7328</td>\n",
       "      <td>856.9154</td>\n",
       "      <td>499.5031</td>\n",
       "      <td>1011.28</td>\n",
       "      <td>617.5077</td>\n",
       "      <td>505.8217</td>\n",
       "      <td>655.5362</td>\n",
       "      <td>1843.701</td>\n",
       "      <td>766.0599</td>\n",
       "      <td>...</td>\n",
       "      <td>343.394</td>\n",
       "      <td>645.7257</td>\n",
       "      <td>974.0325</td>\n",
       "      <td>1616.649</td>\n",
       "      <td>949.9221</td>\n",
       "      <td>3936.153</td>\n",
       "      <td>472.4187</td>\n",
       "      <td>1272.108</td>\n",
       "      <td>783.9786</td>\n",
       "      <td>1</td>\n",
       "    </tr>\n",
       "    <tr>\n",
       "      <th>3</th>\n",
       "      <td>1405.578</td>\n",
       "      <td>600.1598</td>\n",
       "      <td>694.4165</td>\n",
       "      <td>603.8363</td>\n",
       "      <td>1044.097</td>\n",
       "      <td>967.313</td>\n",
       "      <td>717.9104</td>\n",
       "      <td>721.0282</td>\n",
       "      <td>2703.724</td>\n",
       "      <td>867.7278</td>\n",
       "      <td>...</td>\n",
       "      <td>448.7603</td>\n",
       "      <td>828.5946</td>\n",
       "      <td>1050.968</td>\n",
       "      <td>1709.783</td>\n",
       "      <td>1332.656</td>\n",
       "      <td>1319.648</td>\n",
       "      <td>583.7121</td>\n",
       "      <td>791.7951</td>\n",
       "      <td>748.6384</td>\n",
       "      <td>1</td>\n",
       "    </tr>\n",
       "    <tr>\n",
       "      <th>4</th>\n",
       "      <td>998.3683</td>\n",
       "      <td>454.3518</td>\n",
       "      <td>761.4268</td>\n",
       "      <td>430.8263</td>\n",
       "      <td>1374.274</td>\n",
       "      <td>988.8996</td>\n",
       "      <td>826.6923</td>\n",
       "      <td>594.6524</td>\n",
       "      <td>2135.67</td>\n",
       "      <td>630.3074</td>\n",
       "      <td>...</td>\n",
       "      <td>452.216</td>\n",
       "      <td>822.799</td>\n",
       "      <td>1415.209</td>\n",
       "      <td>1928.461</td>\n",
       "      <td>1243.863</td>\n",
       "      <td>2064.442</td>\n",
       "      <td>449.7525</td>\n",
       "      <td>1373.17</td>\n",
       "      <td>967.2886</td>\n",
       "      <td>1</td>\n",
       "    </tr>\n",
       "    <tr>\n",
       "      <th>5</th>\n",
       "      <td>1196.41</td>\n",
       "      <td>837.2247</td>\n",
       "      <td>1037.254</td>\n",
       "      <td>839.5753</td>\n",
       "      <td>1494.959</td>\n",
       "      <td>1017.31</td>\n",
       "      <td>810.9607</td>\n",
       "      <td>1761.303</td>\n",
       "      <td>2476.553</td>\n",
       "      <td>1837.374</td>\n",
       "      <td>...</td>\n",
       "      <td>390.9081</td>\n",
       "      <td>638.8254</td>\n",
       "      <td>1304.755</td>\n",
       "      <td>1538.823</td>\n",
       "      <td>1568.696</td>\n",
       "      <td>954.5991</td>\n",
       "      <td>507.2188</td>\n",
       "      <td>1757.786</td>\n",
       "      <td>904.1199</td>\n",
       "      <td>1</td>\n",
       "    </tr>\n",
       "  </tbody>\n",
       "</table>\n",
       "<p>5 rows × 2648 columns</p>\n",
       "</div>"
      ],
      "text/plain": [
       "       0         1         2         3         4         5         6     \\\n",
       "1  766.6414  555.7206  691.2145  541.3077  1071.147  792.3856  619.7811   \n",
       "2  773.8651  422.7328  856.9154  499.5031   1011.28  617.5077  505.8217   \n",
       "3  1405.578  600.1598  694.4165  603.8363  1044.097   967.313  717.9104   \n",
       "4  998.3683  454.3518  761.4268  430.8263  1374.274  988.8996  826.6923   \n",
       "5   1196.41  837.2247  1037.254  839.5753  1494.959   1017.31  810.9607   \n",
       "\n",
       "       7         8         9    ...       2638      2639      2640      2641  \\\n",
       "1  1025.738  2779.694  1700.877 ...   530.9355  792.3869  943.0226  2015.213   \n",
       "2  655.5362  1843.701  766.0599 ...    343.394  645.7257  974.0325  1616.649   \n",
       "3  721.0282  2703.724  867.7278 ...   448.7603  828.5946  1050.968  1709.783   \n",
       "4  594.6524   2135.67  630.3074 ...    452.216   822.799  1415.209  1928.461   \n",
       "5  1761.303  2476.553  1837.374 ...   390.9081  638.8254  1304.755  1538.823   \n",
       "\n",
       "       2642      2643      2644      2645      2646 2647  \n",
       "1  1543.698  905.5782   580.771  955.6266  707.1195    1  \n",
       "2  949.9221  3936.153  472.4187  1272.108  783.9786    1  \n",
       "3  1332.656  1319.648  583.7121  791.7951  748.6384    1  \n",
       "4  1243.863  2064.442  449.7525   1373.17  967.2886    1  \n",
       "5  1568.696  954.5991  507.2188  1757.786  904.1199    1  \n",
       "\n",
       "[5 rows x 2648 columns]"
      ]
     },
     "execution_count": 8,
     "metadata": {},
     "output_type": "execute_result"
    }
   ],
   "source": [
    "# tranpose the data to have genes as columns and microarray experiment as rows\n",
    "data2 = data.T.ix[1:]\n",
    "data2.head()"
   ]
  },
  {
   "cell_type": "code",
   "execution_count": 9,
   "metadata": {
    "collapsed": false
   },
   "outputs": [
    {
     "data": {
      "text/html": [
       "<div>\n",
       "<table border=\"1\" class=\"dataframe\">\n",
       "  <thead>\n",
       "    <tr style=\"text-align: right;\">\n",
       "      <th></th>\n",
       "      <th>0</th>\n",
       "      <th>1</th>\n",
       "      <th>2</th>\n",
       "      <th>3</th>\n",
       "      <th>4</th>\n",
       "      <th>5</th>\n",
       "      <th>6</th>\n",
       "      <th>7</th>\n",
       "      <th>8</th>\n",
       "      <th>9</th>\n",
       "      <th>...</th>\n",
       "      <th>2638</th>\n",
       "      <th>2639</th>\n",
       "      <th>2640</th>\n",
       "      <th>2641</th>\n",
       "      <th>2642</th>\n",
       "      <th>2643</th>\n",
       "      <th>2644</th>\n",
       "      <th>2645</th>\n",
       "      <th>2646</th>\n",
       "      <th>2647</th>\n",
       "    </tr>\n",
       "  </thead>\n",
       "  <tbody>\n",
       "    <tr>\n",
       "      <th>0</th>\n",
       "      <td>766.6414</td>\n",
       "      <td>555.7206</td>\n",
       "      <td>691.2145</td>\n",
       "      <td>541.3077</td>\n",
       "      <td>1071.147</td>\n",
       "      <td>792.3856</td>\n",
       "      <td>619.7811</td>\n",
       "      <td>1025.738</td>\n",
       "      <td>2779.694</td>\n",
       "      <td>1700.877</td>\n",
       "      <td>...</td>\n",
       "      <td>530.9355</td>\n",
       "      <td>792.3869</td>\n",
       "      <td>943.0226</td>\n",
       "      <td>2015.213</td>\n",
       "      <td>1543.698</td>\n",
       "      <td>905.5782</td>\n",
       "      <td>580.771</td>\n",
       "      <td>955.6266</td>\n",
       "      <td>707.1195</td>\n",
       "      <td>1</td>\n",
       "    </tr>\n",
       "    <tr>\n",
       "      <th>1</th>\n",
       "      <td>773.8651</td>\n",
       "      <td>422.7328</td>\n",
       "      <td>856.9154</td>\n",
       "      <td>499.5031</td>\n",
       "      <td>1011.28</td>\n",
       "      <td>617.5077</td>\n",
       "      <td>505.8217</td>\n",
       "      <td>655.5362</td>\n",
       "      <td>1843.701</td>\n",
       "      <td>766.0599</td>\n",
       "      <td>...</td>\n",
       "      <td>343.394</td>\n",
       "      <td>645.7257</td>\n",
       "      <td>974.0325</td>\n",
       "      <td>1616.649</td>\n",
       "      <td>949.9221</td>\n",
       "      <td>3936.153</td>\n",
       "      <td>472.4187</td>\n",
       "      <td>1272.108</td>\n",
       "      <td>783.9786</td>\n",
       "      <td>1</td>\n",
       "    </tr>\n",
       "    <tr>\n",
       "      <th>2</th>\n",
       "      <td>1405.578</td>\n",
       "      <td>600.1598</td>\n",
       "      <td>694.4165</td>\n",
       "      <td>603.8363</td>\n",
       "      <td>1044.097</td>\n",
       "      <td>967.313</td>\n",
       "      <td>717.9104</td>\n",
       "      <td>721.0282</td>\n",
       "      <td>2703.724</td>\n",
       "      <td>867.7278</td>\n",
       "      <td>...</td>\n",
       "      <td>448.7603</td>\n",
       "      <td>828.5946</td>\n",
       "      <td>1050.968</td>\n",
       "      <td>1709.783</td>\n",
       "      <td>1332.656</td>\n",
       "      <td>1319.648</td>\n",
       "      <td>583.7121</td>\n",
       "      <td>791.7951</td>\n",
       "      <td>748.6384</td>\n",
       "      <td>1</td>\n",
       "    </tr>\n",
       "    <tr>\n",
       "      <th>3</th>\n",
       "      <td>998.3683</td>\n",
       "      <td>454.3518</td>\n",
       "      <td>761.4268</td>\n",
       "      <td>430.8263</td>\n",
       "      <td>1374.274</td>\n",
       "      <td>988.8996</td>\n",
       "      <td>826.6923</td>\n",
       "      <td>594.6524</td>\n",
       "      <td>2135.67</td>\n",
       "      <td>630.3074</td>\n",
       "      <td>...</td>\n",
       "      <td>452.216</td>\n",
       "      <td>822.799</td>\n",
       "      <td>1415.209</td>\n",
       "      <td>1928.461</td>\n",
       "      <td>1243.863</td>\n",
       "      <td>2064.442</td>\n",
       "      <td>449.7525</td>\n",
       "      <td>1373.17</td>\n",
       "      <td>967.2886</td>\n",
       "      <td>1</td>\n",
       "    </tr>\n",
       "    <tr>\n",
       "      <th>4</th>\n",
       "      <td>1196.41</td>\n",
       "      <td>837.2247</td>\n",
       "      <td>1037.254</td>\n",
       "      <td>839.5753</td>\n",
       "      <td>1494.959</td>\n",
       "      <td>1017.31</td>\n",
       "      <td>810.9607</td>\n",
       "      <td>1761.303</td>\n",
       "      <td>2476.553</td>\n",
       "      <td>1837.374</td>\n",
       "      <td>...</td>\n",
       "      <td>390.9081</td>\n",
       "      <td>638.8254</td>\n",
       "      <td>1304.755</td>\n",
       "      <td>1538.823</td>\n",
       "      <td>1568.696</td>\n",
       "      <td>954.5991</td>\n",
       "      <td>507.2188</td>\n",
       "      <td>1757.786</td>\n",
       "      <td>904.1199</td>\n",
       "      <td>1</td>\n",
       "    </tr>\n",
       "  </tbody>\n",
       "</table>\n",
       "<p>5 rows × 2648 columns</p>\n",
       "</div>"
      ],
      "text/plain": [
       "       0         1         2         3         4         5         6     \\\n",
       "0  766.6414  555.7206  691.2145  541.3077  1071.147  792.3856  619.7811   \n",
       "1  773.8651  422.7328  856.9154  499.5031   1011.28  617.5077  505.8217   \n",
       "2  1405.578  600.1598  694.4165  603.8363  1044.097   967.313  717.9104   \n",
       "3  998.3683  454.3518  761.4268  430.8263  1374.274  988.8996  826.6923   \n",
       "4   1196.41  837.2247  1037.254  839.5753  1494.959   1017.31  810.9607   \n",
       "\n",
       "       7         8         9    ...       2638      2639      2640      2641  \\\n",
       "0  1025.738  2779.694  1700.877 ...   530.9355  792.3869  943.0226  2015.213   \n",
       "1  655.5362  1843.701  766.0599 ...    343.394  645.7257  974.0325  1616.649   \n",
       "2  721.0282  2703.724  867.7278 ...   448.7603  828.5946  1050.968  1709.783   \n",
       "3  594.6524   2135.67  630.3074 ...    452.216   822.799  1415.209  1928.461   \n",
       "4  1761.303  2476.553  1837.374 ...   390.9081  638.8254  1304.755  1538.823   \n",
       "\n",
       "       2642      2643      2644      2645      2646 2647  \n",
       "0  1543.698  905.5782   580.771  955.6266  707.1195    1  \n",
       "1  949.9221  3936.153  472.4187  1272.108  783.9786    1  \n",
       "2  1332.656  1319.648  583.7121  791.7951  748.6384    1  \n",
       "3  1243.863  2064.442  449.7525   1373.17  967.2886    1  \n",
       "4  1568.696  954.5991  507.2188  1757.786  904.1199    1  \n",
       "\n",
       "[5 rows x 2648 columns]"
      ]
     },
     "execution_count": 9,
     "metadata": {},
     "output_type": "execute_result"
    }
   ],
   "source": [
    "# reset the index to satrt at 0\n",
    "data2 = data2.reset_index(drop=True)\n",
    "data2.head()"
   ]
  },
  {
   "cell_type": "code",
   "execution_count": 10,
   "metadata": {
    "collapsed": false
   },
   "outputs": [
    {
     "data": {
      "text/html": [
       "<div>\n",
       "<table border=\"1\" class=\"dataframe\">\n",
       "  <thead>\n",
       "    <tr style=\"text-align: right;\">\n",
       "      <th></th>\n",
       "      <th>A28102_at</th>\n",
       "      <th>AB000114_at</th>\n",
       "      <th>AB000115_at</th>\n",
       "      <th>AB000220_at</th>\n",
       "      <th>AB000409_at</th>\n",
       "      <th>AB000462_at</th>\n",
       "      <th>AB000905_at</th>\n",
       "      <th>AB001106_at</th>\n",
       "      <th>AB001325_at</th>\n",
       "      <th>AB002314_at</th>\n",
       "      <th>...</th>\n",
       "      <th>Z78290_at</th>\n",
       "      <th>Z78291_at</th>\n",
       "      <th>Z80780_f_at</th>\n",
       "      <th>Z83336_at</th>\n",
       "      <th>Z84497_s_at</th>\n",
       "      <th>Z84721_cds2_at</th>\n",
       "      <th>Z96810_at</th>\n",
       "      <th>Z97054_xpt2_at</th>\n",
       "      <th>Z97074_at</th>\n",
       "      <th>ydlbcl</th>\n",
       "    </tr>\n",
       "  </thead>\n",
       "  <tbody>\n",
       "    <tr>\n",
       "      <th>0</th>\n",
       "      <td>766.6414</td>\n",
       "      <td>555.7206</td>\n",
       "      <td>691.2145</td>\n",
       "      <td>541.3077</td>\n",
       "      <td>1071.147</td>\n",
       "      <td>792.3856</td>\n",
       "      <td>619.7811</td>\n",
       "      <td>1025.738</td>\n",
       "      <td>2779.694</td>\n",
       "      <td>1700.877</td>\n",
       "      <td>...</td>\n",
       "      <td>530.9355</td>\n",
       "      <td>792.3869</td>\n",
       "      <td>943.0226</td>\n",
       "      <td>2015.213</td>\n",
       "      <td>1543.698</td>\n",
       "      <td>905.5782</td>\n",
       "      <td>580.771</td>\n",
       "      <td>955.6266</td>\n",
       "      <td>707.1195</td>\n",
       "      <td>1</td>\n",
       "    </tr>\n",
       "    <tr>\n",
       "      <th>1</th>\n",
       "      <td>773.8651</td>\n",
       "      <td>422.7328</td>\n",
       "      <td>856.9154</td>\n",
       "      <td>499.5031</td>\n",
       "      <td>1011.28</td>\n",
       "      <td>617.5077</td>\n",
       "      <td>505.8217</td>\n",
       "      <td>655.5362</td>\n",
       "      <td>1843.701</td>\n",
       "      <td>766.0599</td>\n",
       "      <td>...</td>\n",
       "      <td>343.394</td>\n",
       "      <td>645.7257</td>\n",
       "      <td>974.0325</td>\n",
       "      <td>1616.649</td>\n",
       "      <td>949.9221</td>\n",
       "      <td>3936.153</td>\n",
       "      <td>472.4187</td>\n",
       "      <td>1272.108</td>\n",
       "      <td>783.9786</td>\n",
       "      <td>1</td>\n",
       "    </tr>\n",
       "    <tr>\n",
       "      <th>2</th>\n",
       "      <td>1405.578</td>\n",
       "      <td>600.1598</td>\n",
       "      <td>694.4165</td>\n",
       "      <td>603.8363</td>\n",
       "      <td>1044.097</td>\n",
       "      <td>967.313</td>\n",
       "      <td>717.9104</td>\n",
       "      <td>721.0282</td>\n",
       "      <td>2703.724</td>\n",
       "      <td>867.7278</td>\n",
       "      <td>...</td>\n",
       "      <td>448.7603</td>\n",
       "      <td>828.5946</td>\n",
       "      <td>1050.968</td>\n",
       "      <td>1709.783</td>\n",
       "      <td>1332.656</td>\n",
       "      <td>1319.648</td>\n",
       "      <td>583.7121</td>\n",
       "      <td>791.7951</td>\n",
       "      <td>748.6384</td>\n",
       "      <td>1</td>\n",
       "    </tr>\n",
       "    <tr>\n",
       "      <th>3</th>\n",
       "      <td>998.3683</td>\n",
       "      <td>454.3518</td>\n",
       "      <td>761.4268</td>\n",
       "      <td>430.8263</td>\n",
       "      <td>1374.274</td>\n",
       "      <td>988.8996</td>\n",
       "      <td>826.6923</td>\n",
       "      <td>594.6524</td>\n",
       "      <td>2135.67</td>\n",
       "      <td>630.3074</td>\n",
       "      <td>...</td>\n",
       "      <td>452.216</td>\n",
       "      <td>822.799</td>\n",
       "      <td>1415.209</td>\n",
       "      <td>1928.461</td>\n",
       "      <td>1243.863</td>\n",
       "      <td>2064.442</td>\n",
       "      <td>449.7525</td>\n",
       "      <td>1373.17</td>\n",
       "      <td>967.2886</td>\n",
       "      <td>1</td>\n",
       "    </tr>\n",
       "    <tr>\n",
       "      <th>4</th>\n",
       "      <td>1196.41</td>\n",
       "      <td>837.2247</td>\n",
       "      <td>1037.254</td>\n",
       "      <td>839.5753</td>\n",
       "      <td>1494.959</td>\n",
       "      <td>1017.31</td>\n",
       "      <td>810.9607</td>\n",
       "      <td>1761.303</td>\n",
       "      <td>2476.553</td>\n",
       "      <td>1837.374</td>\n",
       "      <td>...</td>\n",
       "      <td>390.9081</td>\n",
       "      <td>638.8254</td>\n",
       "      <td>1304.755</td>\n",
       "      <td>1538.823</td>\n",
       "      <td>1568.696</td>\n",
       "      <td>954.5991</td>\n",
       "      <td>507.2188</td>\n",
       "      <td>1757.786</td>\n",
       "      <td>904.1199</td>\n",
       "      <td>1</td>\n",
       "    </tr>\n",
       "  </tbody>\n",
       "</table>\n",
       "<p>5 rows × 2648 columns</p>\n",
       "</div>"
      ],
      "text/plain": [
       "  A28102_at AB000114_at AB000115_at AB000220_at AB000409_at AB000462_at  \\\n",
       "0  766.6414    555.7206    691.2145    541.3077    1071.147    792.3856   \n",
       "1  773.8651    422.7328    856.9154    499.5031     1011.28    617.5077   \n",
       "2  1405.578    600.1598    694.4165    603.8363    1044.097     967.313   \n",
       "3  998.3683    454.3518    761.4268    430.8263    1374.274    988.8996   \n",
       "4   1196.41    837.2247    1037.254    839.5753    1494.959     1017.31   \n",
       "\n",
       "  AB000905_at AB001106_at AB001325_at AB002314_at  ...   Z78290_at Z78291_at  \\\n",
       "0    619.7811    1025.738    2779.694    1700.877  ...    530.9355  792.3869   \n",
       "1    505.8217    655.5362    1843.701    766.0599  ...     343.394  645.7257   \n",
       "2    717.9104    721.0282    2703.724    867.7278  ...    448.7603  828.5946   \n",
       "3    826.6923    594.6524     2135.67    630.3074  ...     452.216   822.799   \n",
       "4    810.9607    1761.303    2476.553    1837.374  ...    390.9081  638.8254   \n",
       "\n",
       "  Z80780_f_at Z83336_at Z84497_s_at Z84721_cds2_at Z96810_at Z97054_xpt2_at  \\\n",
       "0    943.0226  2015.213    1543.698       905.5782   580.771       955.6266   \n",
       "1    974.0325  1616.649    949.9221       3936.153  472.4187       1272.108   \n",
       "2    1050.968  1709.783    1332.656       1319.648  583.7121       791.7951   \n",
       "3    1415.209  1928.461    1243.863       2064.442  449.7525        1373.17   \n",
       "4    1304.755  1538.823    1568.696       954.5991  507.2188       1757.786   \n",
       "\n",
       "  Z97074_at ydlbcl  \n",
       "0  707.1195      1  \n",
       "1  783.9786      1  \n",
       "2  748.6384      1  \n",
       "3  967.2886      1  \n",
       "4  904.1199      1  \n",
       "\n",
       "[5 rows x 2648 columns]"
      ]
     },
     "execution_count": 10,
     "metadata": {},
     "output_type": "execute_result"
    }
   ],
   "source": [
    "# add colum labels\n",
    "data2.columns=colNames\n",
    "data2.head()"
   ]
  },
  {
   "cell_type": "code",
   "execution_count": 11,
   "metadata": {
    "collapsed": false
   },
   "outputs": [
    {
     "name": "stdout",
     "output_type": "stream",
     "text": [
      "(77, 2647)\n"
     ]
    },
    {
     "data": {
      "text/html": [
       "<div>\n",
       "<table border=\"1\" class=\"dataframe\">\n",
       "  <thead>\n",
       "    <tr style=\"text-align: right;\">\n",
       "      <th></th>\n",
       "      <th>A28102_at</th>\n",
       "      <th>AB000114_at</th>\n",
       "      <th>AB000115_at</th>\n",
       "      <th>AB000220_at</th>\n",
       "      <th>AB000409_at</th>\n",
       "      <th>AB000462_at</th>\n",
       "      <th>AB000905_at</th>\n",
       "      <th>AB001106_at</th>\n",
       "      <th>AB001325_at</th>\n",
       "      <th>AB002314_at</th>\n",
       "      <th>...</th>\n",
       "      <th>Z78289_at</th>\n",
       "      <th>Z78290_at</th>\n",
       "      <th>Z78291_at</th>\n",
       "      <th>Z80780_f_at</th>\n",
       "      <th>Z83336_at</th>\n",
       "      <th>Z84497_s_at</th>\n",
       "      <th>Z84721_cds2_at</th>\n",
       "      <th>Z96810_at</th>\n",
       "      <th>Z97054_xpt2_at</th>\n",
       "      <th>Z97074_at</th>\n",
       "    </tr>\n",
       "  </thead>\n",
       "  <tbody>\n",
       "    <tr>\n",
       "      <th>0</th>\n",
       "      <td>766.641438</td>\n",
       "      <td>555.720641</td>\n",
       "      <td>691.214533</td>\n",
       "      <td>541.307724</td>\n",
       "      <td>1071.146880</td>\n",
       "      <td>792.385579</td>\n",
       "      <td>619.781103</td>\n",
       "      <td>1025.738198</td>\n",
       "      <td>2779.694245</td>\n",
       "      <td>1700.876595</td>\n",
       "      <td>...</td>\n",
       "      <td>587.049163</td>\n",
       "      <td>530.935458</td>\n",
       "      <td>792.386891</td>\n",
       "      <td>943.022578</td>\n",
       "      <td>2015.213350</td>\n",
       "      <td>1543.697899</td>\n",
       "      <td>905.578221</td>\n",
       "      <td>580.771046</td>\n",
       "      <td>955.626595</td>\n",
       "      <td>707.119503</td>\n",
       "    </tr>\n",
       "    <tr>\n",
       "      <th>1</th>\n",
       "      <td>773.865121</td>\n",
       "      <td>422.732757</td>\n",
       "      <td>856.915398</td>\n",
       "      <td>499.503064</td>\n",
       "      <td>1011.280030</td>\n",
       "      <td>617.507703</td>\n",
       "      <td>505.821700</td>\n",
       "      <td>655.536193</td>\n",
       "      <td>1843.701009</td>\n",
       "      <td>766.059861</td>\n",
       "      <td>...</td>\n",
       "      <td>509.485325</td>\n",
       "      <td>343.393956</td>\n",
       "      <td>645.725704</td>\n",
       "      <td>974.032487</td>\n",
       "      <td>1616.648782</td>\n",
       "      <td>949.922140</td>\n",
       "      <td>3936.153114</td>\n",
       "      <td>472.418714</td>\n",
       "      <td>1272.108045</td>\n",
       "      <td>783.978554</td>\n",
       "    </tr>\n",
       "    <tr>\n",
       "      <th>2</th>\n",
       "      <td>1405.578179</td>\n",
       "      <td>600.159750</td>\n",
       "      <td>694.416481</td>\n",
       "      <td>603.836309</td>\n",
       "      <td>1044.097223</td>\n",
       "      <td>967.313015</td>\n",
       "      <td>717.910395</td>\n",
       "      <td>721.028208</td>\n",
       "      <td>2703.723537</td>\n",
       "      <td>867.727801</td>\n",
       "      <td>...</td>\n",
       "      <td>563.375989</td>\n",
       "      <td>448.760272</td>\n",
       "      <td>828.594555</td>\n",
       "      <td>1050.967660</td>\n",
       "      <td>1709.782968</td>\n",
       "      <td>1332.655612</td>\n",
       "      <td>1319.648120</td>\n",
       "      <td>583.712057</td>\n",
       "      <td>791.795105</td>\n",
       "      <td>748.638380</td>\n",
       "    </tr>\n",
       "    <tr>\n",
       "      <th>3</th>\n",
       "      <td>998.368321</td>\n",
       "      <td>454.351773</td>\n",
       "      <td>761.426765</td>\n",
       "      <td>430.826342</td>\n",
       "      <td>1374.274472</td>\n",
       "      <td>988.899602</td>\n",
       "      <td>826.692306</td>\n",
       "      <td>594.652405</td>\n",
       "      <td>2135.669535</td>\n",
       "      <td>630.307428</td>\n",
       "      <td>...</td>\n",
       "      <td>692.521354</td>\n",
       "      <td>452.216029</td>\n",
       "      <td>822.799023</td>\n",
       "      <td>1415.209203</td>\n",
       "      <td>1928.461252</td>\n",
       "      <td>1243.863285</td>\n",
       "      <td>2064.441780</td>\n",
       "      <td>449.752520</td>\n",
       "      <td>1373.169909</td>\n",
       "      <td>967.288647</td>\n",
       "    </tr>\n",
       "    <tr>\n",
       "      <th>4</th>\n",
       "      <td>1196.410368</td>\n",
       "      <td>837.224699</td>\n",
       "      <td>1037.254172</td>\n",
       "      <td>839.575270</td>\n",
       "      <td>1494.958842</td>\n",
       "      <td>1017.309575</td>\n",
       "      <td>810.960716</td>\n",
       "      <td>1761.303323</td>\n",
       "      <td>2476.553302</td>\n",
       "      <td>1837.374065</td>\n",
       "      <td>...</td>\n",
       "      <td>492.970818</td>\n",
       "      <td>390.908109</td>\n",
       "      <td>638.825418</td>\n",
       "      <td>1304.754746</td>\n",
       "      <td>1538.822713</td>\n",
       "      <td>1568.696006</td>\n",
       "      <td>954.599133</td>\n",
       "      <td>507.218794</td>\n",
       "      <td>1757.786262</td>\n",
       "      <td>904.119880</td>\n",
       "    </tr>\n",
       "  </tbody>\n",
       "</table>\n",
       "<p>5 rows × 2647 columns</p>\n",
       "</div>"
      ],
      "text/plain": [
       "     A28102_at  AB000114_at  AB000115_at  AB000220_at  AB000409_at  \\\n",
       "0   766.641438   555.720641   691.214533   541.307724  1071.146880   \n",
       "1   773.865121   422.732757   856.915398   499.503064  1011.280030   \n",
       "2  1405.578179   600.159750   694.416481   603.836309  1044.097223   \n",
       "3   998.368321   454.351773   761.426765   430.826342  1374.274472   \n",
       "4  1196.410368   837.224699  1037.254172   839.575270  1494.958842   \n",
       "\n",
       "   AB000462_at  AB000905_at  AB001106_at  AB001325_at  AB002314_at  \\\n",
       "0   792.385579   619.781103  1025.738198  2779.694245  1700.876595   \n",
       "1   617.507703   505.821700   655.536193  1843.701009   766.059861   \n",
       "2   967.313015   717.910395   721.028208  2703.723537   867.727801   \n",
       "3   988.899602   826.692306   594.652405  2135.669535   630.307428   \n",
       "4  1017.309575   810.960716  1761.303323  2476.553302  1837.374065   \n",
       "\n",
       "      ...       Z78289_at   Z78290_at   Z78291_at  Z80780_f_at    Z83336_at  \\\n",
       "0     ...      587.049163  530.935458  792.386891   943.022578  2015.213350   \n",
       "1     ...      509.485325  343.393956  645.725704   974.032487  1616.648782   \n",
       "2     ...      563.375989  448.760272  828.594555  1050.967660  1709.782968   \n",
       "3     ...      692.521354  452.216029  822.799023  1415.209203  1928.461252   \n",
       "4     ...      492.970818  390.908109  638.825418  1304.754746  1538.822713   \n",
       "\n",
       "   Z84497_s_at  Z84721_cds2_at   Z96810_at  Z97054_xpt2_at   Z97074_at  \n",
       "0  1543.697899      905.578221  580.771046      955.626595  707.119503  \n",
       "1   949.922140     3936.153114  472.418714     1272.108045  783.978554  \n",
       "2  1332.655612     1319.648120  583.712057      791.795105  748.638380  \n",
       "3  1243.863285     2064.441780  449.752520     1373.169909  967.288647  \n",
       "4  1568.696006      954.599133  507.218794     1757.786262  904.119880  \n",
       "\n",
       "[5 rows x 2647 columns]"
      ]
     },
     "execution_count": 11,
     "metadata": {},
     "output_type": "execute_result"
    }
   ],
   "source": [
    "# create date set with genes only. This is the features matrix\n",
    "X = data2[range(data.shape[0]-1)]\n",
    "print X.shape\n",
    "# make sure data type is float and not string.\n",
    "X = X.astype(float)\n",
    "X.head()"
   ]
  },
  {
   "cell_type": "code",
   "execution_count": 12,
   "metadata": {
    "collapsed": true
   },
   "outputs": [],
   "source": [
    "# store the gene names/ids\n",
    "geneNames = X.columns"
   ]
  },
  {
   "cell_type": "code",
   "execution_count": 13,
   "metadata": {
    "collapsed": false
   },
   "outputs": [
    {
     "data": {
      "text/plain": [
       "ydlbcl    object\n",
       "dtype: object"
      ]
     },
     "execution_count": 13,
     "metadata": {},
     "output_type": "execute_result"
    }
   ],
   "source": [
    "\n",
    "# create vector with response variable\n",
    "Y = data2[[-1]]\n",
    "Y.head().dtypes"
   ]
  },
  {
   "cell_type": "code",
   "execution_count": 14,
   "metadata": {
    "collapsed": false
   },
   "outputs": [
    {
     "data": {
      "text/html": [
       "<div>\n",
       "<table border=\"1\" class=\"dataframe\">\n",
       "  <thead>\n",
       "    <tr style=\"text-align: right;\">\n",
       "      <th></th>\n",
       "      <th>ydlbcl_0.0</th>\n",
       "      <th>ydlbcl_1.0</th>\n",
       "    </tr>\n",
       "  </thead>\n",
       "  <tbody>\n",
       "    <tr>\n",
       "      <th>0</th>\n",
       "      <td>0</td>\n",
       "      <td>1</td>\n",
       "    </tr>\n",
       "    <tr>\n",
       "      <th>1</th>\n",
       "      <td>0</td>\n",
       "      <td>1</td>\n",
       "    </tr>\n",
       "    <tr>\n",
       "      <th>2</th>\n",
       "      <td>0</td>\n",
       "      <td>1</td>\n",
       "    </tr>\n",
       "    <tr>\n",
       "      <th>3</th>\n",
       "      <td>0</td>\n",
       "      <td>1</td>\n",
       "    </tr>\n",
       "    <tr>\n",
       "      <th>4</th>\n",
       "      <td>0</td>\n",
       "      <td>1</td>\n",
       "    </tr>\n",
       "    <tr>\n",
       "      <th>5</th>\n",
       "      <td>0</td>\n",
       "      <td>1</td>\n",
       "    </tr>\n",
       "  </tbody>\n",
       "</table>\n",
       "</div>"
      ],
      "text/plain": [
       "   ydlbcl_0.0  ydlbcl_1.0\n",
       "0           0           1\n",
       "1           0           1\n",
       "2           0           1\n",
       "3           0           1\n",
       "4           0           1\n",
       "5           0           1"
      ]
     },
     "execution_count": 14,
     "metadata": {},
     "output_type": "execute_result"
    }
   ],
   "source": [
    "# make sure response vector is binary 0, 1.\n",
    "Y = pd.get_dummies(Y)\n",
    "Y.head(6)"
   ]
  },
  {
   "cell_type": "code",
   "execution_count": 15,
   "metadata": {
    "collapsed": false
   },
   "outputs": [],
   "source": [
    "# choose one of the equivalent response vectors.\n",
    "Y = Y.ix[:,0]"
   ]
  },
  {
   "cell_type": "code",
   "execution_count": 16,
   "metadata": {
    "collapsed": false
   },
   "outputs": [
    {
     "data": {
      "text/plain": [
       "0.24675324675324675"
      ]
     },
     "execution_count": 16,
     "metadata": {},
     "output_type": "execute_result"
    }
   ],
   "source": [
    "np.mean(Y)"
   ]
  },
  {
   "cell_type": "code",
   "execution_count": 17,
   "metadata": {
    "collapsed": true
   },
   "outputs": [],
   "source": [
    "Y = np.ravel(Y)"
   ]
  },
  {
   "cell_type": "code",
   "execution_count": 18,
   "metadata": {
    "collapsed": false
   },
   "outputs": [
    {
     "name": "stdout",
     "output_type": "stream",
     "text": [
      "enter l for a logistic model with L1 reg., or e for elastic reg, or r for randomized model.: e\n"
     ]
    }
   ],
   "source": [
    "# model definition\n",
    "chooseModel = raw_input('enter l for a logistic model with L1 reg., or e for elastic reg, or r for randomized model.: ')\n",
    "\n",
    "if chooseModel == 'l':\n",
    "    # l1 penalized logistic model\n",
    "    log_model = LogisticRegression(C = 0.5, penalty = 'l1', dual = False, \n",
    "                                   fit_intercept = True)\n",
    "elif chooseModel == 'e':\n",
    "    # logistic regression with elasticnet regularization\n",
    "    # l1_ratio refers to alpha and alpha refers to lamba in Hastie\n",
    "    log_model = SGDClassifier(loss = 'log', penalty = 'elasticnet', alpha = 0.175, \n",
    "                                l1_ratio = 0.5, fit_intercept = True)\n",
    "else:\n",
    "    # randomized logistic regression\n",
    "    log_model = RandomizedLogisticRegression(C = 200, fit_intercept=True)"
   ]
  },
  {
   "cell_type": "code",
   "execution_count": 27,
   "metadata": {
    "collapsed": false
   },
   "outputs": [
    {
     "data": {
      "text/plain": [
       "(77, 693)"
      ]
     },
     "execution_count": 27,
     "metadata": {},
     "output_type": "execute_result"
    }
   ],
   "source": [
    "# feature selection\n",
    "X_sel = log_model.fit_transform(X,Y)\n",
    "X_sel.shape"
   ]
  },
  {
   "cell_type": "code",
   "execution_count": 28,
   "metadata": {
    "collapsed": false
   },
   "outputs": [],
   "source": [
    "if chooseModel == 'l' or chooseModel == 'e':\n",
    "    # these are the index of the features selected by the l1 regularized logistic model\n",
    "    feature_index = np.where(log_model.coef_!=0)[-1]\n",
    "else:\n",
    "    # these are the index of the features selected by the randomized logistic model\n",
    "    feature_index = np.where(log_model.get_support() == True)\n",
    "    \n",
    "    \n",
    "    # need to figure out how to extract the indices of relevant features using the elasticnet model"
   ]
  },
  {
   "cell_type": "code",
   "execution_count": 29,
   "metadata": {
    "collapsed": false
   },
   "outputs": [
    {
     "data": {
      "text/plain": [
       "array([[  44.53674659,  126.05467355, -254.78955163, ...,   43.00353162,\n",
       "         -20.34899252,   25.63260196]])"
      ]
     },
     "execution_count": 29,
     "metadata": {},
     "output_type": "execute_result"
    }
   ],
   "source": [
    "log_model.coef_"
   ]
  },
  {
   "cell_type": "code",
   "execution_count": 30,
   "metadata": {
    "collapsed": false
   },
   "outputs": [],
   "source": [
    "#log_model.coef_[:,feature_index];"
   ]
  },
  {
   "cell_type": "markdown",
   "metadata": {},
   "source": [
    "##Why selected 181 genes is more than the number of samples? Feature extraction needs to happen on  cross-validation."
   ]
  },
  {
   "cell_type": "code",
   "execution_count": 31,
   "metadata": {
    "collapsed": false
   },
   "outputs": [
    {
     "name": "stdout",
     "output_type": "stream",
     "text": [
      "2623\n"
     ]
    },
    {
     "data": {
      "text/html": [
       "<div>\n",
       "<table border=\"1\" class=\"dataframe\">\n",
       "  <thead>\n",
       "    <tr style=\"text-align: right;\">\n",
       "      <th></th>\n",
       "      <th>Relevant Genes</th>\n",
       "    </tr>\n",
       "  </thead>\n",
       "  <tbody>\n",
       "    <tr>\n",
       "      <th>0</th>\n",
       "      <td>A28102_at</td>\n",
       "    </tr>\n",
       "    <tr>\n",
       "      <th>1</th>\n",
       "      <td>AB000114_at</td>\n",
       "    </tr>\n",
       "    <tr>\n",
       "      <th>2</th>\n",
       "      <td>AB000115_at</td>\n",
       "    </tr>\n",
       "    <tr>\n",
       "      <th>3</th>\n",
       "      <td>AB000220_at</td>\n",
       "    </tr>\n",
       "    <tr>\n",
       "      <th>4</th>\n",
       "      <td>AB000409_at</td>\n",
       "    </tr>\n",
       "    <tr>\n",
       "      <th>5</th>\n",
       "      <td>AB000462_at</td>\n",
       "    </tr>\n",
       "    <tr>\n",
       "      <th>6</th>\n",
       "      <td>AB000905_at</td>\n",
       "    </tr>\n",
       "    <tr>\n",
       "      <th>7</th>\n",
       "      <td>AB001106_at</td>\n",
       "    </tr>\n",
       "    <tr>\n",
       "      <th>8</th>\n",
       "      <td>AB001325_at</td>\n",
       "    </tr>\n",
       "    <tr>\n",
       "      <th>9</th>\n",
       "      <td>AB002314_at</td>\n",
       "    </tr>\n",
       "    <tr>\n",
       "      <th>10</th>\n",
       "      <td>AB002315_at</td>\n",
       "    </tr>\n",
       "    <tr>\n",
       "      <th>11</th>\n",
       "      <td>AB002318_at</td>\n",
       "    </tr>\n",
       "    <tr>\n",
       "      <th>12</th>\n",
       "      <td>AB002382_at</td>\n",
       "    </tr>\n",
       "    <tr>\n",
       "      <th>13</th>\n",
       "      <td>AB002409_at</td>\n",
       "    </tr>\n",
       "    <tr>\n",
       "      <th>14</th>\n",
       "      <td>AB003102_at</td>\n",
       "    </tr>\n",
       "    <tr>\n",
       "      <th>15</th>\n",
       "      <td>AB003177_at</td>\n",
       "    </tr>\n",
       "    <tr>\n",
       "      <th>16</th>\n",
       "      <td>AB006782_at</td>\n",
       "    </tr>\n",
       "    <tr>\n",
       "      <th>17</th>\n",
       "      <td>AC000062_at</td>\n",
       "    </tr>\n",
       "    <tr>\n",
       "      <th>18</th>\n",
       "      <td>AC000064_cds1_at</td>\n",
       "    </tr>\n",
       "    <tr>\n",
       "      <th>19</th>\n",
       "      <td>AC000064_cds2_at</td>\n",
       "    </tr>\n",
       "    <tr>\n",
       "      <th>20</th>\n",
       "      <td>AC000066_at</td>\n",
       "    </tr>\n",
       "    <tr>\n",
       "      <th>21</th>\n",
       "      <td>AC000099_at</td>\n",
       "    </tr>\n",
       "    <tr>\n",
       "      <th>22</th>\n",
       "      <td>AC000115_cds1_at</td>\n",
       "    </tr>\n",
       "    <tr>\n",
       "      <th>23</th>\n",
       "      <td>AC002045_xpt1_at</td>\n",
       "    </tr>\n",
       "    <tr>\n",
       "      <th>24</th>\n",
       "      <td>AC002045_xpt2_s_at</td>\n",
       "    </tr>\n",
       "    <tr>\n",
       "      <th>25</th>\n",
       "      <td>AC002115_cds1_at</td>\n",
       "    </tr>\n",
       "    <tr>\n",
       "      <th>26</th>\n",
       "      <td>AC002115_rna2_at</td>\n",
       "    </tr>\n",
       "    <tr>\n",
       "      <th>27</th>\n",
       "      <td>AD000092_cds7_s_at</td>\n",
       "    </tr>\n",
       "    <tr>\n",
       "      <th>28</th>\n",
       "      <td>AD001527_cds1_at</td>\n",
       "    </tr>\n",
       "    <tr>\n",
       "      <th>29</th>\n",
       "      <td>AF000177_at</td>\n",
       "    </tr>\n",
       "    <tr>\n",
       "      <th>...</th>\n",
       "      <td>...</td>\n",
       "    </tr>\n",
       "    <tr>\n",
       "      <th>2617</th>\n",
       "      <td>Z49835_s_at</td>\n",
       "    </tr>\n",
       "    <tr>\n",
       "      <th>2618</th>\n",
       "      <td>Z50022_at</td>\n",
       "    </tr>\n",
       "    <tr>\n",
       "      <th>2619</th>\n",
       "      <td>Z50053_at</td>\n",
       "    </tr>\n",
       "    <tr>\n",
       "      <th>2620</th>\n",
       "      <td>Z50115_s_at</td>\n",
       "    </tr>\n",
       "    <tr>\n",
       "      <th>2621</th>\n",
       "      <td>Z50194_at</td>\n",
       "    </tr>\n",
       "    <tr>\n",
       "      <th>2622</th>\n",
       "      <td>Z50749_at</td>\n",
       "    </tr>\n",
       "    <tr>\n",
       "      <th>2623</th>\n",
       "      <td>Z50781_at</td>\n",
       "    </tr>\n",
       "    <tr>\n",
       "      <th>2624</th>\n",
       "      <td>Z50853_at</td>\n",
       "    </tr>\n",
       "    <tr>\n",
       "      <th>2625</th>\n",
       "      <td>Z56281_at</td>\n",
       "    </tr>\n",
       "    <tr>\n",
       "      <th>2626</th>\n",
       "      <td>Z68129_cds1_at</td>\n",
       "    </tr>\n",
       "    <tr>\n",
       "      <th>2627</th>\n",
       "      <td>Z68193_at</td>\n",
       "    </tr>\n",
       "    <tr>\n",
       "      <th>2628</th>\n",
       "      <td>Z69030_s_at</td>\n",
       "    </tr>\n",
       "    <tr>\n",
       "      <th>2629</th>\n",
       "      <td>Z69043_s_at</td>\n",
       "    </tr>\n",
       "    <tr>\n",
       "      <th>2630</th>\n",
       "      <td>Z69881_at</td>\n",
       "    </tr>\n",
       "    <tr>\n",
       "      <th>2631</th>\n",
       "      <td>Z70222_at</td>\n",
       "    </tr>\n",
       "    <tr>\n",
       "      <th>2632</th>\n",
       "      <td>Z70759_at</td>\n",
       "    </tr>\n",
       "    <tr>\n",
       "      <th>2633</th>\n",
       "      <td>Z72499_at</td>\n",
       "    </tr>\n",
       "    <tr>\n",
       "      <th>2634</th>\n",
       "      <td>Z74615_at</td>\n",
       "    </tr>\n",
       "    <tr>\n",
       "      <th>2635</th>\n",
       "      <td>Z74616_s_at</td>\n",
       "    </tr>\n",
       "    <tr>\n",
       "      <th>2636</th>\n",
       "      <td>Z75330_at</td>\n",
       "    </tr>\n",
       "    <tr>\n",
       "      <th>2637</th>\n",
       "      <td>Z78289_at</td>\n",
       "    </tr>\n",
       "    <tr>\n",
       "      <th>2638</th>\n",
       "      <td>Z78290_at</td>\n",
       "    </tr>\n",
       "    <tr>\n",
       "      <th>2639</th>\n",
       "      <td>Z78291_at</td>\n",
       "    </tr>\n",
       "    <tr>\n",
       "      <th>2640</th>\n",
       "      <td>Z80780_f_at</td>\n",
       "    </tr>\n",
       "    <tr>\n",
       "      <th>2641</th>\n",
       "      <td>Z83336_at</td>\n",
       "    </tr>\n",
       "    <tr>\n",
       "      <th>2642</th>\n",
       "      <td>Z84497_s_at</td>\n",
       "    </tr>\n",
       "    <tr>\n",
       "      <th>2643</th>\n",
       "      <td>Z84721_cds2_at</td>\n",
       "    </tr>\n",
       "    <tr>\n",
       "      <th>2644</th>\n",
       "      <td>Z96810_at</td>\n",
       "    </tr>\n",
       "    <tr>\n",
       "      <th>2645</th>\n",
       "      <td>Z97054_xpt2_at</td>\n",
       "    </tr>\n",
       "    <tr>\n",
       "      <th>2646</th>\n",
       "      <td>Z97074_at</td>\n",
       "    </tr>\n",
       "  </tbody>\n",
       "</table>\n",
       "<p>2623 rows × 1 columns</p>\n",
       "</div>"
      ],
      "text/plain": [
       "          Relevant Genes\n",
       "0              A28102_at\n",
       "1            AB000114_at\n",
       "2            AB000115_at\n",
       "3            AB000220_at\n",
       "4            AB000409_at\n",
       "5            AB000462_at\n",
       "6            AB000905_at\n",
       "7            AB001106_at\n",
       "8            AB001325_at\n",
       "9            AB002314_at\n",
       "10           AB002315_at\n",
       "11           AB002318_at\n",
       "12           AB002382_at\n",
       "13           AB002409_at\n",
       "14           AB003102_at\n",
       "15           AB003177_at\n",
       "16           AB006782_at\n",
       "17           AC000062_at\n",
       "18      AC000064_cds1_at\n",
       "19      AC000064_cds2_at\n",
       "20           AC000066_at\n",
       "21           AC000099_at\n",
       "22      AC000115_cds1_at\n",
       "23      AC002045_xpt1_at\n",
       "24    AC002045_xpt2_s_at\n",
       "25      AC002115_cds1_at\n",
       "26      AC002115_rna2_at\n",
       "27    AD000092_cds7_s_at\n",
       "28      AD001527_cds1_at\n",
       "29           AF000177_at\n",
       "...                  ...\n",
       "2617         Z49835_s_at\n",
       "2618           Z50022_at\n",
       "2619           Z50053_at\n",
       "2620         Z50115_s_at\n",
       "2621           Z50194_at\n",
       "2622           Z50749_at\n",
       "2623           Z50781_at\n",
       "2624           Z50853_at\n",
       "2625           Z56281_at\n",
       "2626      Z68129_cds1_at\n",
       "2627           Z68193_at\n",
       "2628         Z69030_s_at\n",
       "2629         Z69043_s_at\n",
       "2630           Z69881_at\n",
       "2631           Z70222_at\n",
       "2632           Z70759_at\n",
       "2633           Z72499_at\n",
       "2634           Z74615_at\n",
       "2635         Z74616_s_at\n",
       "2636           Z75330_at\n",
       "2637           Z78289_at\n",
       "2638           Z78290_at\n",
       "2639           Z78291_at\n",
       "2640         Z80780_f_at\n",
       "2641           Z83336_at\n",
       "2642         Z84497_s_at\n",
       "2643      Z84721_cds2_at\n",
       "2644           Z96810_at\n",
       "2645      Z97054_xpt2_at\n",
       "2646           Z97074_at\n",
       "\n",
       "[2623 rows x 1 columns]"
      ]
     },
     "execution_count": 31,
     "metadata": {},
     "output_type": "execute_result"
    }
   ],
   "source": [
    "feature_labels = DataFrame(geneNames)\n",
    "feature_labels.columns = ['Relevant Genes']\n",
    "print len(feature_labels.loc[feature_index])\n",
    "feature_labels.loc[feature_index]"
   ]
  },
  {
   "cell_type": "code",
   "execution_count": 32,
   "metadata": {
    "collapsed": false
   },
   "outputs": [],
   "source": [
    "if chooseModel == 'l' or chooseModel == 'e':\n",
    "    log_model.fit(X_sel,Y)\n",
    "    log_model.score(X_sel,Y)"
   ]
  },
  {
   "cell_type": "code",
   "execution_count": 33,
   "metadata": {
    "collapsed": false
   },
   "outputs": [],
   "source": [
    "if chooseModel == 'l' or chooseModel == 'e':\n",
    "    class_prob = log_model.predict_proba(X_sel)"
   ]
  },
  {
   "cell_type": "code",
   "execution_count": 34,
   "metadata": {
    "collapsed": false
   },
   "outputs": [],
   "source": [
    "if chooseModel == 'l' or chooseModel == 'e':\n",
    "    class_prob.shape"
   ]
  },
  {
   "cell_type": "code",
   "execution_count": 35,
   "metadata": {
    "collapsed": false
   },
   "outputs": [],
   "source": [
    "if chooseModel == 'l' or chooseModel == 'e':\n",
    "    dfprob = DataFrame(class_prob)\n",
    "    dfprob.mean()"
   ]
  },
  {
   "cell_type": "markdown",
   "metadata": {},
   "source": [
    "##Cross Validation"
   ]
  },
  {
   "cell_type": "code",
   "execution_count": 36,
   "metadata": {
    "collapsed": false
   },
   "outputs": [],
   "source": [
    "# Make a new log_model\n",
    "#log_model2 = LogisticRegression()\n",
    "log_model2 = LogisticRegression(dual = False, fit_intercept = True)\n",
    "\n",
    "xvalacc = []\n",
    "xvalROC = []\n",
    "M = 1000\n",
    "\n",
    "for i in range(M):\n",
    "\n",
    "    # Split the data\n",
    "    X_train, X_test, Y_train, Y_test = train_test_split(X_sel, Y)\n",
    "\n",
    "    # Now fit the new model\n",
    "    log_model2.fit(X_train, Y_train)\n",
    "\n",
    "    # Predict the classes of the testing data set\n",
    "    class_predict = log_model2.predict(X_test)\n",
    "\n",
    "    # Compare the predicted classes to the actual test classes\n",
    "    xvalacc.append(metrics.accuracy_score(Y_test,class_predict))\n",
    "    try:\n",
    "        xvalROC.append(roc_auc_score(Y_test,class_predict))\n",
    "    except ValueError:\n",
    "        pass"
   ]
  },
  {
   "cell_type": "code",
   "execution_count": 37,
   "metadata": {
    "collapsed": false
   },
   "outputs": [
    {
     "data": {
      "text/plain": [
       "0.046139354135054808"
      ]
     },
     "execution_count": 37,
     "metadata": {},
     "output_type": "execute_result"
    }
   ],
   "source": [
    "np.std(xvalacc)"
   ]
  },
  {
   "cell_type": "code",
   "execution_count": 38,
   "metadata": {
    "collapsed": false
   },
   "outputs": [
    {
     "data": {
      "text/plain": [
       "0.94539999999999991"
      ]
     },
     "execution_count": 38,
     "metadata": {},
     "output_type": "execute_result"
    }
   ],
   "source": [
    "np.mean(xvalacc)"
   ]
  },
  {
   "cell_type": "code",
   "execution_count": 39,
   "metadata": {
    "collapsed": false
   },
   "outputs": [
    {
     "data": {
      "text/plain": [
       "0.073453915297374509"
      ]
     },
     "execution_count": 39,
     "metadata": {},
     "output_type": "execute_result"
    }
   ],
   "source": [
    "np.std(xvalROC)"
   ]
  },
  {
   "cell_type": "code",
   "execution_count": 40,
   "metadata": {
    "collapsed": false
   },
   "outputs": [
    {
     "data": {
      "text/plain": [
       "0.93013594193504756"
      ]
     },
     "execution_count": 40,
     "metadata": {},
     "output_type": "execute_result"
    }
   ],
   "source": [
    "np.mean(xvalROC)"
   ]
  },
  {
   "cell_type": "code",
   "execution_count": 41,
   "metadata": {
    "collapsed": false
   },
   "outputs": [
    {
     "data": {
      "text/plain": [
       "array([ 1.,  0.,  1.,  1.,  0.,  1.,  0.,  0.,  0.,  0.,  1.,  0.,  0.,\n",
       "        0.,  0.,  0.,  1.,  0.,  0.,  0.])"
      ]
     },
     "execution_count": 41,
     "metadata": {},
     "output_type": "execute_result"
    }
   ],
   "source": [
    "#Y_test = np.ones(20)\n",
    "Y_test"
   ]
  },
  {
   "cell_type": "code",
   "execution_count": 42,
   "metadata": {
    "collapsed": false
   },
   "outputs": [
    {
     "data": {
      "text/plain": [
       "array([ 1.,  0.,  1.,  1.,  0.,  1.,  0.,  0.,  0.,  0.,  1.,  0.,  0.,\n",
       "        0.,  0.,  0.,  1.,  0.,  1.,  0.])"
      ]
     },
     "execution_count": 42,
     "metadata": {},
     "output_type": "execute_result"
    }
   ],
   "source": [
    "class_predict"
   ]
  },
  {
   "cell_type": "code",
   "execution_count": 43,
   "metadata": {
    "collapsed": false
   },
   "outputs": [
    {
     "data": {
      "text/plain": [
       "0.9642857142857143"
      ]
     },
     "execution_count": 43,
     "metadata": {},
     "output_type": "execute_result"
    }
   ],
   "source": [
    "roc_auc_score(Y_test,class_predict)"
   ]
  },
  {
   "cell_type": "code",
   "execution_count": 44,
   "metadata": {
    "collapsed": false
   },
   "outputs": [
    {
     "data": {
      "text/plain": [
       "array([[13,  1],\n",
       "       [ 0,  6]])"
      ]
     },
     "execution_count": 44,
     "metadata": {},
     "output_type": "execute_result"
    }
   ],
   "source": [
    "confusion_matrix(Y_test,class_predict)"
   ]
  },
  {
   "cell_type": "code",
   "execution_count": 45,
   "metadata": {
    "collapsed": false
   },
   "outputs": [
    {
     "data": {
      "text/plain": [
       "array([[ 17870717.96045525,  14196399.51554794,   9004238.1186709 , ...,\n",
       "         14167562.64143242,  14322895.42220946,  15065283.00993499],\n",
       "       [ 14196399.51554794,  19770401.85042563,   9621707.12536272, ...,\n",
       "         11958135.94214073,  11713489.21776752,  12155211.25155799],\n",
       "       [  9004238.1186709 ,   9621707.12536272,   9820803.92624385, ...,\n",
       "          9004914.0568588 ,   8312047.57673643,   8450384.77437363],\n",
       "       ..., \n",
       "       [ 14167562.64143242,  11958135.94214073,   9004914.0568588 , ...,\n",
       "         15924159.12866785,  14306381.34028045,  15031600.2369615 ],\n",
       "       [ 14322895.42220946,  11713489.21776752,   8312047.57673643, ...,\n",
       "         14306381.34028045,  14780446.22869019,  14819320.65676864],\n",
       "       [ 15065283.00993499,  12155211.25155799,   8450384.77437363, ...,\n",
       "         15031600.2369615 ,  14819320.65676864,  16317806.28776451]])"
      ]
     },
     "execution_count": 45,
     "metadata": {},
     "output_type": "execute_result"
    }
   ],
   "source": [
    "np.cov(X_sel)"
   ]
  },
  {
   "cell_type": "markdown",
   "metadata": {},
   "source": [
    "#Spectral Clustering"
   ]
  },
  {
   "cell_type": "code",
   "execution_count": 46,
   "metadata": {
    "collapsed": true
   },
   "outputs": [],
   "source": [
    "from sklearn.cluster import SpectralClustering\n",
    "import matplotlib.cm as cm"
   ]
  },
  {
   "cell_type": "code",
   "execution_count": 47,
   "metadata": {
    "collapsed": false
   },
   "outputs": [
    {
     "name": "stdout",
     "output_type": "stream",
     "text": [
      "[0 0 1 0 1 0 1 0 1 0 1 1 1 0 0 0 0 0 1 0 0 1 1 0 0 1 1 0 0 0 1 0 0 0 0 0 0\n",
      " 1 0 1 0 1 0 0 0 0 0 0 1 0 0 1 0 0 0 0 0 0 0 0 0 0 0 0 1 0 1 0 0 1 0 0 1 0\n",
      " 1 0 0 0 0 0 0 0 0 0 0 0 1 0 0 0 0 1 0 0 0 1 0 1 0 1]\n"
     ]
    }
   ],
   "source": [
    "spclus = SpectralClustering(affinity='nearest_neighbors', n_neighbors=20, n_clusters=2, assign_labels='discretize')\n",
    "spclus_pred = spclus.fit_predict(X_sel.T)\n",
    "print spclus_pred[:100]"
   ]
  },
  {
   "cell_type": "code",
   "execution_count": 48,
   "metadata": {
    "collapsed": false
   },
   "outputs": [
    {
     "data": {
      "text/plain": [
       "(693,)"
      ]
     },
     "execution_count": 48,
     "metadata": {},
     "output_type": "execute_result"
    }
   ],
   "source": [
    "spclus_pred.shape"
   ]
  },
  {
   "cell_type": "markdown",
   "metadata": {},
   "source": [
    "####Need to create adjecency matrix."
   ]
  },
  {
   "cell_type": "code",
   "execution_count": 49,
   "metadata": {
    "collapsed": false
   },
   "outputs": [
    {
     "name": "stdout",
     "output_type": "stream",
     "text": [
      "  (0, 0)\t1.0\n",
      "  (0, 5)\t1.0\n",
      "  (0, 157)\t1.0\n",
      "  (0, 595)\t1.0\n",
      "  (0, 637)\t1.0\n",
      "  (0, 635)\t1.0\n",
      "  (0, 535)\t1.0\n",
      "  (0, 50)\t1.0\n",
      "  (0, 371)\t1.0\n",
      "  (0, 360)\t1.0\n",
      "  (0, 269)\t1.0\n",
      "  (0, 171)\t1.0\n",
      "  (0, 363)\t1.0\n",
      "  (0, 216)\t1.0\n",
      "  (0, 599)\t1.0\n",
      "  (0, 59)\t1.0\n",
      "  (0, 559)\t1.0\n",
      "  (0, 406)\t1.0\n",
      "  (0, 246)\t1.0\n",
      "  (0, 458)\t1.0\n",
      "<class 'scipy.sparse.csr.csr_matrix'>\n",
      "(693, 693)\n",
      "<bound method csr_matrix.todense of <693x693 sparse matrix of type '<type 'numpy.float64'>'\n",
      "\twith 13860 stored elements in Compressed Sparse Row format>>\n"
     ]
    }
   ],
   "source": [
    "W = kneighbors_graph(X_sel.T, 20, include_self=True)\n",
    "print W[0]\n",
    "print type(W)\n",
    "print W.shape\n",
    "print(W.todense)"
   ]
  },
  {
   "cell_type": "code",
   "execution_count": 50,
   "metadata": {
    "collapsed": false
   },
   "outputs": [
    {
     "data": {
      "image/png": "[encoded data removed]",
      "text/plain": [
       "<matplotlib.figure.Figure at 0x7fc132acb1d0>"
      ]
     },
     "metadata": {},
     "output_type": "display_data"
    }
   ],
   "source": [
    "G = nx.from_scipy_sparse_matrix(W)\n",
    "node_colors= spclus_pred\n",
    "nx.draw(G, node_size = 90, node_color = spclus_pred, cmap=cm.RdYlGn)"
   ]
  },
  {
   "cell_type": "code",
   "execution_count": 51,
   "metadata": {
    "collapsed": false
   },
   "outputs": [
    {
     "data": {
      "text/plain": [
       "693"
      ]
     },
     "execution_count": 51,
     "metadata": {},
     "output_type": "execute_result"
    }
   ],
   "source": [
    "X_sel.T.shape[0]"
   ]
  },
  {
   "cell_type": "code",
   "execution_count": 52,
   "metadata": {
    "collapsed": false
   },
   "outputs": [
    {
     "name": "stdout",
     "output_type": "stream",
     "text": [
      "693\n",
      "(77, 693)\n",
      "(693, 693)\n",
      "[[ 1.  0.  0. ...,  0.  0.  0.]\n",
      " [ 0.  1.  0. ...,  0.  0.  0.]\n",
      " [ 0.  0.  1. ...,  0.  0.  0.]\n",
      " ..., \n",
      " [ 0.  0.  0. ...,  1.  0.  0.]\n",
      " [ 0.  0.  0. ...,  0.  1.  0.]\n",
      " [ 0.  0.  0. ...,  0.  0.  1.]]\n",
      "(77, 693)\n"
     ]
    }
   ],
   "source": [
    "#n = 50\n",
    "#ncSample = numberClasses.loc[np.random.choice(numberClasses.index, n, replace=False)]\n",
    "\n",
    "n = X_sel.shape[1]\n",
    "W = np.zeros((n,n))\n",
    "print n\n",
    "print X_sel.shape\n",
    "print W.shape\n",
    "sigma = 1.25\n",
    "\n",
    "for i in range(n):\n",
    "    for j in range(n):\n",
    "        W[i,j] = np.exp(-np.sum((X_sel[:,i] - X_sel[:,j])**2)/(2*sigma**2))\n",
    "        \n",
    "print W\n",
    "print X_sel.shape"
   ]
  },
  {
   "cell_type": "code",
   "execution_count": 61,
   "metadata": {
    "collapsed": false
   },
   "outputs": [
    {
     "data": {
      "text/plain": [
       "array([[  4511.06200917,    974.20539385,   6027.00725969, ...,\n",
       "          1241.06057821,   7036.82655862,   1543.69789902],\n",
       "       [  2960.12486879,   1225.50059143,  11586.98252805, ...,\n",
       "          2078.82910551,  16000.        ,    949.92214046],\n",
       "       [  3338.55319536,   1268.10512122,  11443.59534753, ...,\n",
       "          2755.40173537,  16000.        ,   1332.65561209],\n",
       "       ..., \n",
       "       [  3425.79338338,   2484.21560909,   5926.52503012, ...,\n",
       "          1913.75881651,  12010.35669855,   1756.90896813],\n",
       "       [  5305.24605334,   3401.97915044,   6379.85568437, ...,\n",
       "          1045.90570275,   6203.86307659,   1586.93377445],\n",
       "       [  5037.82382597,   5178.1827837 ,   6683.5325196 , ...,\n",
       "          1009.53747949,   8561.59758392,   1828.96074221]])"
      ]
     },
     "execution_count": 61,
     "metadata": {},
     "output_type": "execute_result"
    }
   ],
   "source": [
    "X_sel[:,1]\n",
    "X_sel"
   ]
  },
  {
   "cell_type": "code",
   "execution_count": 54,
   "metadata": {
    "collapsed": false
   },
   "outputs": [
    {
     "data": {
      "text/plain": [
       "array([0, 0, 1, 0, 1, 0, 1, 0, 1, 0, 1, 1, 1, 0, 0, 0, 0, 0, 1, 0, 0, 1, 1,\n",
       "       0, 0, 1, 1, 0, 0, 0, 1, 0, 0, 0, 0, 0, 0, 1, 0, 1, 0, 1, 0, 0, 0, 0,\n",
       "       0, 0, 1, 0, 0, 1, 0, 0, 0, 0, 0, 0, 0, 0, 0, 0, 0, 0, 1, 0, 1, 0, 0,\n",
       "       1, 0, 0, 1, 0, 1, 0, 0, 0, 0, 0, 0, 0, 0, 0, 0, 0, 1, 0, 0, 0, 0, 1,\n",
       "       0, 0, 0, 1, 0, 1, 0, 1, 0, 0, 1, 0, 1, 0, 0, 1, 0, 0, 1, 0, 0, 0, 1,\n",
       "       1, 0, 0, 1, 1, 1, 0, 1, 0, 1, 0, 0, 1, 1, 1, 0, 0, 1, 0, 0, 0, 0, 0,\n",
       "       1, 0, 0, 0, 0, 0, 0, 0, 1, 1, 1, 1, 0, 1, 0, 0, 1, 0, 0, 0, 1, 0, 0,\n",
       "       1, 1, 1, 0, 0, 1, 0, 0, 0, 0, 0, 1, 1, 1, 0, 0, 0, 0, 0, 0, 0, 0, 0,\n",
       "       0, 1, 0, 0, 1, 0, 0, 0, 0, 0, 0, 0, 0, 1, 0, 0, 1, 0, 0, 0, 0, 1, 0,\n",
       "       0, 1, 1, 0, 0, 1, 0, 0, 0, 0, 0, 0, 0, 0, 0, 0, 0, 0, 0, 0, 0, 0, 0,\n",
       "       0, 0, 0, 1, 0, 1, 0, 1, 1, 0, 0, 1, 0, 0, 1, 0, 0, 0, 0, 0, 0, 0, 0,\n",
       "       0, 1, 1, 1, 0, 1, 0, 0, 0, 1, 0, 1, 1, 0, 0, 0, 0, 1, 1, 1, 1, 0, 0,\n",
       "       0, 1, 1, 1, 1, 0, 0, 0, 0, 0, 1, 1, 0, 1, 1, 0, 0, 0, 1, 0, 0, 0, 1,\n",
       "       1, 0, 0, 0, 1, 1, 1, 0, 0, 0, 1, 0, 1, 1, 0, 1, 1, 1, 0, 0, 1, 0, 0,\n",
       "       1, 0, 1, 1, 0, 0, 0, 0, 0, 0, 0, 1, 0, 0, 0, 0, 1, 0, 0, 1, 0, 0, 1,\n",
       "       1, 1, 0, 1, 0, 0, 1, 1, 0, 0, 1, 0, 0, 1, 0, 0, 0, 0, 0, 0, 0, 0, 1,\n",
       "       0, 0, 0, 0, 1, 0, 0, 0, 1, 0, 1, 1, 0, 1, 0, 0, 0, 0, 0, 0, 0, 0, 0,\n",
       "       1, 0, 0, 0, 1, 1, 1, 1, 1, 1, 1, 0, 0, 0, 0, 0, 0, 0, 0, 0, 0, 0, 0,\n",
       "       0, 0, 1, 0, 0, 0, 0, 0, 0, 0, 0, 0, 0, 0, 0, 0, 1, 0, 0, 0, 0, 1, 0,\n",
       "       0, 1, 1, 1, 0, 0, 0, 0, 0, 0, 1, 0, 1, 0, 0, 0, 0, 1, 0, 0, 1, 0, 0,\n",
       "       0, 0, 0, 0, 1, 1, 0, 0, 0, 0, 1, 0, 0, 0, 0, 0, 0, 0, 0, 1, 0, 0, 0,\n",
       "       0, 0, 0, 1, 0, 0, 1, 0, 0, 0, 1, 0, 1, 0, 1, 1, 1, 1, 1, 0, 1, 1, 0,\n",
       "       0, 0, 0, 0, 1, 1, 1, 1, 0, 1, 1, 0, 0, 0, 1, 0, 0, 1, 1, 1, 1, 0, 0,\n",
       "       1, 1, 1, 0, 0, 1, 0, 1, 0, 1, 0, 0, 0, 0, 1, 1, 1, 0, 1, 1, 0, 0, 1,\n",
       "       0, 0, 1, 0, 0, 0, 1, 0, 1, 1, 0, 1, 0, 0, 1, 0, 0, 1, 1, 1, 0, 0, 0,\n",
       "       0, 1, 1, 0, 1, 0, 0, 1, 0, 0, 0, 1, 0, 0, 0, 0, 1, 0, 0, 0, 0, 0, 0,\n",
       "       0, 0, 1, 1, 0, 1, 0, 1, 0, 0, 1, 1, 0, 0, 0, 0, 1, 0, 0, 1, 0, 0, 0,\n",
       "       1, 0, 0, 0, 0, 0, 0, 0, 0, 0, 0, 0, 1, 0, 0, 1, 0, 1, 1, 0, 0, 1, 0,\n",
       "       0, 0, 0, 0, 0, 0, 0, 0, 0, 1, 0, 0, 0, 0, 1, 0, 1, 0, 0, 0, 0, 0, 1,\n",
       "       0, 0, 0, 0, 0, 0, 1, 1, 1, 1, 0, 0, 0, 0, 1, 0, 0, 1, 0, 0, 0, 0, 0,\n",
       "       0, 1, 0])"
      ]
     },
     "execution_count": 54,
     "metadata": {},
     "output_type": "execute_result"
    }
   ],
   "source": [
    "spclus_pred"
   ]
  },
  {
   "cell_type": "code",
   "execution_count": 55,
   "metadata": {
    "collapsed": false
   },
   "outputs": [
    {
     "data": {
      "image/png": "[encoded data removed]",
      "text/plain": [
       "<matplotlib.figure.Figure at 0x7fc131fb2090>"
      ]
     },
     "metadata": {},
     "output_type": "display_data"
    }
   ],
   "source": [
    "G = nx.Graph(W)\n",
    "node_colors= spclus_pred\n",
    "nx.draw(G, node_size = 90, node_color = spclus_pred, cmap=cm.RdYlGn)"
   ]
  },
  {
   "cell_type": "code",
   "execution_count": 56,
   "metadata": {
    "collapsed": false
   },
   "outputs": [
    {
     "data": {
      "image/png": "[encoded data removed]",
      "text/plain": [
       "<matplotlib.figure.Figure at 0x7fc1325c8190>"
      ]
     },
     "metadata": {},
     "output_type": "display_data"
    }
   ],
   "source": [
    "plt.pcolor(X_sel, cmap=cm.RdYlGn)\n",
    "plt.show()"
   ]
  },
  {
   "cell_type": "code",
   "execution_count": 57,
   "metadata": {
    "collapsed": false
   },
   "outputs": [
    {
     "data": {
      "text/plain": [
       "0.0"
      ]
     },
     "execution_count": 57,
     "metadata": {},
     "output_type": "execute_result"
    }
   ],
   "source": [
    "W[2,1]"
   ]
  },
  {
   "cell_type": "code",
   "execution_count": 58,
   "metadata": {
    "collapsed": false
   },
   "outputs": [],
   "source": [
    "#ax = sns.heatmap(X_sel)"
   ]
  },
  {
   "cell_type": "code",
   "execution_count": 59,
   "metadata": {
    "collapsed": false
   },
   "outputs": [
    {
     "data": {
      "text/html": [
       "<div>\n",
       "<table border=\"1\" class=\"dataframe\">\n",
       "  <thead>\n",
       "    <tr style=\"text-align: right;\">\n",
       "      <th></th>\n",
       "      <th>0</th>\n",
       "      <th>1</th>\n",
       "      <th>2</th>\n",
       "      <th>3</th>\n",
       "      <th>4</th>\n",
       "      <th>5</th>\n",
       "      <th>6</th>\n",
       "      <th>7</th>\n",
       "      <th>8</th>\n",
       "      <th>9</th>\n",
       "      <th>...</th>\n",
       "      <th>67</th>\n",
       "      <th>68</th>\n",
       "      <th>69</th>\n",
       "      <th>70</th>\n",
       "      <th>71</th>\n",
       "      <th>72</th>\n",
       "      <th>73</th>\n",
       "      <th>74</th>\n",
       "      <th>75</th>\n",
       "      <th>76</th>\n",
       "    </tr>\n",
       "  </thead>\n",
       "  <tbody>\n",
       "    <tr>\n",
       "      <th>A28102_at</th>\n",
       "      <td>766.6414</td>\n",
       "      <td>773.8651</td>\n",
       "      <td>1405.578</td>\n",
       "      <td>998.3683</td>\n",
       "      <td>1196.41</td>\n",
       "      <td>877.4896</td>\n",
       "      <td>985.9972</td>\n",
       "      <td>797.388</td>\n",
       "      <td>1325.268</td>\n",
       "      <td>1384.826</td>\n",
       "      <td>...</td>\n",
       "      <td>616.8943</td>\n",
       "      <td>1239.576</td>\n",
       "      <td>964.2183</td>\n",
       "      <td>768.8281</td>\n",
       "      <td>695.5737</td>\n",
       "      <td>715.3347</td>\n",
       "      <td>1469.583</td>\n",
       "      <td>773.4497</td>\n",
       "      <td>1051.386</td>\n",
       "      <td>1002.148</td>\n",
       "    </tr>\n",
       "    <tr>\n",
       "      <th>AB000114_at</th>\n",
       "      <td>555.7206</td>\n",
       "      <td>422.7328</td>\n",
       "      <td>600.1598</td>\n",
       "      <td>454.3518</td>\n",
       "      <td>837.2247</td>\n",
       "      <td>849.1001</td>\n",
       "      <td>648.6978</td>\n",
       "      <td>426.6123</td>\n",
       "      <td>672.285</td>\n",
       "      <td>589.2198</td>\n",
       "      <td>...</td>\n",
       "      <td>439.7209</td>\n",
       "      <td>701.499</td>\n",
       "      <td>541.0695</td>\n",
       "      <td>529.5326</td>\n",
       "      <td>413.1007</td>\n",
       "      <td>521.979</td>\n",
       "      <td>864.3235</td>\n",
       "      <td>574.0232</td>\n",
       "      <td>635.0895</td>\n",
       "      <td>699.5374</td>\n",
       "    </tr>\n",
       "    <tr>\n",
       "      <th>AB000115_at</th>\n",
       "      <td>691.2145</td>\n",
       "      <td>856.9154</td>\n",
       "      <td>694.4165</td>\n",
       "      <td>761.4268</td>\n",
       "      <td>1037.254</td>\n",
       "      <td>1234.196</td>\n",
       "      <td>1134.589</td>\n",
       "      <td>666.814</td>\n",
       "      <td>995.183</td>\n",
       "      <td>837.5366</td>\n",
       "      <td>...</td>\n",
       "      <td>1386.846</td>\n",
       "      <td>771.303</td>\n",
       "      <td>837.1864</td>\n",
       "      <td>915.5096</td>\n",
       "      <td>624.7364</td>\n",
       "      <td>868.7214</td>\n",
       "      <td>1097.45</td>\n",
       "      <td>683.6391</td>\n",
       "      <td>807.4374</td>\n",
       "      <td>913.208</td>\n",
       "    </tr>\n",
       "    <tr>\n",
       "      <th>AB000220_at</th>\n",
       "      <td>541.3077</td>\n",
       "      <td>499.5031</td>\n",
       "      <td>603.8363</td>\n",
       "      <td>430.8263</td>\n",
       "      <td>839.5753</td>\n",
       "      <td>534.4369</td>\n",
       "      <td>670.2772</td>\n",
       "      <td>525.9375</td>\n",
       "      <td>585.6788</td>\n",
       "      <td>601.697</td>\n",
       "      <td>...</td>\n",
       "      <td>636.6647</td>\n",
       "      <td>612.4782</td>\n",
       "      <td>533.5298</td>\n",
       "      <td>459.4197</td>\n",
       "      <td>422.3412</td>\n",
       "      <td>545.2269</td>\n",
       "      <td>877.1493</td>\n",
       "      <td>557.9928</td>\n",
       "      <td>759.4676</td>\n",
       "      <td>606.5059</td>\n",
       "    </tr>\n",
       "    <tr>\n",
       "      <th>AB000409_at</th>\n",
       "      <td>1071.147</td>\n",
       "      <td>1011.28</td>\n",
       "      <td>1044.097</td>\n",
       "      <td>1374.274</td>\n",
       "      <td>1494.959</td>\n",
       "      <td>1056.126</td>\n",
       "      <td>1136.099</td>\n",
       "      <td>1077.247</td>\n",
       "      <td>1007.713</td>\n",
       "      <td>937.7144</td>\n",
       "      <td>...</td>\n",
       "      <td>1381.038</td>\n",
       "      <td>899.4838</td>\n",
       "      <td>1253.65</td>\n",
       "      <td>1125.613</td>\n",
       "      <td>1040.631</td>\n",
       "      <td>1241.448</td>\n",
       "      <td>1518.53</td>\n",
       "      <td>1082.058</td>\n",
       "      <td>1288.913</td>\n",
       "      <td>1199.068</td>\n",
       "    </tr>\n",
       "  </tbody>\n",
       "</table>\n",
       "<p>5 rows × 77 columns</p>\n",
       "</div>"
      ],
      "text/plain": [
       "                   0         1         2         3         4         5   \\\n",
       "A28102_at    766.6414  773.8651  1405.578  998.3683   1196.41  877.4896   \n",
       "AB000114_at  555.7206  422.7328  600.1598  454.3518  837.2247  849.1001   \n",
       "AB000115_at  691.2145  856.9154  694.4165  761.4268  1037.254  1234.196   \n",
       "AB000220_at  541.3077  499.5031  603.8363  430.8263  839.5753  534.4369   \n",
       "AB000409_at  1071.147   1011.28  1044.097  1374.274  1494.959  1056.126   \n",
       "\n",
       "                   6         7         8         9     ...           67  \\\n",
       "A28102_at    985.9972   797.388  1325.268  1384.826    ...     616.8943   \n",
       "AB000114_at  648.6978  426.6123   672.285  589.2198    ...     439.7209   \n",
       "AB000115_at  1134.589   666.814   995.183  837.5366    ...     1386.846   \n",
       "AB000220_at  670.2772  525.9375  585.6788   601.697    ...     636.6647   \n",
       "AB000409_at  1136.099  1077.247  1007.713  937.7144    ...     1381.038   \n",
       "\n",
       "                   68        69        70        71        72        73  \\\n",
       "A28102_at    1239.576  964.2183  768.8281  695.5737  715.3347  1469.583   \n",
       "AB000114_at   701.499  541.0695  529.5326  413.1007   521.979  864.3235   \n",
       "AB000115_at   771.303  837.1864  915.5096  624.7364  868.7214   1097.45   \n",
       "AB000220_at  612.4782  533.5298  459.4197  422.3412  545.2269  877.1493   \n",
       "AB000409_at  899.4838   1253.65  1125.613  1040.631  1241.448   1518.53   \n",
       "\n",
       "                   74        75        76  \n",
       "A28102_at    773.4497  1051.386  1002.148  \n",
       "AB000114_at  574.0232  635.0895  699.5374  \n",
       "AB000115_at  683.6391  807.4374   913.208  \n",
       "AB000220_at  557.9928  759.4676  606.5059  \n",
       "AB000409_at  1082.058  1288.913  1199.068  \n",
       "\n",
       "[5 rows x 77 columns]"
      ]
     },
     "execution_count": 59,
     "metadata": {},
     "output_type": "execute_result"
    }
   ],
   "source": [
    "data2.T.head()"
   ]
  },
  {
   "cell_type": "code",
   "execution_count": 60,
   "metadata": {
    "collapsed": false
   },
   "outputs": [
    {
     "ename": "KeyError",
     "evalue": "'GI_10047089-S'",
     "output_type": "error",
     "traceback": [
      "\u001b[1;31m---------------------------------------------------------------------------\u001b[0m",
      "\u001b[1;31mKeyError\u001b[0m                                  Traceback (most recent call last)",
      "\u001b[1;32m<ipython-input-60-51ee716630bd>\u001b[0m in \u001b[0;36m<module>\u001b[1;34m()\u001b[0m\n\u001b[1;32m----> 1\u001b[1;33m \u001b[0mdata2\u001b[0m\u001b[1;33m.\u001b[0m\u001b[0mT\u001b[0m\u001b[1;33m.\u001b[0m\u001b[0mhead\u001b[0m\u001b[1;33m(\u001b[0m\u001b[1;33m)\u001b[0m\u001b[1;33m[\u001b[0m\u001b[1;36m0\u001b[0m\u001b[1;33m]\u001b[0m\u001b[1;33m[\u001b[0m\u001b[1;34m'GI_10047089-S'\u001b[0m\u001b[1;33m]\u001b[0m\u001b[1;33m\u001b[0m\u001b[0m\n\u001b[0m",
      "\u001b[1;32m/home/jcapitz/anaconda/lib/python2.7/site-packages/pandas/core/series.pyc\u001b[0m in \u001b[0;36m__getitem__\u001b[1;34m(self, key)\u001b[0m\n\u001b[0;32m    519\u001b[0m     \u001b[1;32mdef\u001b[0m \u001b[0m__getitem__\u001b[0m\u001b[1;33m(\u001b[0m\u001b[0mself\u001b[0m\u001b[1;33m,\u001b[0m \u001b[0mkey\u001b[0m\u001b[1;33m)\u001b[0m\u001b[1;33m:\u001b[0m\u001b[1;33m\u001b[0m\u001b[0m\n\u001b[0;32m    520\u001b[0m         \u001b[1;32mtry\u001b[0m\u001b[1;33m:\u001b[0m\u001b[1;33m\u001b[0m\u001b[0m\n\u001b[1;32m--> 521\u001b[1;33m             \u001b[0mresult\u001b[0m \u001b[1;33m=\u001b[0m \u001b[0mself\u001b[0m\u001b[1;33m.\u001b[0m\u001b[0mindex\u001b[0m\u001b[1;33m.\u001b[0m\u001b[0mget_value\u001b[0m\u001b[1;33m(\u001b[0m\u001b[0mself\u001b[0m\u001b[1;33m,\u001b[0m \u001b[0mkey\u001b[0m\u001b[1;33m)\u001b[0m\u001b[1;33m\u001b[0m\u001b[0m\n\u001b[0m\u001b[0;32m    522\u001b[0m \u001b[1;33m\u001b[0m\u001b[0m\n\u001b[0;32m    523\u001b[0m             \u001b[1;32mif\u001b[0m \u001b[1;32mnot\u001b[0m \u001b[0mnp\u001b[0m\u001b[1;33m.\u001b[0m\u001b[0misscalar\u001b[0m\u001b[1;33m(\u001b[0m\u001b[0mresult\u001b[0m\u001b[1;33m)\u001b[0m\u001b[1;33m:\u001b[0m\u001b[1;33m\u001b[0m\u001b[0m\n",
      "\u001b[1;32m/home/jcapitz/anaconda/lib/python2.7/site-packages/pandas/core/index.pyc\u001b[0m in \u001b[0;36mget_value\u001b[1;34m(self, series, key)\u001b[0m\n\u001b[0;32m   1607\u001b[0m                     \u001b[1;32mraise\u001b[0m \u001b[0mInvalidIndexError\u001b[0m\u001b[1;33m(\u001b[0m\u001b[0mkey\u001b[0m\u001b[1;33m)\u001b[0m\u001b[1;33m\u001b[0m\u001b[0m\n\u001b[0;32m   1608\u001b[0m                 \u001b[1;32melse\u001b[0m\u001b[1;33m:\u001b[0m\u001b[1;33m\u001b[0m\u001b[0m\n\u001b[1;32m-> 1609\u001b[1;33m                     \u001b[1;32mraise\u001b[0m \u001b[0me1\u001b[0m\u001b[1;33m\u001b[0m\u001b[0m\n\u001b[0m\u001b[0;32m   1610\u001b[0m             \u001b[1;32mexcept\u001b[0m \u001b[0mException\u001b[0m\u001b[1;33m:\u001b[0m  \u001b[1;31m# pragma: no cover\u001b[0m\u001b[1;33m\u001b[0m\u001b[0m\n\u001b[0;32m   1611\u001b[0m                 \u001b[1;32mraise\u001b[0m \u001b[0me1\u001b[0m\u001b[1;33m\u001b[0m\u001b[0m\n",
      "\u001b[1;31mKeyError\u001b[0m: 'GI_10047089-S'"
     ]
    }
   ],
   "source": [
    "data2.T.head()[0]['GI_10047089-S']"
   ]
  },
  {
   "cell_type": "code",
   "execution_count": null,
   "metadata": {
    "collapsed": true
   },
   "outputs": [],
   "source": []
  },
  {
   "cell_type": "code",
   "execution_count": null,
   "metadata": {
    "collapsed": true
   },
   "outputs": [],
   "source": []
  },
  {
   "cell_type": "code",
   "execution_count": null,
   "metadata": {
    "collapsed": true
   },
   "outputs": [],
   "source": []
  },
  {
   "cell_type": "code",
   "execution_count": null,
   "metadata": {
    "collapsed": true
   },
   "outputs": [],
   "source": []
  },
  {
   "cell_type": "code",
   "execution_count": null,
   "metadata": {
    "collapsed": true
   },
   "outputs": [],
   "source": []
  }
 ],
 "metadata": {
  "kernelspec": {
   "display_name": "Python 2",
   "language": "python",
   "name": "python2"
  },
  "language_info": {
   "codemirror_mode": {
    "name": "ipython",
    "version": 2
   },
   "file_extension": ".py",
   "mimetype": "text/x-python",
   "name": "python",
   "nbconvert_exporter": "python",
   "pygments_lexer": "ipython2",
   "version": "2.7.10"
  }
 },
 "nbformat": 4,
 "nbformat_minor": 0
}
