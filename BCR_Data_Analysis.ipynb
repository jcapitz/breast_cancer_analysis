{
 "cells": [
  {
   "cell_type": "markdown",
   "metadata": {},
   "source": [
    "#Analysis of Cancer Gene Expression Data\n",
    "\n",
    "#####Python main module imports for data analysis"
   ]
  },
  {
   "cell_type": "code",
   "execution_count": 2,
   "metadata": {
    "collapsed": false
   },
   "outputs": [],
   "source": [
    "# Data Imports\n",
    "import numpy as np\n",
    "import pandas as pd\n",
    "from pandas import Series,DataFrame\n",
    "from scipy.stats import norm\n",
    "\n",
    "\n",
    "# Math\n",
    "import math\n",
    "\n",
    "# Plot imports\n",
    "import matplotlib.pyplot as plt\n",
    "import seaborn as sns\n",
    "sns.set_style('whitegrid')\n",
    "%matplotlib inline\n",
    "\n",
    "# Preprocessing Imports\n",
    "from sklearn.preprocessing import normalize\n",
    "\n",
    "# Machine Learning Imports\n",
    "from sklearn.linear_model import LogisticRegression\n",
    "from sklearn.linear_model import SGDClassifier\n",
    "from sklearn.preprocessing import StandardScaler\n",
    "from sklearn.ensemble import RandomForestClassifier\n",
    "\n",
    "\n",
    "from sklearn.linear_model import RandomizedLogisticRegression\n",
    "from sklearn.cross_validation import train_test_split\n",
    "\n",
    "# For evaluating our ML results\n",
    "from sklearn import metrics\n",
    "from sklearn.metrics import roc_auc_score, confusion_matrix\n",
    "\n",
    "# For Spectral Clustering algorithms\n",
    "from sklearn import cluster\n",
    "from sklearn.neighbors import kneighbors_graph\n",
    "\n",
    "# network imports\n",
    "import networkx as nx\n",
    "import igraph as ig"
   ]
  },
  {
   "cell_type": "markdown",
   "metadata": {},
   "source": [
    "###Data Cleaning\n",
    "\n",
    "#####Choose the data set:"
   ]
  },
  {
   "cell_type": "code",
   "execution_count": 3,
   "metadata": {
    "collapsed": false
   },
   "outputs": [
    {
     "name": "stdout",
     "output_type": "stream",
     "text": [
      "enter 'b' for breast cancer, 'l' for lynphoma cancer, or 'p' for prostate cancer: b\n"
     ]
    },
    {
     "name": "stderr",
     "output_type": "stream",
     "text": [
      "/home/jcapitz/anaconda/lib/python2.7/site-packages/pandas/io/parsers.py:1170: DtypeWarning: Columns (1,2,3,4,5,6,7,8,9,10,11,12,13,14,15,16,17,18,19,20,21,22,23,24,25,26,27,28,29,30,31,32,33,34,35,36,37,38,39,40,41,42,43,44,45,46,47,48,49,50,51,52,53,54,55,56,57,58,59,60,61,62,63,64,65,66,67,68,69,70,71,72,73,74,75,76,77,78,79,80,81,82,83,84,85,86,87,88,89,90,91,92,93,94,95,96,97,98,99,100,101,102,103,104,105,106,107,108,109,110,111,112,113,114,115,116,117,118,119,120,121,122,123,124,125,126,127,128) have mixed types. Specify dtype option on import or set low_memory=False.\n",
      "  data = self._reader.read(nrows)\n"
     ]
    }
   ],
   "source": [
    "# read data file\n",
    "chooseData = raw_input(\"enter 'b' for breast cancer, 'l' for lynphoma cancer, or 'p' for prostate cancer: \")\n",
    "\n",
    "if chooseData == 'b':\n",
    "    datafile = '~/Documents/THESIS/project/ICOS_DATA/breast_preprocessed.txt'\n",
    "elif chooseData == 'l':\n",
    "    datafile = '~/Documents/THESIS/project/ICOS_DATA/dlbcl_preprocessed.txt'\n",
    "else:\n",
    "    datafile = '~/Documents/THESIS/project/ICOS_DATA/prostate_preprocessed.txt'\n",
    "\n",
    "data = pd.read_table(datafile, delim_whitespace = True, \n",
    "                     dtype={'a': np.float64}, header = None)"
   ]
  },
  {
   "cell_type": "code",
   "execution_count": 4,
   "metadata": {
    "collapsed": false
   },
   "outputs": [
    {
     "name": "stdout",
     "output_type": "stream",
     "text": [
      "(47294, 129)\n"
     ]
    },
    {
     "data": {
      "text/html": [
       "<div>\n",
       "<table border=\"1\" class=\"dataframe\">\n",
       "  <thead>\n",
       "    <tr style=\"text-align: right;\">\n",
       "      <th></th>\n",
       "      <th>0</th>\n",
       "      <th>1</th>\n",
       "      <th>2</th>\n",
       "      <th>3</th>\n",
       "      <th>4</th>\n",
       "      <th>5</th>\n",
       "      <th>6</th>\n",
       "      <th>7</th>\n",
       "      <th>8</th>\n",
       "      <th>9</th>\n",
       "      <th>...</th>\n",
       "      <th>119</th>\n",
       "      <th>120</th>\n",
       "      <th>121</th>\n",
       "      <th>122</th>\n",
       "      <th>123</th>\n",
       "      <th>124</th>\n",
       "      <th>125</th>\n",
       "      <th>126</th>\n",
       "      <th>127</th>\n",
       "      <th>128</th>\n",
       "    </tr>\n",
       "  </thead>\n",
       "  <tbody>\n",
       "    <tr>\n",
       "      <th>47289</th>\n",
       "      <td>lysA</td>\n",
       "      <td>5.68</td>\n",
       "      <td>5.7194</td>\n",
       "      <td>5.7592</td>\n",
       "      <td>5.6898</td>\n",
       "      <td>5.7236</td>\n",
       "      <td>5.662</td>\n",
       "      <td>5.6684</td>\n",
       "      <td>5.6742</td>\n",
       "      <td>5.6669</td>\n",
       "      <td>...</td>\n",
       "      <td>5.7164</td>\n",
       "      <td>5.7175</td>\n",
       "      <td>5.7133</td>\n",
       "      <td>5.7133</td>\n",
       "      <td>5.6753</td>\n",
       "      <td>5.6679</td>\n",
       "      <td>5.6692</td>\n",
       "      <td>5.7666</td>\n",
       "      <td>5.72</td>\n",
       "      <td>5.75</td>\n",
       "    </tr>\n",
       "    <tr>\n",
       "      <th>47290</th>\n",
       "      <td>pheA</td>\n",
       "      <td>5.705</td>\n",
       "      <td>5.6142</td>\n",
       "      <td>5.6955</td>\n",
       "      <td>5.6227</td>\n",
       "      <td>5.6727</td>\n",
       "      <td>5.5995</td>\n",
       "      <td>5.633</td>\n",
       "      <td>5.6539</td>\n",
       "      <td>5.6511</td>\n",
       "      <td>...</td>\n",
       "      <td>5.6595</td>\n",
       "      <td>5.6292</td>\n",
       "      <td>5.6042</td>\n",
       "      <td>5.6266</td>\n",
       "      <td>5.6022</td>\n",
       "      <td>5.6709</td>\n",
       "      <td>5.6136</td>\n",
       "      <td>5.6038</td>\n",
       "      <td>5.6693</td>\n",
       "      <td>5.5818</td>\n",
       "    </tr>\n",
       "    <tr>\n",
       "      <th>47291</th>\n",
       "      <td>thrB</td>\n",
       "      <td>5.7077</td>\n",
       "      <td>5.7586</td>\n",
       "      <td>5.7279</td>\n",
       "      <td>5.6777</td>\n",
       "      <td>5.6761</td>\n",
       "      <td>5.7091</td>\n",
       "      <td>5.6777</td>\n",
       "      <td>5.68</td>\n",
       "      <td>5.6763</td>\n",
       "      <td>...</td>\n",
       "      <td>5.6918</td>\n",
       "      <td>5.6501</td>\n",
       "      <td>5.5772</td>\n",
       "      <td>5.6637</td>\n",
       "      <td>5.6556</td>\n",
       "      <td>5.6587</td>\n",
       "      <td>5.6987</td>\n",
       "      <td>5.6933</td>\n",
       "      <td>5.6775</td>\n",
       "      <td>5.68</td>\n",
       "    </tr>\n",
       "    <tr>\n",
       "      <th>47292</th>\n",
       "      <td>trpF</td>\n",
       "      <td>5.6684</td>\n",
       "      <td>5.6585</td>\n",
       "      <td>5.6337</td>\n",
       "      <td>5.6427</td>\n",
       "      <td>5.6371</td>\n",
       "      <td>5.6691</td>\n",
       "      <td>5.62</td>\n",
       "      <td>5.6199</td>\n",
       "      <td>5.6608</td>\n",
       "      <td>...</td>\n",
       "      <td>5.6392</td>\n",
       "      <td>5.6451</td>\n",
       "      <td>5.6149</td>\n",
       "      <td>5.551</td>\n",
       "      <td>5.605</td>\n",
       "      <td>5.6246</td>\n",
       "      <td>5.5404</td>\n",
       "      <td>5.6206</td>\n",
       "      <td>5.6552</td>\n",
       "      <td>5.6141</td>\n",
       "    </tr>\n",
       "    <tr>\n",
       "      <th>47293</th>\n",
       "      <td>y</td>\n",
       "      <td>luminal</td>\n",
       "      <td>luminal</td>\n",
       "      <td>luminal</td>\n",
       "      <td>luminal</td>\n",
       "      <td>luminal</td>\n",
       "      <td>non-luminal</td>\n",
       "      <td>non-luminal</td>\n",
       "      <td>luminal</td>\n",
       "      <td>luminal</td>\n",
       "      <td>...</td>\n",
       "      <td>luminal</td>\n",
       "      <td>luminal</td>\n",
       "      <td>luminal</td>\n",
       "      <td>non-luminal</td>\n",
       "      <td>non-luminal</td>\n",
       "      <td>luminal</td>\n",
       "      <td>luminal</td>\n",
       "      <td>luminal</td>\n",
       "      <td>non-luminal</td>\n",
       "      <td>luminal</td>\n",
       "    </tr>\n",
       "  </tbody>\n",
       "</table>\n",
       "<p>5 rows × 129 columns</p>\n",
       "</div>"
      ],
      "text/plain": [
       "        0        1        2        3        4        5            6    \\\n",
       "47289  lysA     5.68   5.7194   5.7592   5.6898   5.7236        5.662   \n",
       "47290  pheA    5.705   5.6142   5.6955   5.6227   5.6727       5.5995   \n",
       "47291  thrB   5.7077   5.7586   5.7279   5.6777   5.6761       5.7091   \n",
       "47292  trpF   5.6684   5.6585   5.6337   5.6427   5.6371       5.6691   \n",
       "47293     y  luminal  luminal  luminal  luminal  luminal  non-luminal   \n",
       "\n",
       "               7        8        9     ...         119      120      121  \\\n",
       "47289       5.6684   5.6742   5.6669   ...      5.7164   5.7175   5.7133   \n",
       "47290        5.633   5.6539   5.6511   ...      5.6595   5.6292   5.6042   \n",
       "47291       5.6777     5.68   5.6763   ...      5.6918   5.6501   5.5772   \n",
       "47292         5.62   5.6199   5.6608   ...      5.6392   5.6451   5.6149   \n",
       "47293  non-luminal  luminal  luminal   ...     luminal  luminal  luminal   \n",
       "\n",
       "               122          123      124      125      126          127  \\\n",
       "47289       5.7133       5.6753   5.6679   5.6692   5.7666         5.72   \n",
       "47290       5.6266       5.6022   5.6709   5.6136   5.6038       5.6693   \n",
       "47291       5.6637       5.6556   5.6587   5.6987   5.6933       5.6775   \n",
       "47292        5.551        5.605   5.6246   5.5404   5.6206       5.6552   \n",
       "47293  non-luminal  non-luminal  luminal  luminal  luminal  non-luminal   \n",
       "\n",
       "           128  \n",
       "47289     5.75  \n",
       "47290   5.5818  \n",
       "47291     5.68  \n",
       "47292   5.6141  \n",
       "47293  luminal  \n",
       "\n",
       "[5 rows x 129 columns]"
      ]
     },
     "execution_count": 4,
     "metadata": {},
     "output_type": "execute_result"
    }
   ],
   "source": [
    "# data dimension\n",
    "print data.shape\n",
    "# last 5 rows of the data\n",
    "data.tail()"
   ]
  },
  {
   "cell_type": "code",
   "execution_count": 5,
   "metadata": {
    "collapsed": false
   },
   "outputs": [],
   "source": [
    "# extract colum names (all but last one are gene names).\n",
    "colNames = data[0]\n",
    "colNames = list(colNames)"
   ]
  },
  {
   "cell_type": "code",
   "execution_count": 6,
   "metadata": {
    "collapsed": false
   },
   "outputs": [
    {
     "data": {
      "text/plain": [
       "0    ACADVL\n",
       "1    ACADVL\n",
       "2    ACADVL\n",
       "3    ACADVL\n",
       "4    ACADVL\n",
       "Name: Gene Name, dtype: object"
      ]
     },
     "execution_count": 6,
     "metadata": {},
     "output_type": "execute_result"
    }
   ],
   "source": [
    "# housekeepnig genes\n",
    "hkfile = 'HK_exons.csv'\n",
    "\n",
    "hkdata = pd.read_csv(hkfile)\n",
    "\n",
    "hkdata.head()\n",
    "\n",
    "hknames = hkdata['Gene Name']\n",
    "\n",
    "hknames.head()\n"
   ]
  },
  {
   "cell_type": "code",
   "execution_count": 7,
   "metadata": {
    "collapsed": false
   },
   "outputs": [
    {
     "data": {
      "text/plain": [
       "65692"
      ]
     },
     "execution_count": 7,
     "metadata": {},
     "output_type": "execute_result"
    }
   ],
   "source": [
    "len(hkdata)"
   ]
  },
  {
   "cell_type": "code",
   "execution_count": 8,
   "metadata": {
    "collapsed": false
   },
   "outputs": [
    {
     "data": {
      "text/plain": [
       "0"
      ]
     },
     "execution_count": 8,
     "metadata": {},
     "output_type": "execute_result"
    }
   ],
   "source": [
    "# Checking to see how many housekeeping genes in the dataset \n",
    "sum(hknames.isin(colNames))"
   ]
  },
  {
   "cell_type": "code",
   "execution_count": 9,
   "metadata": {
    "collapsed": false
   },
   "outputs": [
    {
     "data": {
      "text/html": [
       "<div>\n",
       "<table border=\"1\" class=\"dataframe\">\n",
       "  <thead>\n",
       "    <tr style=\"text-align: right;\">\n",
       "      <th></th>\n",
       "      <th>0</th>\n",
       "      <th>1</th>\n",
       "      <th>2</th>\n",
       "      <th>3</th>\n",
       "      <th>4</th>\n",
       "      <th>5</th>\n",
       "      <th>6</th>\n",
       "      <th>7</th>\n",
       "      <th>8</th>\n",
       "      <th>9</th>\n",
       "      <th>...</th>\n",
       "      <th>47284</th>\n",
       "      <th>47285</th>\n",
       "      <th>47286</th>\n",
       "      <th>47287</th>\n",
       "      <th>47288</th>\n",
       "      <th>47289</th>\n",
       "      <th>47290</th>\n",
       "      <th>47291</th>\n",
       "      <th>47292</th>\n",
       "      <th>47293</th>\n",
       "    </tr>\n",
       "  </thead>\n",
       "  <tbody>\n",
       "    <tr>\n",
       "      <th>1</th>\n",
       "      <td>5.3416</td>\n",
       "      <td>5.846</td>\n",
       "      <td>6.7052</td>\n",
       "      <td>6.4184</td>\n",
       "      <td>8.6651</td>\n",
       "      <td>5.7238</td>\n",
       "      <td>5.7566</td>\n",
       "      <td>6.8052</td>\n",
       "      <td>5.6885</td>\n",
       "      <td>5.8921</td>\n",
       "      <td>...</td>\n",
       "      <td>5.5959</td>\n",
       "      <td>5.8873</td>\n",
       "      <td>5.8005</td>\n",
       "      <td>5.5931</td>\n",
       "      <td>5.746</td>\n",
       "      <td>5.68</td>\n",
       "      <td>5.705</td>\n",
       "      <td>5.7077</td>\n",
       "      <td>5.6684</td>\n",
       "      <td>luminal</td>\n",
       "    </tr>\n",
       "    <tr>\n",
       "      <th>2</th>\n",
       "      <td>5.6259</td>\n",
       "      <td>5.8742</td>\n",
       "      <td>6.8089</td>\n",
       "      <td>6.6955</td>\n",
       "      <td>8.6113</td>\n",
       "      <td>5.8368</td>\n",
       "      <td>5.6288</td>\n",
       "      <td>7.7121</td>\n",
       "      <td>5.6911</td>\n",
       "      <td>6.0818</td>\n",
       "      <td>...</td>\n",
       "      <td>5.5832</td>\n",
       "      <td>5.7613</td>\n",
       "      <td>5.6705</td>\n",
       "      <td>5.7903</td>\n",
       "      <td>5.6111</td>\n",
       "      <td>5.7194</td>\n",
       "      <td>5.6142</td>\n",
       "      <td>5.7586</td>\n",
       "      <td>5.6585</td>\n",
       "      <td>luminal</td>\n",
       "    </tr>\n",
       "    <tr>\n",
       "      <th>3</th>\n",
       "      <td>5.6181</td>\n",
       "      <td>5.8026</td>\n",
       "      <td>6.6975</td>\n",
       "      <td>6.5851</td>\n",
       "      <td>8.3808</td>\n",
       "      <td>5.7835</td>\n",
       "      <td>5.8264</td>\n",
       "      <td>7.1011</td>\n",
       "      <td>5.6057</td>\n",
       "      <td>5.4915</td>\n",
       "      <td>...</td>\n",
       "      <td>5.5109</td>\n",
       "      <td>5.6742</td>\n",
       "      <td>5.7253</td>\n",
       "      <td>5.6365</td>\n",
       "      <td>5.4889</td>\n",
       "      <td>5.7592</td>\n",
       "      <td>5.6955</td>\n",
       "      <td>5.7279</td>\n",
       "      <td>5.6337</td>\n",
       "      <td>luminal</td>\n",
       "    </tr>\n",
       "    <tr>\n",
       "      <th>4</th>\n",
       "      <td>5.5602</td>\n",
       "      <td>5.8394</td>\n",
       "      <td>6.8386</td>\n",
       "      <td>6.7055</td>\n",
       "      <td>8.4486</td>\n",
       "      <td>5.5497</td>\n",
       "      <td>5.8045</td>\n",
       "      <td>7.6032</td>\n",
       "      <td>5.5867</td>\n",
       "      <td>5.7122</td>\n",
       "      <td>...</td>\n",
       "      <td>5.6254</td>\n",
       "      <td>5.8001</td>\n",
       "      <td>5.7344</td>\n",
       "      <td>5.6971</td>\n",
       "      <td>5.4883</td>\n",
       "      <td>5.6898</td>\n",
       "      <td>5.6227</td>\n",
       "      <td>5.6777</td>\n",
       "      <td>5.6427</td>\n",
       "      <td>luminal</td>\n",
       "    </tr>\n",
       "    <tr>\n",
       "      <th>5</th>\n",
       "      <td>5.5385</td>\n",
       "      <td>5.8876</td>\n",
       "      <td>6.572</td>\n",
       "      <td>6.1651</td>\n",
       "      <td>8.8246</td>\n",
       "      <td>5.7474</td>\n",
       "      <td>5.821</td>\n",
       "      <td>7.4015</td>\n",
       "      <td>5.6479</td>\n",
       "      <td>5.8412</td>\n",
       "      <td>...</td>\n",
       "      <td>5.7101</td>\n",
       "      <td>5.8066</td>\n",
       "      <td>5.6583</td>\n",
       "      <td>5.7032</td>\n",
       "      <td>5.58</td>\n",
       "      <td>5.7236</td>\n",
       "      <td>5.6727</td>\n",
       "      <td>5.6761</td>\n",
       "      <td>5.6371</td>\n",
       "      <td>luminal</td>\n",
       "    </tr>\n",
       "  </tbody>\n",
       "</table>\n",
       "<p>5 rows × 47294 columns</p>\n",
       "</div>"
      ],
      "text/plain": [
       "    0       1       2       3       4       5       6       7       8      \\\n",
       "1  5.3416   5.846  6.7052  6.4184  8.6651  5.7238  5.7566  6.8052  5.6885   \n",
       "2  5.6259  5.8742  6.8089  6.6955  8.6113  5.8368  5.6288  7.7121  5.6911   \n",
       "3  5.6181  5.8026  6.6975  6.5851  8.3808  5.7835  5.8264  7.1011  5.6057   \n",
       "4  5.5602  5.8394  6.8386  6.7055  8.4486  5.5497  5.8045  7.6032  5.5867   \n",
       "5  5.5385  5.8876   6.572  6.1651  8.8246  5.7474   5.821  7.4015  5.6479   \n",
       "\n",
       "    9       ...      47284   47285   47286   47287   47288   47289   47290  \\\n",
       "1  5.8921   ...     5.5959  5.8873  5.8005  5.5931   5.746    5.68   5.705   \n",
       "2  6.0818   ...     5.5832  5.7613  5.6705  5.7903  5.6111  5.7194  5.6142   \n",
       "3  5.4915   ...     5.5109  5.6742  5.7253  5.6365  5.4889  5.7592  5.6955   \n",
       "4  5.7122   ...     5.6254  5.8001  5.7344  5.6971  5.4883  5.6898  5.6227   \n",
       "5  5.8412   ...     5.7101  5.8066  5.6583  5.7032    5.58  5.7236  5.6727   \n",
       "\n",
       "    47291   47292    47293  \n",
       "1  5.7077  5.6684  luminal  \n",
       "2  5.7586  5.6585  luminal  \n",
       "3  5.7279  5.6337  luminal  \n",
       "4  5.6777  5.6427  luminal  \n",
       "5  5.6761  5.6371  luminal  \n",
       "\n",
       "[5 rows x 47294 columns]"
      ]
     },
     "execution_count": 9,
     "metadata": {},
     "output_type": "execute_result"
    }
   ],
   "source": [
    "# tranpose the data to have genes as columns and microarray experiment as rows\n",
    "data2 = data.T.ix[1:]\n",
    "data2.head()"
   ]
  },
  {
   "cell_type": "code",
   "execution_count": 10,
   "metadata": {
    "collapsed": false
   },
   "outputs": [
    {
     "data": {
      "text/html": [
       "<div>\n",
       "<table border=\"1\" class=\"dataframe\">\n",
       "  <thead>\n",
       "    <tr style=\"text-align: right;\">\n",
       "      <th></th>\n",
       "      <th>0</th>\n",
       "      <th>1</th>\n",
       "      <th>2</th>\n",
       "      <th>3</th>\n",
       "      <th>4</th>\n",
       "      <th>5</th>\n",
       "      <th>6</th>\n",
       "      <th>7</th>\n",
       "      <th>8</th>\n",
       "      <th>9</th>\n",
       "      <th>...</th>\n",
       "      <th>47284</th>\n",
       "      <th>47285</th>\n",
       "      <th>47286</th>\n",
       "      <th>47287</th>\n",
       "      <th>47288</th>\n",
       "      <th>47289</th>\n",
       "      <th>47290</th>\n",
       "      <th>47291</th>\n",
       "      <th>47292</th>\n",
       "      <th>47293</th>\n",
       "    </tr>\n",
       "  </thead>\n",
       "  <tbody>\n",
       "    <tr>\n",
       "      <th>0</th>\n",
       "      <td>5.3416</td>\n",
       "      <td>5.846</td>\n",
       "      <td>6.7052</td>\n",
       "      <td>6.4184</td>\n",
       "      <td>8.6651</td>\n",
       "      <td>5.7238</td>\n",
       "      <td>5.7566</td>\n",
       "      <td>6.8052</td>\n",
       "      <td>5.6885</td>\n",
       "      <td>5.8921</td>\n",
       "      <td>...</td>\n",
       "      <td>5.5959</td>\n",
       "      <td>5.8873</td>\n",
       "      <td>5.8005</td>\n",
       "      <td>5.5931</td>\n",
       "      <td>5.746</td>\n",
       "      <td>5.68</td>\n",
       "      <td>5.705</td>\n",
       "      <td>5.7077</td>\n",
       "      <td>5.6684</td>\n",
       "      <td>luminal</td>\n",
       "    </tr>\n",
       "    <tr>\n",
       "      <th>1</th>\n",
       "      <td>5.6259</td>\n",
       "      <td>5.8742</td>\n",
       "      <td>6.8089</td>\n",
       "      <td>6.6955</td>\n",
       "      <td>8.6113</td>\n",
       "      <td>5.8368</td>\n",
       "      <td>5.6288</td>\n",
       "      <td>7.7121</td>\n",
       "      <td>5.6911</td>\n",
       "      <td>6.0818</td>\n",
       "      <td>...</td>\n",
       "      <td>5.5832</td>\n",
       "      <td>5.7613</td>\n",
       "      <td>5.6705</td>\n",
       "      <td>5.7903</td>\n",
       "      <td>5.6111</td>\n",
       "      <td>5.7194</td>\n",
       "      <td>5.6142</td>\n",
       "      <td>5.7586</td>\n",
       "      <td>5.6585</td>\n",
       "      <td>luminal</td>\n",
       "    </tr>\n",
       "    <tr>\n",
       "      <th>2</th>\n",
       "      <td>5.6181</td>\n",
       "      <td>5.8026</td>\n",
       "      <td>6.6975</td>\n",
       "      <td>6.5851</td>\n",
       "      <td>8.3808</td>\n",
       "      <td>5.7835</td>\n",
       "      <td>5.8264</td>\n",
       "      <td>7.1011</td>\n",
       "      <td>5.6057</td>\n",
       "      <td>5.4915</td>\n",
       "      <td>...</td>\n",
       "      <td>5.5109</td>\n",
       "      <td>5.6742</td>\n",
       "      <td>5.7253</td>\n",
       "      <td>5.6365</td>\n",
       "      <td>5.4889</td>\n",
       "      <td>5.7592</td>\n",
       "      <td>5.6955</td>\n",
       "      <td>5.7279</td>\n",
       "      <td>5.6337</td>\n",
       "      <td>luminal</td>\n",
       "    </tr>\n",
       "    <tr>\n",
       "      <th>3</th>\n",
       "      <td>5.5602</td>\n",
       "      <td>5.8394</td>\n",
       "      <td>6.8386</td>\n",
       "      <td>6.7055</td>\n",
       "      <td>8.4486</td>\n",
       "      <td>5.5497</td>\n",
       "      <td>5.8045</td>\n",
       "      <td>7.6032</td>\n",
       "      <td>5.5867</td>\n",
       "      <td>5.7122</td>\n",
       "      <td>...</td>\n",
       "      <td>5.6254</td>\n",
       "      <td>5.8001</td>\n",
       "      <td>5.7344</td>\n",
       "      <td>5.6971</td>\n",
       "      <td>5.4883</td>\n",
       "      <td>5.6898</td>\n",
       "      <td>5.6227</td>\n",
       "      <td>5.6777</td>\n",
       "      <td>5.6427</td>\n",
       "      <td>luminal</td>\n",
       "    </tr>\n",
       "    <tr>\n",
       "      <th>4</th>\n",
       "      <td>5.5385</td>\n",
       "      <td>5.8876</td>\n",
       "      <td>6.572</td>\n",
       "      <td>6.1651</td>\n",
       "      <td>8.8246</td>\n",
       "      <td>5.7474</td>\n",
       "      <td>5.821</td>\n",
       "      <td>7.4015</td>\n",
       "      <td>5.6479</td>\n",
       "      <td>5.8412</td>\n",
       "      <td>...</td>\n",
       "      <td>5.7101</td>\n",
       "      <td>5.8066</td>\n",
       "      <td>5.6583</td>\n",
       "      <td>5.7032</td>\n",
       "      <td>5.58</td>\n",
       "      <td>5.7236</td>\n",
       "      <td>5.6727</td>\n",
       "      <td>5.6761</td>\n",
       "      <td>5.6371</td>\n",
       "      <td>luminal</td>\n",
       "    </tr>\n",
       "  </tbody>\n",
       "</table>\n",
       "<p>5 rows × 47294 columns</p>\n",
       "</div>"
      ],
      "text/plain": [
       "    0       1       2       3       4       5       6       7       8      \\\n",
       "0  5.3416   5.846  6.7052  6.4184  8.6651  5.7238  5.7566  6.8052  5.6885   \n",
       "1  5.6259  5.8742  6.8089  6.6955  8.6113  5.8368  5.6288  7.7121  5.6911   \n",
       "2  5.6181  5.8026  6.6975  6.5851  8.3808  5.7835  5.8264  7.1011  5.6057   \n",
       "3  5.5602  5.8394  6.8386  6.7055  8.4486  5.5497  5.8045  7.6032  5.5867   \n",
       "4  5.5385  5.8876   6.572  6.1651  8.8246  5.7474   5.821  7.4015  5.6479   \n",
       "\n",
       "    9       ...      47284   47285   47286   47287   47288   47289   47290  \\\n",
       "0  5.8921   ...     5.5959  5.8873  5.8005  5.5931   5.746    5.68   5.705   \n",
       "1  6.0818   ...     5.5832  5.7613  5.6705  5.7903  5.6111  5.7194  5.6142   \n",
       "2  5.4915   ...     5.5109  5.6742  5.7253  5.6365  5.4889  5.7592  5.6955   \n",
       "3  5.7122   ...     5.6254  5.8001  5.7344  5.6971  5.4883  5.6898  5.6227   \n",
       "4  5.8412   ...     5.7101  5.8066  5.6583  5.7032    5.58  5.7236  5.6727   \n",
       "\n",
       "    47291   47292    47293  \n",
       "0  5.7077  5.6684  luminal  \n",
       "1  5.7586  5.6585  luminal  \n",
       "2  5.7279  5.6337  luminal  \n",
       "3  5.6777  5.6427  luminal  \n",
       "4  5.6761  5.6371  luminal  \n",
       "\n",
       "[5 rows x 47294 columns]"
      ]
     },
     "execution_count": 10,
     "metadata": {},
     "output_type": "execute_result"
    }
   ],
   "source": [
    "# reset the index to satrt at 0\n",
    "data2 = data2.reset_index(drop=True)\n",
    "data2.head()"
   ]
  },
  {
   "cell_type": "code",
   "execution_count": 11,
   "metadata": {
    "collapsed": false
   },
   "outputs": [
    {
     "data": {
      "text/html": [
       "<div>\n",
       "<table border=\"1\" class=\"dataframe\">\n",
       "  <thead>\n",
       "    <tr style=\"text-align: right;\">\n",
       "      <th></th>\n",
       "      <th>GI_10047089-S</th>\n",
       "      <th>GI_10047091-S</th>\n",
       "      <th>GI_10047093-S</th>\n",
       "      <th>GI_10047099-S</th>\n",
       "      <th>GI_10047103-S</th>\n",
       "      <th>GI_10047105-S</th>\n",
       "      <th>GI_10047121-S</th>\n",
       "      <th>GI_10047123-S</th>\n",
       "      <th>GI_10047133-A</th>\n",
       "      <th>GI_10047133-I</th>\n",
       "      <th>...</th>\n",
       "      <th>hmm9738-S</th>\n",
       "      <th>hmm974-S</th>\n",
       "      <th>hmm9750-S</th>\n",
       "      <th>hmm9917-S</th>\n",
       "      <th>hmm9988-S</th>\n",
       "      <th>lysA</th>\n",
       "      <th>pheA</th>\n",
       "      <th>thrB</th>\n",
       "      <th>trpF</th>\n",
       "      <th>y</th>\n",
       "    </tr>\n",
       "  </thead>\n",
       "  <tbody>\n",
       "    <tr>\n",
       "      <th>0</th>\n",
       "      <td>5.3416</td>\n",
       "      <td>5.846</td>\n",
       "      <td>6.7052</td>\n",
       "      <td>6.4184</td>\n",
       "      <td>8.6651</td>\n",
       "      <td>5.7238</td>\n",
       "      <td>5.7566</td>\n",
       "      <td>6.8052</td>\n",
       "      <td>5.6885</td>\n",
       "      <td>5.8921</td>\n",
       "      <td>...</td>\n",
       "      <td>5.5959</td>\n",
       "      <td>5.8873</td>\n",
       "      <td>5.8005</td>\n",
       "      <td>5.5931</td>\n",
       "      <td>5.746</td>\n",
       "      <td>5.68</td>\n",
       "      <td>5.705</td>\n",
       "      <td>5.7077</td>\n",
       "      <td>5.6684</td>\n",
       "      <td>luminal</td>\n",
       "    </tr>\n",
       "    <tr>\n",
       "      <th>1</th>\n",
       "      <td>5.6259</td>\n",
       "      <td>5.8742</td>\n",
       "      <td>6.8089</td>\n",
       "      <td>6.6955</td>\n",
       "      <td>8.6113</td>\n",
       "      <td>5.8368</td>\n",
       "      <td>5.6288</td>\n",
       "      <td>7.7121</td>\n",
       "      <td>5.6911</td>\n",
       "      <td>6.0818</td>\n",
       "      <td>...</td>\n",
       "      <td>5.5832</td>\n",
       "      <td>5.7613</td>\n",
       "      <td>5.6705</td>\n",
       "      <td>5.7903</td>\n",
       "      <td>5.6111</td>\n",
       "      <td>5.7194</td>\n",
       "      <td>5.6142</td>\n",
       "      <td>5.7586</td>\n",
       "      <td>5.6585</td>\n",
       "      <td>luminal</td>\n",
       "    </tr>\n",
       "    <tr>\n",
       "      <th>2</th>\n",
       "      <td>5.6181</td>\n",
       "      <td>5.8026</td>\n",
       "      <td>6.6975</td>\n",
       "      <td>6.5851</td>\n",
       "      <td>8.3808</td>\n",
       "      <td>5.7835</td>\n",
       "      <td>5.8264</td>\n",
       "      <td>7.1011</td>\n",
       "      <td>5.6057</td>\n",
       "      <td>5.4915</td>\n",
       "      <td>...</td>\n",
       "      <td>5.5109</td>\n",
       "      <td>5.6742</td>\n",
       "      <td>5.7253</td>\n",
       "      <td>5.6365</td>\n",
       "      <td>5.4889</td>\n",
       "      <td>5.7592</td>\n",
       "      <td>5.6955</td>\n",
       "      <td>5.7279</td>\n",
       "      <td>5.6337</td>\n",
       "      <td>luminal</td>\n",
       "    </tr>\n",
       "    <tr>\n",
       "      <th>3</th>\n",
       "      <td>5.5602</td>\n",
       "      <td>5.8394</td>\n",
       "      <td>6.8386</td>\n",
       "      <td>6.7055</td>\n",
       "      <td>8.4486</td>\n",
       "      <td>5.5497</td>\n",
       "      <td>5.8045</td>\n",
       "      <td>7.6032</td>\n",
       "      <td>5.5867</td>\n",
       "      <td>5.7122</td>\n",
       "      <td>...</td>\n",
       "      <td>5.6254</td>\n",
       "      <td>5.8001</td>\n",
       "      <td>5.7344</td>\n",
       "      <td>5.6971</td>\n",
       "      <td>5.4883</td>\n",
       "      <td>5.6898</td>\n",
       "      <td>5.6227</td>\n",
       "      <td>5.6777</td>\n",
       "      <td>5.6427</td>\n",
       "      <td>luminal</td>\n",
       "    </tr>\n",
       "    <tr>\n",
       "      <th>4</th>\n",
       "      <td>5.5385</td>\n",
       "      <td>5.8876</td>\n",
       "      <td>6.572</td>\n",
       "      <td>6.1651</td>\n",
       "      <td>8.8246</td>\n",
       "      <td>5.7474</td>\n",
       "      <td>5.821</td>\n",
       "      <td>7.4015</td>\n",
       "      <td>5.6479</td>\n",
       "      <td>5.8412</td>\n",
       "      <td>...</td>\n",
       "      <td>5.7101</td>\n",
       "      <td>5.8066</td>\n",
       "      <td>5.6583</td>\n",
       "      <td>5.7032</td>\n",
       "      <td>5.58</td>\n",
       "      <td>5.7236</td>\n",
       "      <td>5.6727</td>\n",
       "      <td>5.6761</td>\n",
       "      <td>5.6371</td>\n",
       "      <td>luminal</td>\n",
       "    </tr>\n",
       "  </tbody>\n",
       "</table>\n",
       "<p>5 rows × 47294 columns</p>\n",
       "</div>"
      ],
      "text/plain": [
       "  GI_10047089-S GI_10047091-S GI_10047093-S GI_10047099-S GI_10047103-S  \\\n",
       "0        5.3416         5.846        6.7052        6.4184        8.6651   \n",
       "1        5.6259        5.8742        6.8089        6.6955        8.6113   \n",
       "2        5.6181        5.8026        6.6975        6.5851        8.3808   \n",
       "3        5.5602        5.8394        6.8386        6.7055        8.4486   \n",
       "4        5.5385        5.8876         6.572        6.1651        8.8246   \n",
       "\n",
       "  GI_10047105-S GI_10047121-S GI_10047123-S GI_10047133-A GI_10047133-I  \\\n",
       "0        5.7238        5.7566        6.8052        5.6885        5.8921   \n",
       "1        5.8368        5.6288        7.7121        5.6911        6.0818   \n",
       "2        5.7835        5.8264        7.1011        5.6057        5.4915   \n",
       "3        5.5497        5.8045        7.6032        5.5867        5.7122   \n",
       "4        5.7474         5.821        7.4015        5.6479        5.8412   \n",
       "\n",
       "    ...    hmm9738-S hmm974-S hmm9750-S hmm9917-S hmm9988-S    lysA    pheA  \\\n",
       "0   ...       5.5959   5.8873    5.8005    5.5931     5.746    5.68   5.705   \n",
       "1   ...       5.5832   5.7613    5.6705    5.7903    5.6111  5.7194  5.6142   \n",
       "2   ...       5.5109   5.6742    5.7253    5.6365    5.4889  5.7592  5.6955   \n",
       "3   ...       5.6254   5.8001    5.7344    5.6971    5.4883  5.6898  5.6227   \n",
       "4   ...       5.7101   5.8066    5.6583    5.7032      5.58  5.7236  5.6727   \n",
       "\n",
       "     thrB    trpF        y  \n",
       "0  5.7077  5.6684  luminal  \n",
       "1  5.7586  5.6585  luminal  \n",
       "2  5.7279  5.6337  luminal  \n",
       "3  5.6777  5.6427  luminal  \n",
       "4  5.6761  5.6371  luminal  \n",
       "\n",
       "[5 rows x 47294 columns]"
      ]
     },
     "execution_count": 11,
     "metadata": {},
     "output_type": "execute_result"
    }
   ],
   "source": [
    "# add colum labels\n",
    "data2.columns=colNames\n",
    "data2.head()"
   ]
  },
  {
   "cell_type": "code",
   "execution_count": 12,
   "metadata": {
    "collapsed": false
   },
   "outputs": [
    {
     "name": "stdout",
     "output_type": "stream",
     "text": [
      "(128, 47293)\n"
     ]
    },
    {
     "data": {
      "text/html": [
       "<div>\n",
       "<table border=\"1\" class=\"dataframe\">\n",
       "  <thead>\n",
       "    <tr style=\"text-align: right;\">\n",
       "      <th></th>\n",
       "      <th>GI_10047089-S</th>\n",
       "      <th>GI_10047091-S</th>\n",
       "      <th>GI_10047093-S</th>\n",
       "      <th>GI_10047099-S</th>\n",
       "      <th>GI_10047103-S</th>\n",
       "      <th>GI_10047105-S</th>\n",
       "      <th>GI_10047121-S</th>\n",
       "      <th>GI_10047123-S</th>\n",
       "      <th>GI_10047133-A</th>\n",
       "      <th>GI_10047133-I</th>\n",
       "      <th>...</th>\n",
       "      <th>hmm9715-S</th>\n",
       "      <th>hmm9738-S</th>\n",
       "      <th>hmm974-S</th>\n",
       "      <th>hmm9750-S</th>\n",
       "      <th>hmm9917-S</th>\n",
       "      <th>hmm9988-S</th>\n",
       "      <th>lysA</th>\n",
       "      <th>pheA</th>\n",
       "      <th>thrB</th>\n",
       "      <th>trpF</th>\n",
       "    </tr>\n",
       "  </thead>\n",
       "  <tbody>\n",
       "    <tr>\n",
       "      <th>0</th>\n",
       "      <td>5.3416</td>\n",
       "      <td>5.8460</td>\n",
       "      <td>6.7052</td>\n",
       "      <td>6.4184</td>\n",
       "      <td>8.6651</td>\n",
       "      <td>5.7238</td>\n",
       "      <td>5.7566</td>\n",
       "      <td>6.8052</td>\n",
       "      <td>5.6885</td>\n",
       "      <td>5.8921</td>\n",
       "      <td>...</td>\n",
       "      <td>5.7645</td>\n",
       "      <td>5.5959</td>\n",
       "      <td>5.8873</td>\n",
       "      <td>5.8005</td>\n",
       "      <td>5.5931</td>\n",
       "      <td>5.7460</td>\n",
       "      <td>5.6800</td>\n",
       "      <td>5.7050</td>\n",
       "      <td>5.7077</td>\n",
       "      <td>5.6684</td>\n",
       "    </tr>\n",
       "    <tr>\n",
       "      <th>1</th>\n",
       "      <td>5.6259</td>\n",
       "      <td>5.8742</td>\n",
       "      <td>6.8089</td>\n",
       "      <td>6.6955</td>\n",
       "      <td>8.6113</td>\n",
       "      <td>5.8368</td>\n",
       "      <td>5.6288</td>\n",
       "      <td>7.7121</td>\n",
       "      <td>5.6911</td>\n",
       "      <td>6.0818</td>\n",
       "      <td>...</td>\n",
       "      <td>5.8293</td>\n",
       "      <td>5.5832</td>\n",
       "      <td>5.7613</td>\n",
       "      <td>5.6705</td>\n",
       "      <td>5.7903</td>\n",
       "      <td>5.6111</td>\n",
       "      <td>5.7194</td>\n",
       "      <td>5.6142</td>\n",
       "      <td>5.7586</td>\n",
       "      <td>5.6585</td>\n",
       "    </tr>\n",
       "    <tr>\n",
       "      <th>2</th>\n",
       "      <td>5.6181</td>\n",
       "      <td>5.8026</td>\n",
       "      <td>6.6975</td>\n",
       "      <td>6.5851</td>\n",
       "      <td>8.3808</td>\n",
       "      <td>5.7835</td>\n",
       "      <td>5.8264</td>\n",
       "      <td>7.1011</td>\n",
       "      <td>5.6057</td>\n",
       "      <td>5.4915</td>\n",
       "      <td>...</td>\n",
       "      <td>5.6392</td>\n",
       "      <td>5.5109</td>\n",
       "      <td>5.6742</td>\n",
       "      <td>5.7253</td>\n",
       "      <td>5.6365</td>\n",
       "      <td>5.4889</td>\n",
       "      <td>5.7592</td>\n",
       "      <td>5.6955</td>\n",
       "      <td>5.7279</td>\n",
       "      <td>5.6337</td>\n",
       "    </tr>\n",
       "    <tr>\n",
       "      <th>3</th>\n",
       "      <td>5.5602</td>\n",
       "      <td>5.8394</td>\n",
       "      <td>6.8386</td>\n",
       "      <td>6.7055</td>\n",
       "      <td>8.4486</td>\n",
       "      <td>5.5497</td>\n",
       "      <td>5.8045</td>\n",
       "      <td>7.6032</td>\n",
       "      <td>5.5867</td>\n",
       "      <td>5.7122</td>\n",
       "      <td>...</td>\n",
       "      <td>5.7021</td>\n",
       "      <td>5.6254</td>\n",
       "      <td>5.8001</td>\n",
       "      <td>5.7344</td>\n",
       "      <td>5.6971</td>\n",
       "      <td>5.4883</td>\n",
       "      <td>5.6898</td>\n",
       "      <td>5.6227</td>\n",
       "      <td>5.6777</td>\n",
       "      <td>5.6427</td>\n",
       "    </tr>\n",
       "    <tr>\n",
       "      <th>4</th>\n",
       "      <td>5.5385</td>\n",
       "      <td>5.8876</td>\n",
       "      <td>6.5720</td>\n",
       "      <td>6.1651</td>\n",
       "      <td>8.8246</td>\n",
       "      <td>5.7474</td>\n",
       "      <td>5.8210</td>\n",
       "      <td>7.4015</td>\n",
       "      <td>5.6479</td>\n",
       "      <td>5.8412</td>\n",
       "      <td>...</td>\n",
       "      <td>5.8150</td>\n",
       "      <td>5.7101</td>\n",
       "      <td>5.8066</td>\n",
       "      <td>5.6583</td>\n",
       "      <td>5.7032</td>\n",
       "      <td>5.5800</td>\n",
       "      <td>5.7236</td>\n",
       "      <td>5.6727</td>\n",
       "      <td>5.6761</td>\n",
       "      <td>5.6371</td>\n",
       "    </tr>\n",
       "  </tbody>\n",
       "</table>\n",
       "<p>5 rows × 47293 columns</p>\n",
       "</div>"
      ],
      "text/plain": [
       "   GI_10047089-S  GI_10047091-S  GI_10047093-S  GI_10047099-S  GI_10047103-S  \\\n",
       "0         5.3416         5.8460         6.7052         6.4184         8.6651   \n",
       "1         5.6259         5.8742         6.8089         6.6955         8.6113   \n",
       "2         5.6181         5.8026         6.6975         6.5851         8.3808   \n",
       "3         5.5602         5.8394         6.8386         6.7055         8.4486   \n",
       "4         5.5385         5.8876         6.5720         6.1651         8.8246   \n",
       "\n",
       "   GI_10047105-S  GI_10047121-S  GI_10047123-S  GI_10047133-A  GI_10047133-I  \\\n",
       "0         5.7238         5.7566         6.8052         5.6885         5.8921   \n",
       "1         5.8368         5.6288         7.7121         5.6911         6.0818   \n",
       "2         5.7835         5.8264         7.1011         5.6057         5.4915   \n",
       "3         5.5497         5.8045         7.6032         5.5867         5.7122   \n",
       "4         5.7474         5.8210         7.4015         5.6479         5.8412   \n",
       "\n",
       "    ...    hmm9715-S  hmm9738-S  hmm974-S  hmm9750-S  hmm9917-S  hmm9988-S  \\\n",
       "0   ...       5.7645     5.5959    5.8873     5.8005     5.5931     5.7460   \n",
       "1   ...       5.8293     5.5832    5.7613     5.6705     5.7903     5.6111   \n",
       "2   ...       5.6392     5.5109    5.6742     5.7253     5.6365     5.4889   \n",
       "3   ...       5.7021     5.6254    5.8001     5.7344     5.6971     5.4883   \n",
       "4   ...       5.8150     5.7101    5.8066     5.6583     5.7032     5.5800   \n",
       "\n",
       "     lysA    pheA    thrB    trpF  \n",
       "0  5.6800  5.7050  5.7077  5.6684  \n",
       "1  5.7194  5.6142  5.7586  5.6585  \n",
       "2  5.7592  5.6955  5.7279  5.6337  \n",
       "3  5.6898  5.6227  5.6777  5.6427  \n",
       "4  5.7236  5.6727  5.6761  5.6371  \n",
       "\n",
       "[5 rows x 47293 columns]"
      ]
     },
     "execution_count": 12,
     "metadata": {},
     "output_type": "execute_result"
    }
   ],
   "source": [
    "# create date set with genes only. This is the features matrix\n",
    "X = data2[range(data.shape[0]-1)]\n",
    "print X.shape\n",
    "# make sure data type is float and not string.\n",
    "X = X.astype(float)\n",
    "X.head()"
   ]
  },
  {
   "cell_type": "code",
   "execution_count": 13,
   "metadata": {
    "collapsed": true
   },
   "outputs": [],
   "source": [
    "# store the gene names/ids\n",
    "geneNames = X.columns"
   ]
  },
  {
   "cell_type": "code",
   "execution_count": 14,
   "metadata": {
    "collapsed": false
   },
   "outputs": [
    {
     "data": {
      "text/plain": [
       "y    object\n",
       "dtype: object"
      ]
     },
     "execution_count": 14,
     "metadata": {},
     "output_type": "execute_result"
    }
   ],
   "source": [
    "\n",
    "# create vector with response variable\n",
    "Y = data2[[-1]]\n",
    "Y.head().dtypes"
   ]
  },
  {
   "cell_type": "code",
   "execution_count": 15,
   "metadata": {
    "collapsed": false
   },
   "outputs": [
    {
     "data": {
      "text/html": [
       "<div>\n",
       "<table border=\"1\" class=\"dataframe\">\n",
       "  <thead>\n",
       "    <tr style=\"text-align: right;\">\n",
       "      <th></th>\n",
       "      <th>y_luminal</th>\n",
       "      <th>y_non-luminal</th>\n",
       "    </tr>\n",
       "  </thead>\n",
       "  <tbody>\n",
       "    <tr>\n",
       "      <th>0</th>\n",
       "      <td>1</td>\n",
       "      <td>0</td>\n",
       "    </tr>\n",
       "    <tr>\n",
       "      <th>1</th>\n",
       "      <td>1</td>\n",
       "      <td>0</td>\n",
       "    </tr>\n",
       "    <tr>\n",
       "      <th>2</th>\n",
       "      <td>1</td>\n",
       "      <td>0</td>\n",
       "    </tr>\n",
       "    <tr>\n",
       "      <th>3</th>\n",
       "      <td>1</td>\n",
       "      <td>0</td>\n",
       "    </tr>\n",
       "    <tr>\n",
       "      <th>4</th>\n",
       "      <td>1</td>\n",
       "      <td>0</td>\n",
       "    </tr>\n",
       "    <tr>\n",
       "      <th>5</th>\n",
       "      <td>0</td>\n",
       "      <td>1</td>\n",
       "    </tr>\n",
       "  </tbody>\n",
       "</table>\n",
       "</div>"
      ],
      "text/plain": [
       "   y_luminal  y_non-luminal\n",
       "0          1              0\n",
       "1          1              0\n",
       "2          1              0\n",
       "3          1              0\n",
       "4          1              0\n",
       "5          0              1"
      ]
     },
     "execution_count": 15,
     "metadata": {},
     "output_type": "execute_result"
    }
   ],
   "source": [
    "# make sure response vector is binary 0, 1.\n",
    "Y = pd.get_dummies(Y)\n",
    "Y.head(6)"
   ]
  },
  {
   "cell_type": "code",
   "execution_count": 16,
   "metadata": {
    "collapsed": false
   },
   "outputs": [],
   "source": [
    "# choose one of the equivalent response vectors.\n",
    "Y = Y.ix[:,0]"
   ]
  },
  {
   "cell_type": "code",
   "execution_count": 17,
   "metadata": {
    "collapsed": false
   },
   "outputs": [
    {
     "data": {
      "text/plain": [
       "0.65625"
      ]
     },
     "execution_count": 17,
     "metadata": {},
     "output_type": "execute_result"
    }
   ],
   "source": [
    "np.mean(Y)"
   ]
  },
  {
   "cell_type": "code",
   "execution_count": 18,
   "metadata": {
    "collapsed": true
   },
   "outputs": [],
   "source": [
    "Y = np.ravel(Y)"
   ]
  },
  {
   "cell_type": "markdown",
   "metadata": {
    "collapsed": true
   },
   "source": [
    "##Classification with Penalized Logistic Model"
   ]
  },
  {
   "cell_type": "code",
   "execution_count": 19,
   "metadata": {
    "collapsed": false
   },
   "outputs": [],
   "source": [
    "# model definition\n",
    "# logistic regression with elasticnet regularization\n",
    "# l1_ratio refers to alpha and alpha refers to lamba in Hastie\n",
    "log_model = LogisticRegression(penalty = 'l1', C = 1/0.088371, fit_intercept = True)"
   ]
  },
  {
   "cell_type": "markdown",
   "metadata": {},
   "source": [
    "###Significant Gene Selection Cross-Validation"
   ]
  },
  {
   "cell_type": "code",
   "execution_count": 29,
   "metadata": {
    "collapsed": false
   },
   "outputs": [
    {
     "data": {
      "text/plain": [
       "2558"
      ]
     },
     "execution_count": 29,
     "metadata": {},
     "output_type": "execute_result"
    }
   ],
   "source": [
    "fit_log_model = log_model.fit(X, Y)\n",
    "coeffs = log_model.coef_\n",
    "np.sum(coeffs[0]!=0)"
   ]
  },
  {
   "cell_type": "code",
   "execution_count": 21,
   "metadata": {
    "collapsed": false
   },
   "outputs": [],
   "source": [
    "#initialize the dataframes for ranking genes\n",
    "selected_genes = {'col1':'gene1'}\n",
    "gene_names = DataFrame(geneNames)\n",
    "gene_names.columns = ['trial0']\n",
    "\n",
    "# Initial trial column \n",
    "gene_select_count = gene_names.isin(selected_genes)\n",
    "gene_coeff = DataFrame()\n",
    "\n",
    "# Number of trials\n",
    "M = 500\n",
    "\n",
    "# IN THE LOOP\n",
    "for i in range(M):\n",
    "    # Split the data\n",
    "\n",
    "    X_train, X_test, Y_train, Y_test = train_test_split(X, Y)\n",
    "\n",
    "\n",
    "    # Fit model and select significant genes\n",
    "\n",
    "    fit_log_model = log_model.fit(X_train, Y_train)\n",
    "    #X_selected = fit_log_model.transform(X_test)\n",
    "\n",
    "\n",
    "    # Find the indexes of significant genes\n",
    "\n",
    "    # these are the index of the features selected by the l1 regularized logistic model\n",
    "    selected_index = np.where(log_model.coef_!=0)[-1]\n",
    "    # Selected genes in ith trial\n",
    "    selected_genes = gene_names.loc[selected_index]\n",
    "\n",
    "    gene_select_count['trial' + str(i)] = gene_names.isin(selected_genes)\n",
    "    gene_coeff['trial' + str(i)] = Series(log_model.coef_[0])\n",
    "    "
   ]
  },
  {
   "cell_type": "code",
   "execution_count": 22,
   "metadata": {
    "collapsed": false
   },
   "outputs": [],
   "source": [
    "beta_coeff = gene_coeff.mean(axis = 1)\n",
    "beta_sterror = gene_coeff.std(axis = 1)\n",
    "gene_imp_score = gene_coeff.mean(axis = 1).abs()\n",
    "pvalue = 1-norm.cdf(np.abs(beta_coeff/beta_sterror))"
   ]
  },
  {
   "cell_type": "code",
   "execution_count": 23,
   "metadata": {
    "collapsed": false
   },
   "outputs": [
    {
     "data": {
      "text/plain": [
       "0     53\n",
       "1     15\n",
       "2    113\n",
       "3    102\n",
       "4     39\n",
       "dtype: int64"
      ]
     },
     "execution_count": 23,
     "metadata": {},
     "output_type": "execute_result"
    }
   ],
   "source": [
    "# this creates a pandas Series with the sum of how many times a gene was selected\n",
    "gene_select_summary = gene_select_count.sum(axis = 1)\n",
    "\n",
    "gene_select_summary.head()"
   ]
  },
  {
   "cell_type": "code",
   "execution_count": 24,
   "metadata": {
    "collapsed": true
   },
   "outputs": [],
   "source": [
    "# this data frame has the values for all genes\n",
    "result = DataFrame([geneNames, gene_select_summary, gene_imp_score, beta_coeff, beta_sterror, pvalue], index = \n",
    "          ['Gene', 'Frequency', 'Score', 'Coefficient', 'Std Error', 'pvalue']).T.sort(['Frequency', 'Score'], \n",
    "                                                            ascending = False)"
   ]
  },
  {
   "cell_type": "code",
   "execution_count": 25,
   "metadata": {
    "collapsed": false
   },
   "outputs": [
    {
     "data": {
      "text/html": [
       "<div>\n",
       "<table border=\"1\" class=\"dataframe\">\n",
       "  <thead>\n",
       "    <tr style=\"text-align: right;\">\n",
       "      <th></th>\n",
       "      <th>Gene</th>\n",
       "      <th>Frequency</th>\n",
       "      <th>Coefficient</th>\n",
       "      <th>Std Error</th>\n",
       "      <th>pvalue</th>\n",
       "    </tr>\n",
       "  </thead>\n",
       "  <tbody>\n",
       "    <tr>\n",
       "      <th>6695</th>\n",
       "      <td>GI_23065546-A</td>\n",
       "      <td>500</td>\n",
       "      <td>-0.1562347</td>\n",
       "      <td>0.06174137</td>\n",
       "      <td>0.005695485</td>\n",
       "    </tr>\n",
       "    <tr>\n",
       "      <th>6694</th>\n",
       "      <td>GI_23065543-I</td>\n",
       "      <td>500</td>\n",
       "      <td>-0.1315125</td>\n",
       "      <td>0.05225461</td>\n",
       "      <td>0.005921918</td>\n",
       "    </tr>\n",
       "    <tr>\n",
       "      <th>22089</th>\n",
       "      <td>GI_4503602-S</td>\n",
       "      <td>500</td>\n",
       "      <td>0.1033896</td>\n",
       "      <td>0.02735119</td>\n",
       "      <td>7.83905e-05</td>\n",
       "    </tr>\n",
       "    <tr>\n",
       "      <th>8926</th>\n",
       "      <td>GI_27734826-S</td>\n",
       "      <td>500</td>\n",
       "      <td>0.09535227</td>\n",
       "      <td>0.03061511</td>\n",
       "      <td>0.0009211309</td>\n",
       "    </tr>\n",
       "    <tr>\n",
       "      <th>11878</th>\n",
       "      <td>GI_31652248-S</td>\n",
       "      <td>500</td>\n",
       "      <td>-0.0882741</td>\n",
       "      <td>0.02810338</td>\n",
       "      <td>0.0008417186</td>\n",
       "    </tr>\n",
       "  </tbody>\n",
       "</table>\n",
       "</div>"
      ],
      "text/plain": [
       "                Gene Frequency Coefficient   Std Error        pvalue\n",
       "6695   GI_23065546-A       500  -0.1562347  0.06174137   0.005695485\n",
       "6694   GI_23065543-I       500  -0.1315125  0.05225461   0.005921918\n",
       "22089   GI_4503602-S       500   0.1033896  0.02735119   7.83905e-05\n",
       "8926   GI_27734826-S       500  0.09535227  0.03061511  0.0009211309\n",
       "11878  GI_31652248-S       500  -0.0882741  0.02810338  0.0008417186"
      ]
     },
     "execution_count": 25,
     "metadata": {},
     "output_type": "execute_result"
    }
   ],
   "source": [
    "result[['Gene', 'Frequency', 'Coefficient', 'Std Error', 'pvalue']].head()"
   ]
  },
  {
   "cell_type": "code",
   "execution_count": 26,
   "metadata": {
    "collapsed": true
   },
   "outputs": [],
   "source": [
    "# this gives the indices of selected genes according to some threshold. can use the importance score\n",
    "# or the number of times selected.\n",
    "selected_genes_index = gene_select_summary[beta_coeff != 0].index"
   ]
  },
  {
   "cell_type": "code",
   "execution_count": 27,
   "metadata": {
    "collapsed": true
   },
   "outputs": [],
   "source": [
    "result = DataFrame([geneNames[selected_genes_index], gene_select_summary[selected_genes_index], \n",
    "           gene_imp_score[selected_genes_index], beta_coeff[selected_genes_index], beta_sterror[selected_genes_index],\n",
    "           pvalue[selected_genes_index]], index = ['Gene', 'Frequency', 'Score','Coefficient', 'Std Error', \n",
    "                                                   'pvalue']).T.sort(['Frequency', 'Score'], \n",
    "                                                                     ascending = False).head()"
   ]
  },
  {
   "cell_type": "code",
   "execution_count": 28,
   "metadata": {
    "collapsed": false
   },
   "outputs": [
    {
     "name": "stdout",
     "output_type": "stream",
     "text": [
      "30259\n"
     ]
    },
    {
     "data": {
      "text/html": [
       "<div>\n",
       "<table border=\"1\" class=\"dataframe\">\n",
       "  <thead>\n",
       "    <tr style=\"text-align: right;\">\n",
       "      <th></th>\n",
       "      <th>Gene</th>\n",
       "      <th>Frequency</th>\n",
       "      <th>Coefficient</th>\n",
       "      <th>Std Error</th>\n",
       "      <th>pvalue</th>\n",
       "    </tr>\n",
       "  </thead>\n",
       "  <tbody>\n",
       "    <tr>\n",
       "      <th>5103</th>\n",
       "      <td>GI_23065546-A</td>\n",
       "      <td>500</td>\n",
       "      <td>-0.1562347</td>\n",
       "      <td>0.06174137</td>\n",
       "      <td>0.005695485</td>\n",
       "    </tr>\n",
       "    <tr>\n",
       "      <th>5102</th>\n",
       "      <td>GI_23065543-I</td>\n",
       "      <td>500</td>\n",
       "      <td>-0.1315125</td>\n",
       "      <td>0.05225461</td>\n",
       "      <td>0.005921918</td>\n",
       "    </tr>\n",
       "    <tr>\n",
       "      <th>15916</th>\n",
       "      <td>GI_4503602-S</td>\n",
       "      <td>500</td>\n",
       "      <td>0.1033896</td>\n",
       "      <td>0.02735119</td>\n",
       "      <td>7.83905e-05</td>\n",
       "    </tr>\n",
       "    <tr>\n",
       "      <th>6737</th>\n",
       "      <td>GI_27734826-S</td>\n",
       "      <td>500</td>\n",
       "      <td>0.09535227</td>\n",
       "      <td>0.03061511</td>\n",
       "      <td>0.0009211309</td>\n",
       "    </tr>\n",
       "    <tr>\n",
       "      <th>8793</th>\n",
       "      <td>GI_31652248-S</td>\n",
       "      <td>500</td>\n",
       "      <td>-0.0882741</td>\n",
       "      <td>0.02810338</td>\n",
       "      <td>0.0008417186</td>\n",
       "    </tr>\n",
       "  </tbody>\n",
       "</table>\n",
       "</div>"
      ],
      "text/plain": [
       "                Gene Frequency Coefficient   Std Error        pvalue\n",
       "5103   GI_23065546-A       500  -0.1562347  0.06174137   0.005695485\n",
       "5102   GI_23065543-I       500  -0.1315125  0.05225461   0.005921918\n",
       "15916   GI_4503602-S       500   0.1033896  0.02735119   7.83905e-05\n",
       "6737   GI_27734826-S       500  0.09535227  0.03061511  0.0009211309\n",
       "8793   GI_31652248-S       500  -0.0882741  0.02810338  0.0008417186"
      ]
     },
     "execution_count": 28,
     "metadata": {},
     "output_type": "execute_result"
    }
   ],
   "source": [
    "print len(selected_genes_index)\n",
    "result[['Gene', 'Frequency', 'Coefficient', 'Std Error', 'pvalue']].head(10)"
   ]
  },
  {
   "cell_type": "code",
   "execution_count": 71,
   "metadata": {
    "collapsed": false
   },
   "outputs": [
    {
     "data": {
      "text/plain": [
       "4785"
      ]
     },
     "execution_count": 71,
     "metadata": {},
     "output_type": "execute_result"
    }
   ],
   "source": [
    "# these are the names of the selected genes\n",
    "DataFrame(geneNames[selected_genes_index], columns = ['Selected Genes'], index = selected_genes_index).head()\n",
    "len(DataFrame(geneNames[selected_genes_index], columns = ['Selected Genes'], index = selected_genes_index))"
   ]
  },
  {
   "cell_type": "code",
   "execution_count": 72,
   "metadata": {
    "collapsed": false
   },
   "outputs": [
    {
     "data": {
      "text/plain": [
       "(128, 4785)"
      ]
     },
     "execution_count": 72,
     "metadata": {},
     "output_type": "execute_result"
    }
   ],
   "source": [
    "#Need to create X_sel\n",
    "\n",
    "X_sel = X[selected_genes_index]\n",
    "\n",
    "X_sel.shape"
   ]
  },
  {
   "cell_type": "code",
   "execution_count": 73,
   "metadata": {
    "collapsed": false
   },
   "outputs": [
    {
     "name": "stdout",
     "output_type": "stream",
     "text": [
      "0.5\n"
     ]
    }
   ],
   "source": [
    "# this gives the model's score\n",
    "log_model.fit(X_sel,Y)\n",
    "print log_model.score(X_sel,Y)"
   ]
  },
  {
   "cell_type": "code",
   "execution_count": 74,
   "metadata": {
    "collapsed": false
   },
   "outputs": [],
   "source": [
    "class_prob = log_model.predict_proba(X_sel)"
   ]
  },
  {
   "cell_type": "code",
   "execution_count": 75,
   "metadata": {
    "collapsed": false
   },
   "outputs": [
    {
     "data": {
      "text/plain": [
       "(128, 2)"
      ]
     },
     "execution_count": 75,
     "metadata": {},
     "output_type": "execute_result"
    }
   ],
   "source": [
    "class_prob.shape"
   ]
  },
  {
   "cell_type": "code",
   "execution_count": 76,
   "metadata": {
    "collapsed": false
   },
   "outputs": [
    {
     "name": "stdout",
     "output_type": "stream",
     "text": [
      "0    0.843029\n",
      "1    0.156971\n",
      "dtype: float64\n"
     ]
    }
   ],
   "source": [
    "dfprob = DataFrame(class_prob)\n",
    "print dfprob.mean()"
   ]
  },
  {
   "cell_type": "markdown",
   "metadata": {},
   "source": [
    "###Cross Validation"
   ]
  },
  {
   "cell_type": "code",
   "execution_count": 77,
   "metadata": {
    "collapsed": false
   },
   "outputs": [],
   "source": [
    "# Make a new log_model\n",
    "#log_model2 = LogisticRegression()\n",
    "log_model2 = LogisticRegression(dual = False, fit_intercept = True)\n",
    "\n",
    "xvalacc = []\n",
    "xvalROC = []\n",
    "M = 1000\n",
    "\n",
    "for i in range(M):\n",
    "\n",
    "    # Split the data\n",
    "    X_train, X_test, Y_train, Y_test = train_test_split(X_sel, Y)\n",
    "\n",
    "    # Now fit the new model\n",
    "    log_model2.fit(X_train, Y_train)\n",
    "\n",
    "    # Predict the classes of the testing data set\n",
    "    class_predict = log_model2.predict(X_test)\n",
    "\n",
    "    # Compare the predicted classes to the actual test classes\n",
    "    xvalacc.append(metrics.accuracy_score(Y_test,class_predict))\n",
    "    try:\n",
    "        xvalROC.append(roc_auc_score(Y_test,class_predict))\n",
    "    except ValueError:\n",
    "        pass"
   ]
  },
  {
   "cell_type": "code",
   "execution_count": 78,
   "metadata": {
    "collapsed": false
   },
   "outputs": [
    {
     "data": {
      "text/plain": [
       "0.050482051265771682"
      ]
     },
     "execution_count": 78,
     "metadata": {},
     "output_type": "execute_result"
    }
   ],
   "source": [
    "np.std(xvalacc)"
   ]
  },
  {
   "cell_type": "code",
   "execution_count": 79,
   "metadata": {
    "collapsed": false
   },
   "outputs": [
    {
     "data": {
      "text/plain": [
       "0.86812500000000004"
      ]
     },
     "execution_count": 79,
     "metadata": {},
     "output_type": "execute_result"
    }
   ],
   "source": [
    "np.mean(xvalacc)"
   ]
  },
  {
   "cell_type": "code",
   "execution_count": 80,
   "metadata": {
    "collapsed": false
   },
   "outputs": [
    {
     "data": {
      "text/plain": [
       "0.062058066839281334"
      ]
     },
     "execution_count": 80,
     "metadata": {},
     "output_type": "execute_result"
    }
   ],
   "source": [
    "np.std(xvalROC)"
   ]
  },
  {
   "cell_type": "code",
   "execution_count": 81,
   "metadata": {
    "collapsed": false
   },
   "outputs": [
    {
     "data": {
      "text/plain": [
       "0.84031881136954056"
      ]
     },
     "execution_count": 81,
     "metadata": {},
     "output_type": "execute_result"
    }
   ],
   "source": [
    "np.mean(xvalROC)"
   ]
  },
  {
   "cell_type": "code",
   "execution_count": 82,
   "metadata": {
    "collapsed": false
   },
   "outputs": [
    {
     "data": {
      "text/plain": [
       "array([ 1.,  0.,  0.,  0.,  0.,  1.,  1.,  1.,  1.,  1.,  1.,  1.,  0.,\n",
       "        1.,  1.,  0.,  1.,  1.,  0.,  0.,  1.,  0.,  1.,  0.,  1.,  1.,\n",
       "        0.,  1.,  1.,  1.,  1.,  0.])"
      ]
     },
     "execution_count": 82,
     "metadata": {},
     "output_type": "execute_result"
    }
   ],
   "source": [
    "#Y_test = np.ones(20)\n",
    "Y_test"
   ]
  },
  {
   "cell_type": "code",
   "execution_count": 39,
   "metadata": {
    "collapsed": false
   },
   "outputs": [
    {
     "data": {
      "text/plain": [
       "array([ 1.,  0.,  1.,  1.,  0.,  1.,  0.,  1.,  0.,  1.,  1.,  1.,  1.,\n",
       "        0.,  0.,  0.,  1.,  1.,  1.,  1.,  1.,  0.,  1.,  1.,  1.,  0.,\n",
       "        0.,  1.,  1.,  1.,  1.,  1.])"
      ]
     },
     "execution_count": 39,
     "metadata": {},
     "output_type": "execute_result"
    }
   ],
   "source": [
    "class_predict"
   ]
  },
  {
   "cell_type": "code",
   "execution_count": 40,
   "metadata": {
    "collapsed": false
   },
   "outputs": [
    {
     "data": {
      "text/plain": [
       "0.88528138528138511"
      ]
     },
     "execution_count": 40,
     "metadata": {},
     "output_type": "execute_result"
    }
   ],
   "source": [
    "roc_auc_score(Y_test,class_predict)"
   ]
  },
  {
   "cell_type": "code",
   "execution_count": 41,
   "metadata": {
    "collapsed": false
   },
   "outputs": [
    {
     "data": {
      "text/plain": [
       "array([[ 9,  2],\n",
       "       [ 1, 20]])"
      ]
     },
     "execution_count": 41,
     "metadata": {},
     "output_type": "execute_result"
    }
   ],
   "source": [
    "confusion_matrix(Y_test,class_predict)"
   ]
  },
  {
   "cell_type": "code",
   "execution_count": 42,
   "metadata": {
    "collapsed": false
   },
   "outputs": [
    {
     "data": {
      "text/plain": [
       "array([[ 2.33347593,  1.54124342,  1.80106029, ...,  1.64637966,\n",
       "         0.94880161,  1.66242093],\n",
       "       [ 1.54124342,  1.98828201,  1.83340177, ...,  1.22455284,\n",
       "         0.93530213,  1.7564881 ],\n",
       "       [ 1.80106029,  1.83340177,  2.37753582, ...,  1.36685781,\n",
       "         1.09129885,  1.90201783],\n",
       "       ..., \n",
       "       [ 1.64637966,  1.22455284,  1.36685781, ...,  2.647999  ,\n",
       "         1.56140511,  1.45959456],\n",
       "       [ 0.94880161,  0.93530213,  1.09129885, ...,  1.56140511,\n",
       "         2.61945296,  0.64098437],\n",
       "       [ 1.66242093,  1.7564881 ,  1.90201783, ...,  1.45959456,\n",
       "         0.64098437,  2.50605199]])"
      ]
     },
     "execution_count": 42,
     "metadata": {},
     "output_type": "execute_result"
    }
   ],
   "source": [
    "np.cov(X_sel)"
   ]
  },
  {
   "cell_type": "markdown",
   "metadata": {},
   "source": [
    "##Classification with Random Forest\n",
    "\n",
    "####Use MDI\n"
   ]
  },
  {
   "cell_type": "code",
   "execution_count": 43,
   "metadata": {
    "collapsed": false
   },
   "outputs": [],
   "source": [
    "# model definition\n",
    "# random forest\n",
    "rf_model = RandomForestClassifier(n_estimators = 500)"
   ]
  },
  {
   "cell_type": "code",
   "execution_count": 44,
   "metadata": {
    "collapsed": true
   },
   "outputs": [],
   "source": [
    "#initialize the dataframes for ranking genes\n",
    "selected_genes = {'col1':'gene1'}\n",
    "gene_names = DataFrame(geneNames)\n",
    "gene_names.columns = ['trial0']\n",
    "\n",
    "# Initial trial column \n",
    "gene_select_count = gene_names.isin(selected_genes)\n",
    "gene_impurity = DataFrame()\n",
    "\n",
    "# Number of trials\n",
    "M = 100\n",
    "\n",
    "# IN THE LOOP\n",
    "for i in range(M):\n",
    "    # Split the data\n",
    "\n",
    "    X_train, X_test, Y_train, Y_test = train_test_split(X, Y)\n",
    "\n",
    "\n",
    "    # Fit model and select significant genes\n",
    "    \n",
    "    fit_rf_model = rf_model.fit(X, Y)\n",
    "    \n",
    "    # Find indexes of significant genes\n",
    "\n",
    "    selected_index = np.where(rf_model.feature_importances_!=0)[-1]\n",
    "    \n",
    "    # Selected genes in ith trial\n",
    "    \n",
    "    selected_genes = gene_names.loc[selected_index]\n",
    "\n",
    "    gene_select_count['trial' + str(i)] = gene_names.isin(selected_genes)\n",
    "    gene_impurity['trial' + str(i)] = Series(rf_model.feature_importances_)\n"
   ]
  },
  {
   "cell_type": "code",
   "execution_count": 45,
   "metadata": {
    "collapsed": false
   },
   "outputs": [
    {
     "data": {
      "text/plain": [
       "array([ 0.,  0.,  0., ...,  0.,  0.,  0.])"
      ]
     },
     "execution_count": 45,
     "metadata": {},
     "output_type": "execute_result"
    }
   ],
   "source": [
    "rf_model.feature_importances_"
   ]
  },
  {
   "cell_type": "code",
   "execution_count": 46,
   "metadata": {
    "collapsed": true
   },
   "outputs": [],
   "source": [
    "gene_imp_score = gene_impurity.mean(axis = 1);\n",
    "gene_imp_score = gene_imp_score.abs()"
   ]
  },
  {
   "cell_type": "markdown",
   "metadata": {
    "collapsed": false
   },
   "source": [
    "### this creates a pandas Series with the sum of how many times a gene was chosen\n",
    "gene_select_summary = gene_select_count.sum(axis = 1)\n",
    "\n",
    "gene_select_summary.head()"
   ]
  },
  {
   "cell_type": "code",
   "execution_count": 47,
   "metadata": {
    "collapsed": false
   },
   "outputs": [
    {
     "data": {
      "text/html": [
       "<div>\n",
       "<table border=\"1\" class=\"dataframe\">\n",
       "  <thead>\n",
       "    <tr style=\"text-align: right;\">\n",
       "      <th></th>\n",
       "      <th>Gene</th>\n",
       "      <th>Frequency</th>\n",
       "      <th>MDI</th>\n",
       "    </tr>\n",
       "  </thead>\n",
       "  <tbody>\n",
       "    <tr>\n",
       "      <th>22089</th>\n",
       "      <td>GI_4503602-S</td>\n",
       "      <td>500</td>\n",
       "      <td>0.004186411</td>\n",
       "    </tr>\n",
       "    <tr>\n",
       "      <th>1800</th>\n",
       "      <td>GI_14249703-S</td>\n",
       "      <td>492</td>\n",
       "      <td>0.003414231</td>\n",
       "    </tr>\n",
       "    <tr>\n",
       "      <th>16849</th>\n",
       "      <td>GI_38146007-A</td>\n",
       "      <td>26</td>\n",
       "      <td>0.003132555</td>\n",
       "    </tr>\n",
       "    <tr>\n",
       "      <th>2518</th>\n",
       "      <td>GI_16507967-S</td>\n",
       "      <td>467</td>\n",
       "      <td>0.003047208</td>\n",
       "    </tr>\n",
       "    <tr>\n",
       "      <th>22149</th>\n",
       "      <td>GI_4503928-S</td>\n",
       "      <td>498</td>\n",
       "      <td>0.003002912</td>\n",
       "    </tr>\n",
       "    <tr>\n",
       "      <th>26033</th>\n",
       "      <td>GI_9951924-S</td>\n",
       "      <td>500</td>\n",
       "      <td>0.002914199</td>\n",
       "    </tr>\n",
       "    <tr>\n",
       "      <th>10064</th>\n",
       "      <td>GI_29738585-S</td>\n",
       "      <td>500</td>\n",
       "      <td>0.002826758</td>\n",
       "    </tr>\n",
       "    <tr>\n",
       "      <th>6483</th>\n",
       "      <td>GI_22748948-S</td>\n",
       "      <td>488</td>\n",
       "      <td>0.002743495</td>\n",
       "    </tr>\n",
       "    <tr>\n",
       "      <th>6671</th>\n",
       "      <td>GI_22779933-S</td>\n",
       "      <td>2</td>\n",
       "      <td>0.002642601</td>\n",
       "    </tr>\n",
       "    <tr>\n",
       "      <th>17275</th>\n",
       "      <td>GI_38455428-S</td>\n",
       "      <td>500</td>\n",
       "      <td>0.002566913</td>\n",
       "    </tr>\n",
       "  </tbody>\n",
       "</table>\n",
       "</div>"
      ],
      "text/plain": [
       "                Gene Frequency          MDI\n",
       "22089   GI_4503602-S       500  0.004186411\n",
       "1800   GI_14249703-S       492  0.003414231\n",
       "16849  GI_38146007-A        26  0.003132555\n",
       "2518   GI_16507967-S       467  0.003047208\n",
       "22149   GI_4503928-S       498  0.003002912\n",
       "26033   GI_9951924-S       500  0.002914199\n",
       "10064  GI_29738585-S       500  0.002826758\n",
       "6483   GI_22748948-S       488  0.002743495\n",
       "6671   GI_22779933-S         2  0.002642601\n",
       "17275  GI_38455428-S       500  0.002566913"
      ]
     },
     "execution_count": 47,
     "metadata": {},
     "output_type": "execute_result"
    }
   ],
   "source": [
    "# this data frame has the values for all genes\n",
    "DataFrame([geneNames, gene_select_summary, gene_imp_score], index = \n",
    "          ['Gene', 'Frequency', 'MDI']).T.sort(['MDI', 'Frequency'], \n",
    "                                                            ascending = False).head(10)"
   ]
  },
  {
   "cell_type": "code",
   "execution_count": null,
   "metadata": {
    "collapsed": true
   },
   "outputs": [],
   "source": []
  },
  {
   "cell_type": "code",
   "execution_count": null,
   "metadata": {
    "collapsed": true
   },
   "outputs": [],
   "source": []
  },
  {
   "cell_type": "code",
   "execution_count": 48,
   "metadata": {
    "collapsed": true
   },
   "outputs": [],
   "source": [
    "# this gives the indices of selected genes according to some threshold. can use the importance score\n",
    "# or the number of times selected.\n",
    "selected_genes_index = gene_select_summary[gene_imp_score >= 0.000125].index"
   ]
  },
  {
   "cell_type": "code",
   "execution_count": 49,
   "metadata": {
    "collapsed": false
   },
   "outputs": [
    {
     "name": "stdout",
     "output_type": "stream",
     "text": [
      "1052\n"
     ]
    },
    {
     "data": {
      "text/html": [
       "<div>\n",
       "<table border=\"1\" class=\"dataframe\">\n",
       "  <thead>\n",
       "    <tr style=\"text-align: right;\">\n",
       "      <th></th>\n",
       "      <th>Gene</th>\n",
       "      <th>Frequency</th>\n",
       "      <th>MDI</th>\n",
       "    </tr>\n",
       "  </thead>\n",
       "  <tbody>\n",
       "    <tr>\n",
       "      <th>782</th>\n",
       "      <td>GI_4503602-S</td>\n",
       "      <td>500</td>\n",
       "      <td>0.004186411</td>\n",
       "    </tr>\n",
       "    <tr>\n",
       "      <th>75</th>\n",
       "      <td>GI_14249703-S</td>\n",
       "      <td>492</td>\n",
       "      <td>0.003414231</td>\n",
       "    </tr>\n",
       "    <tr>\n",
       "      <th>615</th>\n",
       "      <td>GI_38146007-A</td>\n",
       "      <td>26</td>\n",
       "      <td>0.003132555</td>\n",
       "    </tr>\n",
       "    <tr>\n",
       "      <th>107</th>\n",
       "      <td>GI_16507967-S</td>\n",
       "      <td>467</td>\n",
       "      <td>0.003047208</td>\n",
       "    </tr>\n",
       "    <tr>\n",
       "      <th>787</th>\n",
       "      <td>GI_4503928-S</td>\n",
       "      <td>498</td>\n",
       "      <td>0.003002912</td>\n",
       "    </tr>\n",
       "  </tbody>\n",
       "</table>\n",
       "</div>"
      ],
      "text/plain": [
       "              Gene Frequency          MDI\n",
       "782   GI_4503602-S       500  0.004186411\n",
       "75   GI_14249703-S       492  0.003414231\n",
       "615  GI_38146007-A        26  0.003132555\n",
       "107  GI_16507967-S       467  0.003047208\n",
       "787   GI_4503928-S       498  0.003002912"
      ]
     },
     "execution_count": 49,
     "metadata": {},
     "output_type": "execute_result"
    }
   ],
   "source": [
    "print len(selected_genes_index)\n",
    "DataFrame([geneNames[selected_genes_index], gene_select_summary[selected_genes_index], \n",
    "           gene_imp_score[selected_genes_index]], index = ['Gene', 'Frequency', \n",
    "                                                           'MDI']).T.sort(['MDI', 'Frequency'],\n",
    "                                                                                  ascending = False).head()"
   ]
  },
  {
   "cell_type": "code",
   "execution_count": 50,
   "metadata": {
    "collapsed": false
   },
   "outputs": [
    {
     "data": {
      "text/plain": [
       "(128, 1052)"
      ]
     },
     "execution_count": 50,
     "metadata": {},
     "output_type": "execute_result"
    }
   ],
   "source": [
    "#Need to create X_sel\n",
    "\n",
    "X_sel = X[selected_genes_index]\n",
    "\n",
    "X_sel.shape"
   ]
  },
  {
   "cell_type": "code",
   "execution_count": 51,
   "metadata": {
    "collapsed": true
   },
   "outputs": [],
   "source": [
    "# Make a new log_model\n",
    "#log_model2 = LogisticRegression()\n",
    "ensemble_model2 = RandomForestClassifier(n_estimators = 500)\n",
    "\n",
    "xvalacc = []\n",
    "xvalROC = []\n",
    "M = 100\n",
    "\n",
    "for i in range(M):\n",
    "\n",
    "    # Split the data\n",
    "    X_train, X_test, Y_train, Y_test = train_test_split(X_sel, Y)\n",
    "\n",
    "    # Now fit the new model\n",
    "    ensemble_model2.fit(X_train, Y_train)\n",
    "\n",
    "    # Predict the classes of the testing data set\n",
    "    class_predict = ensemble_model2.predict(X_test)\n",
    "\n",
    "    # Compare the predicted classes to the actual test classes\n",
    "    xvalacc.append(metrics.accuracy_score(Y_test,class_predict))\n",
    "    try:\n",
    "        xvalROC.append(roc_auc_score(Y_test,class_predict))\n",
    "    except ValueError:\n",
    "        pass"
   ]
  },
  {
   "cell_type": "code",
   "execution_count": 52,
   "metadata": {
    "collapsed": false
   },
   "outputs": [
    {
     "data": {
      "text/plain": [
       "0.87749999999999995"
      ]
     },
     "execution_count": 52,
     "metadata": {},
     "output_type": "execute_result"
    }
   ],
   "source": [
    "np.mean(xvalacc)"
   ]
  },
  {
   "cell_type": "code",
   "execution_count": 53,
   "metadata": {
    "collapsed": false
   },
   "outputs": [
    {
     "data": {
      "text/plain": [
       "0.84296792253459529"
      ]
     },
     "execution_count": 53,
     "metadata": {},
     "output_type": "execute_result"
    }
   ],
   "source": [
    "np.mean(xvalROC)"
   ]
  },
  {
   "cell_type": "markdown",
   "metadata": {},
   "source": [
    "#Spectral Clustering"
   ]
  },
  {
   "cell_type": "code",
   "execution_count": 54,
   "metadata": {
    "collapsed": true
   },
   "outputs": [],
   "source": [
    "from sklearn.cluster import SpectralClustering\n",
    "import matplotlib.cm as cm"
   ]
  },
  {
   "cell_type": "code",
   "execution_count": 55,
   "metadata": {
    "collapsed": false
   },
   "outputs": [
    {
     "name": "stdout",
     "output_type": "stream",
     "text": [
      "[0 0 0 1 1 0 0 0 1 1 0 1 0 0 0 0 1 0 0 0 0 0 1 1 1 0 1 0 0 0 1 1 0 0 0 0 1\n",
      " 0 1 0 0 0 0 0 0 0 0 0 0 0 0 0 1 1 1 0 1 0 0 1 0 1 0 1 1 1 0 0 1 0 0 1 0 0\n",
      " 0 1 0 1 0 0 0 1 1 1 0 0 1 0 0 0 0 1 1 0 1 1 0 1 0 0]\n"
     ]
    }
   ],
   "source": [
    "spclus = SpectralClustering(affinity='nearest_neighbors', n_neighbors=20, n_clusters=2, assign_labels='discretize')\n",
    "spclus_pred = spclus.fit_predict(X_sel.T)\n",
    "print spclus_pred[:100]"
   ]
  },
  {
   "cell_type": "code",
   "execution_count": 56,
   "metadata": {
    "collapsed": false
   },
   "outputs": [
    {
     "data": {
      "text/plain": [
       "(1052,)"
      ]
     },
     "execution_count": 56,
     "metadata": {},
     "output_type": "execute_result"
    }
   ],
   "source": [
    "spclus_pred.shape"
   ]
  },
  {
   "cell_type": "markdown",
   "metadata": {},
   "source": [
    "####Need to create adjecency matrix."
   ]
  },
  {
   "cell_type": "code",
   "execution_count": 57,
   "metadata": {
    "collapsed": false
   },
   "outputs": [
    {
     "name": "stdout",
     "output_type": "stream",
     "text": [
      "  (0, 0)\t1.0\n",
      "  (0, 1051)\t1.0\n",
      "  (0, 329)\t1.0\n",
      "  (0, 450)\t1.0\n",
      "  (0, 1011)\t1.0\n",
      "  (0, 429)\t1.0\n",
      "  (0, 423)\t1.0\n",
      "  (0, 426)\t1.0\n",
      "  (0, 283)\t1.0\n",
      "  (0, 300)\t1.0\n",
      "  (0, 819)\t1.0\n",
      "  (0, 465)\t1.0\n",
      "  (0, 682)\t1.0\n",
      "  (0, 724)\t1.0\n",
      "  (0, 941)\t1.0\n",
      "  (0, 349)\t1.0\n",
      "  (0, 898)\t1.0\n",
      "  (0, 84)\t1.0\n",
      "  (0, 280)\t1.0\n",
      "  (0, 126)\t1.0\n",
      "<class 'scipy.sparse.csr.csr_matrix'>\n",
      "(1052, 1052)\n",
      "<bound method csr_matrix.todense of <1052x1052 sparse matrix of type '<type 'numpy.float64'>'\n",
      "\twith 21040 stored elements in Compressed Sparse Row format>>\n"
     ]
    }
   ],
   "source": [
    "W = kneighbors_graph(X_sel.T, 20, include_self=True)\n",
    "print W[0]\n",
    "print type(W)\n",
    "print W.shape\n",
    "print(W.todense)"
   ]
  },
  {
   "cell_type": "code",
   "execution_count": 58,
   "metadata": {
    "collapsed": false
   },
   "outputs": [
    {
     "data": {
      "image/png": "[encoded data removed]",
      "text/plain": [
       "<matplotlib.figure.Figure at 0x7fa85e20c850>"
      ]
     },
     "metadata": {},
     "output_type": "display_data"
    }
   ],
   "source": [
    "G = nx.from_scipy_sparse_matrix(W)\n",
    "node_colors= spclus_pred\n",
    "nx.draw(G, node_size = 90, node_color = spclus_pred, cmap = 'jet') # cmap=cm.RdYlGn)"
   ]
  },
  {
   "cell_type": "code",
   "execution_count": 59,
   "metadata": {
    "collapsed": false
   },
   "outputs": [
    {
     "data": {
      "text/plain": [
       "1052"
      ]
     },
     "execution_count": 59,
     "metadata": {},
     "output_type": "execute_result"
    }
   ],
   "source": [
    "X_sel.T.shape[0]"
   ]
  },
  {
   "cell_type": "code",
   "execution_count": 60,
   "metadata": {
    "collapsed": false
   },
   "outputs": [
    {
     "data": {
      "text/plain": [
       "array([ 6.9286,  6.3744,  7.0009,  6.9242,  6.6042,  5.9138,  5.9492,\n",
       "        6.4743,  5.9561,  6.0311,  5.9379,  6.1718,  6.3482,  7.0314,\n",
       "        6.41  ,  6.3318,  6.9734,  7.1704,  6.0093,  5.9706,  6.4635,\n",
       "        6.0309,  5.9327,  6.0109,  6.3715,  6.3332,  6.0741,  6.2482,\n",
       "        6.2126,  5.7967,  6.2235,  6.2909,  6.2885,  5.9264,  6.192 ,\n",
       "        5.9799,  6.3838,  5.7666,  6.0259,  7.0307,  5.8527,  6.0883,\n",
       "        5.9425,  5.6263,  6.1412,  5.8764,  6.4878,  5.9421,  5.8009,\n",
       "        6.3144,  6.5489,  5.8124,  6.5641,  6.4215,  6.5443,  6.3921,\n",
       "        6.0914,  5.9341,  6.4097,  6.0041,  6.5622,  5.9637,  5.607 ,\n",
       "        6.5411,  6.3784,  6.6402,  6.3968,  5.683 ,  6.0456,  6.1246,\n",
       "        6.3159,  5.9689,  5.6105,  5.8713,  6.3989,  6.3164,  6.4728,\n",
       "        6.5783,  6.2955,  6.192 ,  6.7289,  6.5267,  6.7789,  6.2144,\n",
       "        6.41  ,  5.6753,  5.9881,  6.5689,  5.7473,  6.6582,  5.9572,\n",
       "        5.9799,  6.0703,  5.7136,  7.0588,  5.8196,  5.7467,  6.1195,\n",
       "        6.3317,  7.0408,  6.0955,  6.6886,  6.2153,  5.7594,  5.8065,\n",
       "        5.9275,  5.8576,  5.8217,  6.9488,  6.6005,  6.1213,  6.57  ,\n",
       "        6.4156,  6.5425,  6.3508,  5.9275,  6.6162,  6.425 ,  6.2488,\n",
       "        7.245 ,  6.2785,  6.2895,  6.4126,  6.1829,  6.3684,  5.8033,\n",
       "        5.9631,  7.2974])"
      ]
     },
     "execution_count": 60,
     "metadata": {},
     "output_type": "execute_result"
    }
   ],
   "source": [
    "X_sel2 = DataFrame.as_matrix(X_sel)\n",
    "X_sel2[:,1]"
   ]
  },
  {
   "cell_type": "code",
   "execution_count": 61,
   "metadata": {
    "collapsed": false
   },
   "outputs": [
    {
     "name": "stdout",
     "output_type": "stream",
     "text": [
      "1052\n",
      "(128, 1052)\n",
      "(1052, 1052)\n",
      "[[  1.00000000e+00   3.26982603e-08   9.33695508e-17 ...,   6.39759705e-13\n",
      "    8.38997846e-36   7.34570312e-02]\n",
      " [  3.26982603e-08   1.00000000e+00   5.39575379e-10 ...,   1.24335764e-17\n",
      "    4.04227249e-19   2.05935560e-09]\n",
      " [  9.33695508e-17   5.39575379e-10   1.00000000e+00 ...,   4.11806175e-16\n",
      "    3.43415756e-09   1.02519089e-19]\n",
      " ..., \n",
      " [  6.39759705e-13   1.24335764e-17   4.11806175e-16 ...,   1.00000000e+00\n",
      "    6.26293413e-37   1.11716526e-13]\n",
      " [  8.38997846e-36   4.04227249e-19   3.43415756e-09 ...,   6.26293413e-37\n",
      "    1.00000000e+00   9.33221759e-40]\n",
      " [  7.34570312e-02   2.05935560e-09   1.02519089e-19 ...,   1.11716526e-13\n",
      "    9.33221759e-40   1.00000000e+00]]\n",
      "(128, 1052)\n"
     ]
    }
   ],
   "source": [
    "#n = 50\n",
    "#ncSample = numberClasses.loc[np.random.choice(numberClasses.index, n, replace=False)]\n",
    "\n",
    "n = X_sel2.shape[1]\n",
    "W = np.zeros((n,n))\n",
    "print n\n",
    "print X_sel2.shape\n",
    "print W.shape\n",
    "sigma = 1.25\n",
    "\n",
    "for i in range(n):\n",
    "    for j in range(n):\n",
    "        W[i,j] = np.exp(-np.sum((X_sel2[:,i] - X_sel2[:,j])**2)/(2*sigma**2))\n",
    "        \n",
    "print W\n",
    "print X_sel2.shape"
   ]
  },
  {
   "cell_type": "code",
   "execution_count": 62,
   "metadata": {
    "collapsed": false
   },
   "outputs": [
    {
     "data": {
      "text/plain": [
       "array([ 6.9286,  6.3744,  7.0009,  6.9242,  6.6042,  5.9138,  5.9492,\n",
       "        6.4743,  5.9561,  6.0311,  5.9379,  6.1718,  6.3482,  7.0314,\n",
       "        6.41  ,  6.3318,  6.9734,  7.1704,  6.0093,  5.9706,  6.4635,\n",
       "        6.0309,  5.9327,  6.0109,  6.3715,  6.3332,  6.0741,  6.2482,\n",
       "        6.2126,  5.7967,  6.2235,  6.2909,  6.2885,  5.9264,  6.192 ,\n",
       "        5.9799,  6.3838,  5.7666,  6.0259,  7.0307,  5.8527,  6.0883,\n",
       "        5.9425,  5.6263,  6.1412,  5.8764,  6.4878,  5.9421,  5.8009,\n",
       "        6.3144,  6.5489,  5.8124,  6.5641,  6.4215,  6.5443,  6.3921,\n",
       "        6.0914,  5.9341,  6.4097,  6.0041,  6.5622,  5.9637,  5.607 ,\n",
       "        6.5411,  6.3784,  6.6402,  6.3968,  5.683 ,  6.0456,  6.1246,\n",
       "        6.3159,  5.9689,  5.6105,  5.8713,  6.3989,  6.3164,  6.4728,\n",
       "        6.5783,  6.2955,  6.192 ,  6.7289,  6.5267,  6.7789,  6.2144,\n",
       "        6.41  ,  5.6753,  5.9881,  6.5689,  5.7473,  6.6582,  5.9572,\n",
       "        5.9799,  6.0703,  5.7136,  7.0588,  5.8196,  5.7467,  6.1195,\n",
       "        6.3317,  7.0408,  6.0955,  6.6886,  6.2153,  5.7594,  5.8065,\n",
       "        5.9275,  5.8576,  5.8217,  6.9488,  6.6005,  6.1213,  6.57  ,\n",
       "        6.4156,  6.5425,  6.3508,  5.9275,  6.6162,  6.425 ,  6.2488,\n",
       "        7.245 ,  6.2785,  6.2895,  6.4126,  6.1829,  6.3684,  5.8033,\n",
       "        5.9631,  7.2974])"
      ]
     },
     "execution_count": 62,
     "metadata": {},
     "output_type": "execute_result"
    }
   ],
   "source": [
    "X_sel2[:,1]"
   ]
  },
  {
   "cell_type": "code",
   "execution_count": 63,
   "metadata": {
    "collapsed": false
   },
   "outputs": [
    {
     "data": {
      "text/plain": [
       "array([0, 0, 0, ..., 0, 1, 0])"
      ]
     },
     "execution_count": 63,
     "metadata": {},
     "output_type": "execute_result"
    }
   ],
   "source": [
    "spclus_pred"
   ]
  },
  {
   "cell_type": "code",
   "execution_count": 64,
   "metadata": {
    "collapsed": false,
    "scrolled": true
   },
   "outputs": [
    {
     "data": {
      "image/png": "[encoded data removed]",
      "text/plain": [
       "<matplotlib.figure.Figure at 0x7fa85d6ac3d0>"
      ]
     },
     "metadata": {},
     "output_type": "display_data"
    }
   ],
   "source": [
    "G = nx.Graph(W)\n",
    "node_colors= spclus_pred\n",
    "nx.draw(G, node_size = 90, node_color = spclus_pred, cmap=cm.RdYlGn)"
   ]
  },
  {
   "cell_type": "code",
   "execution_count": 65,
   "metadata": {
    "collapsed": false
   },
   "outputs": [
    {
     "data": {
      "image/png": "[encoded data removed]",
      "text/plain": [
       "<matplotlib.figure.Figure at 0x7fa85df98710>"
      ]
     },
     "metadata": {},
     "output_type": "display_data"
    }
   ],
   "source": [
    "plt.pcolor(X_sel, cmap=cm.RdYlGn)\n",
    "plt.show()"
   ]
  },
  {
   "cell_type": "code",
   "execution_count": 66,
   "metadata": {
    "collapsed": false
   },
   "outputs": [
    {
     "data": {
      "text/plain": [
       "5.3957537904267473e-10"
      ]
     },
     "execution_count": 66,
     "metadata": {},
     "output_type": "execute_result"
    }
   ],
   "source": [
    "W[2,1]"
   ]
  },
  {
   "cell_type": "code",
   "execution_count": 67,
   "metadata": {
    "collapsed": false
   },
   "outputs": [],
   "source": [
    "#ax = sns.heatmap(X_sel)"
   ]
  },
  {
   "cell_type": "code",
   "execution_count": 68,
   "metadata": {
    "collapsed": false
   },
   "outputs": [
    {
     "data": {
      "text/html": [
       "<div>\n",
       "<table border=\"1\" class=\"dataframe\">\n",
       "  <thead>\n",
       "    <tr style=\"text-align: right;\">\n",
       "      <th></th>\n",
       "      <th>0</th>\n",
       "      <th>1</th>\n",
       "      <th>2</th>\n",
       "      <th>3</th>\n",
       "      <th>4</th>\n",
       "      <th>5</th>\n",
       "      <th>6</th>\n",
       "      <th>7</th>\n",
       "      <th>8</th>\n",
       "      <th>9</th>\n",
       "      <th>...</th>\n",
       "      <th>118</th>\n",
       "      <th>119</th>\n",
       "      <th>120</th>\n",
       "      <th>121</th>\n",
       "      <th>122</th>\n",
       "      <th>123</th>\n",
       "      <th>124</th>\n",
       "      <th>125</th>\n",
       "      <th>126</th>\n",
       "      <th>127</th>\n",
       "    </tr>\n",
       "  </thead>\n",
       "  <tbody>\n",
       "    <tr>\n",
       "      <th>GI_10047089-S</th>\n",
       "      <td>5.3416</td>\n",
       "      <td>5.6259</td>\n",
       "      <td>5.6181</td>\n",
       "      <td>5.5602</td>\n",
       "      <td>5.5385</td>\n",
       "      <td>5.486</td>\n",
       "      <td>5.6556</td>\n",
       "      <td>5.8338</td>\n",
       "      <td>5.8608</td>\n",
       "      <td>5.7385</td>\n",
       "      <td>...</td>\n",
       "      <td>5.5907</td>\n",
       "      <td>5.5428</td>\n",
       "      <td>5.6417</td>\n",
       "      <td>5.5094</td>\n",
       "      <td>5.6826</td>\n",
       "      <td>5.6464</td>\n",
       "      <td>5.6538</td>\n",
       "      <td>5.6151</td>\n",
       "      <td>5.4363</td>\n",
       "      <td>5.5378</td>\n",
       "    </tr>\n",
       "    <tr>\n",
       "      <th>GI_10047091-S</th>\n",
       "      <td>5.846</td>\n",
       "      <td>5.8742</td>\n",
       "      <td>5.8026</td>\n",
       "      <td>5.8394</td>\n",
       "      <td>5.8876</td>\n",
       "      <td>5.8161</td>\n",
       "      <td>5.6843</td>\n",
       "      <td>5.7469</td>\n",
       "      <td>5.8936</td>\n",
       "      <td>5.7666</td>\n",
       "      <td>...</td>\n",
       "      <td>5.8654</td>\n",
       "      <td>6.1814</td>\n",
       "      <td>5.6987</td>\n",
       "      <td>6.0521</td>\n",
       "      <td>5.9005</td>\n",
       "      <td>5.7906</td>\n",
       "      <td>5.7275</td>\n",
       "      <td>5.8033</td>\n",
       "      <td>5.9836</td>\n",
       "      <td>5.8515</td>\n",
       "    </tr>\n",
       "    <tr>\n",
       "      <th>GI_10047093-S</th>\n",
       "      <td>6.7052</td>\n",
       "      <td>6.8089</td>\n",
       "      <td>6.6975</td>\n",
       "      <td>6.8386</td>\n",
       "      <td>6.572</td>\n",
       "      <td>6.7812</td>\n",
       "      <td>6.5955</td>\n",
       "      <td>6.5743</td>\n",
       "      <td>6.8306</td>\n",
       "      <td>7.1172</td>\n",
       "      <td>...</td>\n",
       "      <td>7.0968</td>\n",
       "      <td>6.615</td>\n",
       "      <td>6.8165</td>\n",
       "      <td>7.7491</td>\n",
       "      <td>6.8423</td>\n",
       "      <td>6.6567</td>\n",
       "      <td>6.578</td>\n",
       "      <td>7.094</td>\n",
       "      <td>7.0487</td>\n",
       "      <td>6.9199</td>\n",
       "    </tr>\n",
       "    <tr>\n",
       "      <th>GI_10047099-S</th>\n",
       "      <td>6.4184</td>\n",
       "      <td>6.6955</td>\n",
       "      <td>6.5851</td>\n",
       "      <td>6.7055</td>\n",
       "      <td>6.1651</td>\n",
       "      <td>6.3078</td>\n",
       "      <td>6.3591</td>\n",
       "      <td>6.1494</td>\n",
       "      <td>6.524</td>\n",
       "      <td>6.4357</td>\n",
       "      <td>...</td>\n",
       "      <td>5.9907</td>\n",
       "      <td>5.8993</td>\n",
       "      <td>5.862</td>\n",
       "      <td>5.9756</td>\n",
       "      <td>6.1138</td>\n",
       "      <td>5.8039</td>\n",
       "      <td>5.9087</td>\n",
       "      <td>5.881</td>\n",
       "      <td>6.0302</td>\n",
       "      <td>6.0595</td>\n",
       "    </tr>\n",
       "    <tr>\n",
       "      <th>GI_10047103-S</th>\n",
       "      <td>8.6651</td>\n",
       "      <td>8.6113</td>\n",
       "      <td>8.3808</td>\n",
       "      <td>8.4486</td>\n",
       "      <td>8.8246</td>\n",
       "      <td>8.0737</td>\n",
       "      <td>8.0979</td>\n",
       "      <td>8.0817</td>\n",
       "      <td>8.5717</td>\n",
       "      <td>8.5855</td>\n",
       "      <td>...</td>\n",
       "      <td>8.1376</td>\n",
       "      <td>8.4599</td>\n",
       "      <td>8.5959</td>\n",
       "      <td>8.4325</td>\n",
       "      <td>8.2017</td>\n",
       "      <td>8.5654</td>\n",
       "      <td>8.6179</td>\n",
       "      <td>8.6572</td>\n",
       "      <td>8.632</td>\n",
       "      <td>8.0838</td>\n",
       "    </tr>\n",
       "  </tbody>\n",
       "</table>\n",
       "<p>5 rows × 128 columns</p>\n",
       "</div>"
      ],
      "text/plain": [
       "                  0       1       2       3       4       5       6       7    \\\n",
       "GI_10047089-S  5.3416  5.6259  5.6181  5.5602  5.5385   5.486  5.6556  5.8338   \n",
       "GI_10047091-S   5.846  5.8742  5.8026  5.8394  5.8876  5.8161  5.6843  5.7469   \n",
       "GI_10047093-S  6.7052  6.8089  6.6975  6.8386   6.572  6.7812  6.5955  6.5743   \n",
       "GI_10047099-S  6.4184  6.6955  6.5851  6.7055  6.1651  6.3078  6.3591  6.1494   \n",
       "GI_10047103-S  8.6651  8.6113  8.3808  8.4486  8.8246  8.0737  8.0979  8.0817   \n",
       "\n",
       "                  8       9     ...       118     119     120     121     122  \\\n",
       "GI_10047089-S  5.8608  5.7385   ...    5.5907  5.5428  5.6417  5.5094  5.6826   \n",
       "GI_10047091-S  5.8936  5.7666   ...    5.8654  6.1814  5.6987  6.0521  5.9005   \n",
       "GI_10047093-S  6.8306  7.1172   ...    7.0968   6.615  6.8165  7.7491  6.8423   \n",
       "GI_10047099-S   6.524  6.4357   ...    5.9907  5.8993   5.862  5.9756  6.1138   \n",
       "GI_10047103-S  8.5717  8.5855   ...    8.1376  8.4599  8.5959  8.4325  8.2017   \n",
       "\n",
       "                  123     124     125     126     127  \n",
       "GI_10047089-S  5.6464  5.6538  5.6151  5.4363  5.5378  \n",
       "GI_10047091-S  5.7906  5.7275  5.8033  5.9836  5.8515  \n",
       "GI_10047093-S  6.6567   6.578   7.094  7.0487  6.9199  \n",
       "GI_10047099-S  5.8039  5.9087   5.881  6.0302  6.0595  \n",
       "GI_10047103-S  8.5654  8.6179  8.6572   8.632  8.0838  \n",
       "\n",
       "[5 rows x 128 columns]"
      ]
     },
     "execution_count": 68,
     "metadata": {},
     "output_type": "execute_result"
    }
   ],
   "source": [
    "data2.T.head()"
   ]
  },
  {
   "cell_type": "code",
   "execution_count": 69,
   "metadata": {
    "collapsed": false
   },
   "outputs": [
    {
     "data": {
      "text/plain": [
       "5.3416"
      ]
     },
     "execution_count": 69,
     "metadata": {},
     "output_type": "execute_result"
    }
   ],
   "source": [
    "data2.T.head()[0]['GI_10047089-S']"
   ]
  },
  {
   "cell_type": "code",
   "execution_count": null,
   "metadata": {
    "collapsed": true
   },
   "outputs": [],
   "source": []
  },
  {
   "cell_type": "code",
   "execution_count": null,
   "metadata": {
    "collapsed": true
   },
   "outputs": [],
   "source": []
  },
  {
   "cell_type": "code",
   "execution_count": null,
   "metadata": {
    "collapsed": true
   },
   "outputs": [],
   "source": []
  }
 ],
 "metadata": {
  "kernelspec": {
   "display_name": "Python 2",
   "language": "python",
   "name": "python2"
  },
  "language_info": {
   "codemirror_mode": {
    "name": "ipython",
    "version": 2
   },
   "file_extension": ".py",
   "mimetype": "text/x-python",
   "name": "python",
   "nbconvert_exporter": "python",
   "pygments_lexer": "ipython2",
   "version": "2.7.11"
  }
 },
 "nbformat": 4,
 "nbformat_minor": 0
}
